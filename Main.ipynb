{
 "cells": [
  {
   "cell_type": "markdown",
   "id": "2bdf1fb1-ab78-4d07-99d5-c79de324273f",
   "metadata": {},
   "source": [
    "# Data Analyst Challenge\n",
    "\n",
    "Author: Andres Restrepo"
   ]
  },
  {
   "cell_type": "markdown",
   "id": "b4a43d68-8b92-4ccd-bab5-7863aff43756",
   "metadata": {},
   "source": [
    "## Libraries"
   ]
  },
  {
   "cell_type": "code",
   "execution_count": 101,
   "id": "bd2bebf5-7fa5-49b5-aeae-c5217a1a15d4",
   "metadata": {},
   "outputs": [],
   "source": [
    "#pip install psycopg2"
   ]
  },
  {
   "cell_type": "code",
   "execution_count": 102,
   "id": "9e85d18f-a8d1-46f9-91ae-7ba3129f3adc",
   "metadata": {},
   "outputs": [],
   "source": [
    "#pip install ydata-profiling"
   ]
  },
  {
   "cell_type": "code",
   "execution_count": 103,
   "id": "e48e693a-d90d-404b-9133-ef191c1724a0",
   "metadata": {},
   "outputs": [],
   "source": [
    "#pip install --upgrade ydata-profiling"
   ]
  },
  {
   "cell_type": "code",
   "execution_count": 104,
   "id": "babbb6dd-77fb-417b-8a6e-5afc69ab7c73",
   "metadata": {},
   "outputs": [],
   "source": [
    "#pip install wordcloud"
   ]
  },
  {
   "cell_type": "code",
   "execution_count": 105,
   "id": "c2c04189-399d-49d7-a2f3-9a2bcfb5aa8c",
   "metadata": {},
   "outputs": [],
   "source": [
    "#pip install matplotlib"
   ]
  },
  {
   "cell_type": "code",
   "execution_count": 106,
   "id": "7b8d3506-9b43-492e-b913-66054ec465ae",
   "metadata": {},
   "outputs": [],
   "source": [
    "#pip install --upgrade matplotlib"
   ]
  },
  {
   "cell_type": "code",
   "execution_count": 107,
   "id": "6fa2023a-05ce-4172-87f0-0ca4a447fcc0",
   "metadata": {},
   "outputs": [],
   "source": [
    "#pip show matplotlib"
   ]
  },
  {
   "cell_type": "code",
   "execution_count": 108,
   "id": "789d4b39-18cb-4ae2-a9aa-c82cbfe252e6",
   "metadata": {},
   "outputs": [],
   "source": [
    "#conda install --update matplotlib"
   ]
  },
  {
   "cell_type": "code",
   "execution_count": 109,
   "id": "285ac80b-38cd-4e18-bdb7-070323728199",
   "metadata": {},
   "outputs": [],
   "source": [
    "#conda update --all"
   ]
  },
  {
   "cell_type": "code",
   "execution_count": 110,
   "id": "f660e547-e13d-4c64-a408-d3132fc4deef",
   "metadata": {},
   "outputs": [],
   "source": [
    "#pip install --upgrade pydantic"
   ]
  },
  {
   "cell_type": "code",
   "execution_count": 111,
   "id": "46a687ef-1d5f-4912-a306-0842a96feaae",
   "metadata": {},
   "outputs": [],
   "source": [
    "#pip install pydantic"
   ]
  },
  {
   "cell_type": "code",
   "execution_count": 112,
   "id": "d56185c5-eaf2-4a26-996e-cdb9960755e5",
   "metadata": {},
   "outputs": [],
   "source": [
    "#pip install pydantic-settings"
   ]
  },
  {
   "cell_type": "code",
   "execution_count": 113,
   "id": "ebcb3c4b-a9ed-4cba-9d3f-921293fbcb96",
   "metadata": {},
   "outputs": [],
   "source": [
    "#pip uninstall pydantic"
   ]
  },
  {
   "cell_type": "code",
   "execution_count": 114,
   "id": "01fceb93-5ab1-4940-83b7-ff81daeb3635",
   "metadata": {},
   "outputs": [],
   "source": [
    "#pip install ydata-profiling==4.0.0"
   ]
  },
  {
   "cell_type": "code",
   "execution_count": 115,
   "id": "ee123e77-f828-4d2c-ab25-fde8b6bd99e7",
   "metadata": {},
   "outputs": [],
   "source": [
    "#pip install sqlalchemy"
   ]
  },
  {
   "cell_type": "code",
   "execution_count": 116,
   "id": "2057770d-a0e7-4658-9453-3bc03046ad13",
   "metadata": {},
   "outputs": [],
   "source": [
    "#pip install --upgrade typing-extensions"
   ]
  },
  {
   "cell_type": "code",
   "execution_count": 117,
   "id": "dc1008aa-99b3-47b4-bbf7-a498b06d4437",
   "metadata": {},
   "outputs": [],
   "source": [
    "#pip uninstall typing-extensions"
   ]
  },
  {
   "cell_type": "code",
   "execution_count": 118,
   "id": "949d619f-85b9-4268-940b-120bf3eb3f13",
   "metadata": {},
   "outputs": [],
   "source": [
    "#pip install typing-extensions"
   ]
  },
  {
   "cell_type": "code",
   "execution_count": 119,
   "id": "06679a9d-513c-4293-8cd9-914055cdd9df",
   "metadata": {},
   "outputs": [],
   "source": [
    "#conda install sqlalchemy"
   ]
  },
  {
   "cell_type": "code",
   "execution_count": 120,
   "id": "d8a6475d-3d67-4c87-ae5b-55f56fb0bd6d",
   "metadata": {},
   "outputs": [],
   "source": [
    "#conda install pandas_profiling"
   ]
  },
  {
   "cell_type": "code",
   "execution_count": 121,
   "id": "5982a944-616e-42b8-a6ea-571801c1fa94",
   "metadata": {
    "tags": []
   },
   "outputs": [],
   "source": [
    "import psycopg2\n",
    "import pandas as pd\n",
    "#import pydantic\n",
    "#from pydantic.version import version_short\n",
    "#from pydantic_settings import BaseSettings\n",
    "#from ydata_profiling import ProfileReport\n",
    "#from pandas_profiling import ProfileReport\n",
    "#from wordcloud import WordCloud\n",
    "import matplotlib\n",
    "import matplotlib.pyplot as plt\n",
    "from sqlalchemy import create_engine"
   ]
  },
  {
   "cell_type": "code",
   "execution_count": 122,
   "id": "8aaa8bf8-88cc-4e74-9fed-cc8684f96381",
   "metadata": {},
   "outputs": [],
   "source": [
    "# plt.rcParams['font.family'] = 'Arial'  # Specify the font family you want to use\n",
    "# matplotlib.use('Agg')  # Use the Agg backend (for PNGs)"
   ]
  },
  {
   "cell_type": "markdown",
   "id": "79b86910-06c7-4277-9452-9ed953b708d4",
   "metadata": {},
   "source": [
    "# Connecting to PostgreSQL"
   ]
  },
  {
   "cell_type": "code",
   "execution_count": 123,
   "id": "1d455e03-7dcf-495d-ba5f-fa5d56a7baac",
   "metadata": {},
   "outputs": [],
   "source": [
    "# Connection parameters\n",
    "hostname = 'localhost'\n",
    "username = 'postgres'\n",
    "password = 'Evolucion.2024'\n",
    "database = 'ces_usa'\n",
    "\n",
    "# Establish connection\n",
    "connection = psycopg2.connect(\n",
    "    host=hostname,\n",
    "    user=username,\n",
    "    password=password,\n",
    "    dbname=database\n",
    ")"
   ]
  },
  {
   "cell_type": "markdown",
   "id": "5baa40a1-21fb-4418-bb78-f8a24d79bf75",
   "metadata": {
    "tags": []
   },
   "source": [
    "## Reading Government data"
   ]
  },
  {
   "cell_type": "code",
   "execution_count": 124,
   "id": "4a5ba7cd-4dbe-44a0-bbe2-ec8345028e69",
   "metadata": {},
   "outputs": [],
   "source": [
    "# Define SQL query\n",
    "query_gov = \"SELECT * FROM nimble.ce_data_90a;\"\n",
    "\n",
    "# Execute query and fetch data into a pandas DataFrame\n",
    "df_gov = pd.read_sql_query(query_gov, connection)\n"
   ]
  },
  {
   "cell_type": "code",
   "execution_count": 125,
   "id": "d197d2d6-7a91-4bc3-84f3-0d24c8c8702f",
   "metadata": {},
   "outputs": [
    {
     "data": {
      "text/plain": [
       "series_id         object\n",
       "year               int64\n",
       "period            object\n",
       "value              int64\n",
       "footnote_codes    object\n",
       "dtype: object"
      ]
     },
     "execution_count": 125,
     "metadata": {},
     "output_type": "execute_result"
    }
   ],
   "source": [
    "df_gov.dtypes"
   ]
  },
  {
   "cell_type": "code",
   "execution_count": 126,
   "id": "0eda8e91-d9c6-4ff5-af51-9a072388bf89",
   "metadata": {},
   "outputs": [
    {
     "data": {
      "text/html": [
       "<div>\n",
       "<style scoped>\n",
       "    .dataframe tbody tr th:only-of-type {\n",
       "        vertical-align: middle;\n",
       "    }\n",
       "\n",
       "    .dataframe tbody tr th {\n",
       "        vertical-align: top;\n",
       "    }\n",
       "\n",
       "    .dataframe thead th {\n",
       "        text-align: right;\n",
       "    }\n",
       "</style>\n",
       "<table border=\"1\" class=\"dataframe\">\n",
       "  <thead>\n",
       "    <tr style=\"text-align: right;\">\n",
       "      <th></th>\n",
       "      <th>series_id</th>\n",
       "      <th>year</th>\n",
       "      <th>period</th>\n",
       "      <th>value</th>\n",
       "      <th>footnote_codes</th>\n",
       "    </tr>\n",
       "  </thead>\n",
       "  <tbody>\n",
       "    <tr>\n",
       "      <th>0</th>\n",
       "      <td>CES9000000001</td>\n",
       "      <td>1939</td>\n",
       "      <td>M01</td>\n",
       "      <td>3988</td>\n",
       "      <td>None</td>\n",
       "    </tr>\n",
       "    <tr>\n",
       "      <th>1</th>\n",
       "      <td>CES9000000001</td>\n",
       "      <td>1939</td>\n",
       "      <td>M02</td>\n",
       "      <td>4001</td>\n",
       "      <td>None</td>\n",
       "    </tr>\n",
       "    <tr>\n",
       "      <th>2</th>\n",
       "      <td>CES9000000001</td>\n",
       "      <td>1939</td>\n",
       "      <td>M03</td>\n",
       "      <td>4002</td>\n",
       "      <td>None</td>\n",
       "    </tr>\n",
       "    <tr>\n",
       "      <th>3</th>\n",
       "      <td>CES9000000001</td>\n",
       "      <td>1939</td>\n",
       "      <td>M04</td>\n",
       "      <td>4002</td>\n",
       "      <td>None</td>\n",
       "    </tr>\n",
       "    <tr>\n",
       "      <th>4</th>\n",
       "      <td>CES9000000001</td>\n",
       "      <td>1939</td>\n",
       "      <td>M05</td>\n",
       "      <td>4006</td>\n",
       "      <td>None</td>\n",
       "    </tr>\n",
       "    <tr>\n",
       "      <th>5</th>\n",
       "      <td>CES9000000001</td>\n",
       "      <td>1939</td>\n",
       "      <td>M06</td>\n",
       "      <td>4003</td>\n",
       "      <td>None</td>\n",
       "    </tr>\n",
       "    <tr>\n",
       "      <th>6</th>\n",
       "      <td>CES9000000001</td>\n",
       "      <td>1939</td>\n",
       "      <td>M07</td>\n",
       "      <td>4019</td>\n",
       "      <td>None</td>\n",
       "    </tr>\n",
       "    <tr>\n",
       "      <th>7</th>\n",
       "      <td>CES9000000001</td>\n",
       "      <td>1939</td>\n",
       "      <td>M08</td>\n",
       "      <td>4046</td>\n",
       "      <td>None</td>\n",
       "    </tr>\n",
       "    <tr>\n",
       "      <th>8</th>\n",
       "      <td>CES9000000001</td>\n",
       "      <td>1939</td>\n",
       "      <td>M09</td>\n",
       "      <td>4076</td>\n",
       "      <td>None</td>\n",
       "    </tr>\n",
       "    <tr>\n",
       "      <th>9</th>\n",
       "      <td>CES9000000001</td>\n",
       "      <td>1939</td>\n",
       "      <td>M10</td>\n",
       "      <td>4089</td>\n",
       "      <td>None</td>\n",
       "    </tr>\n",
       "    <tr>\n",
       "      <th>10</th>\n",
       "      <td>CES9000000001</td>\n",
       "      <td>1939</td>\n",
       "      <td>M11</td>\n",
       "      <td>4109</td>\n",
       "      <td>None</td>\n",
       "    </tr>\n",
       "    <tr>\n",
       "      <th>11</th>\n",
       "      <td>CES9000000001</td>\n",
       "      <td>1939</td>\n",
       "      <td>M12</td>\n",
       "      <td>4134</td>\n",
       "      <td>None</td>\n",
       "    </tr>\n",
       "    <tr>\n",
       "      <th>12</th>\n",
       "      <td>CES9000000001</td>\n",
       "      <td>1940</td>\n",
       "      <td>M01</td>\n",
       "      <td>4150</td>\n",
       "      <td>None</td>\n",
       "    </tr>\n",
       "    <tr>\n",
       "      <th>13</th>\n",
       "      <td>CES9000000001</td>\n",
       "      <td>1940</td>\n",
       "      <td>M02</td>\n",
       "      <td>4150</td>\n",
       "      <td>None</td>\n",
       "    </tr>\n",
       "    <tr>\n",
       "      <th>14</th>\n",
       "      <td>CES9000000001</td>\n",
       "      <td>1940</td>\n",
       "      <td>M03</td>\n",
       "      <td>4151</td>\n",
       "      <td>None</td>\n",
       "    </tr>\n",
       "  </tbody>\n",
       "</table>\n",
       "</div>"
      ],
      "text/plain": [
       "            series_id  year period  value footnote_codes\n",
       "0   CES9000000001      1939    M01   3988           None\n",
       "1   CES9000000001      1939    M02   4001           None\n",
       "2   CES9000000001      1939    M03   4002           None\n",
       "3   CES9000000001      1939    M04   4002           None\n",
       "4   CES9000000001      1939    M05   4006           None\n",
       "5   CES9000000001      1939    M06   4003           None\n",
       "6   CES9000000001      1939    M07   4019           None\n",
       "7   CES9000000001      1939    M08   4046           None\n",
       "8   CES9000000001      1939    M09   4076           None\n",
       "9   CES9000000001      1939    M10   4089           None\n",
       "10  CES9000000001      1939    M11   4109           None\n",
       "11  CES9000000001      1939    M12   4134           None\n",
       "12  CES9000000001      1940    M01   4150           None\n",
       "13  CES9000000001      1940    M02   4150           None\n",
       "14  CES9000000001      1940    M03   4151           None"
      ]
     },
     "execution_count": 126,
     "metadata": {},
     "output_type": "execute_result"
    }
   ],
   "source": [
    "df_gov.head(15)"
   ]
  },
  {
   "cell_type": "code",
   "execution_count": 127,
   "id": "2097010d-01e1-4f05-a156-d379b21b3ac3",
   "metadata": {},
   "outputs": [
    {
     "data": {
      "text/html": [
       "<div>\n",
       "<style scoped>\n",
       "    .dataframe tbody tr th:only-of-type {\n",
       "        vertical-align: middle;\n",
       "    }\n",
       "\n",
       "    .dataframe tbody tr th {\n",
       "        vertical-align: top;\n",
       "    }\n",
       "\n",
       "    .dataframe thead th {\n",
       "        text-align: right;\n",
       "    }\n",
       "</style>\n",
       "<table border=\"1\" class=\"dataframe\">\n",
       "  <thead>\n",
       "    <tr style=\"text-align: right;\">\n",
       "      <th></th>\n",
       "      <th>series_id</th>\n",
       "      <th>year</th>\n",
       "      <th>period</th>\n",
       "      <th>value</th>\n",
       "      <th>footnote_codes</th>\n",
       "    </tr>\n",
       "  </thead>\n",
       "  <tbody>\n",
       "    <tr>\n",
       "      <th>58434</th>\n",
       "      <td>CEU9093299910</td>\n",
       "      <td>2023</td>\n",
       "      <td>M09</td>\n",
       "      <td>6222</td>\n",
       "      <td>None</td>\n",
       "    </tr>\n",
       "    <tr>\n",
       "      <th>58435</th>\n",
       "      <td>CEU9093299910</td>\n",
       "      <td>2023</td>\n",
       "      <td>M10</td>\n",
       "      <td>6196</td>\n",
       "      <td>None</td>\n",
       "    </tr>\n",
       "    <tr>\n",
       "      <th>58436</th>\n",
       "      <td>CEU9093299910</td>\n",
       "      <td>2023</td>\n",
       "      <td>M11</td>\n",
       "      <td>6190</td>\n",
       "      <td>None</td>\n",
       "    </tr>\n",
       "    <tr>\n",
       "      <th>58437</th>\n",
       "      <td>CEU9093299910</td>\n",
       "      <td>2023</td>\n",
       "      <td>M12</td>\n",
       "      <td>6207</td>\n",
       "      <td>P</td>\n",
       "    </tr>\n",
       "    <tr>\n",
       "      <th>58438</th>\n",
       "      <td>CEU9093299910</td>\n",
       "      <td>2023</td>\n",
       "      <td>M13</td>\n",
       "      <td>6214</td>\n",
       "      <td>P</td>\n",
       "    </tr>\n",
       "  </tbody>\n",
       "</table>\n",
       "</div>"
      ],
      "text/plain": [
       "               series_id  year period  value footnote_codes\n",
       "58434  CEU9093299910      2023    M09   6222           None\n",
       "58435  CEU9093299910      2023    M10   6196           None\n",
       "58436  CEU9093299910      2023    M11   6190           None\n",
       "58437  CEU9093299910      2023    M12   6207              P\n",
       "58438  CEU9093299910      2023    M13   6214              P"
      ]
     },
     "execution_count": 127,
     "metadata": {},
     "output_type": "execute_result"
    }
   ],
   "source": [
    "df_gov.tail()"
   ]
  },
  {
   "cell_type": "code",
   "execution_count": 128,
   "id": "f9a1a607-1e64-4dc3-b1f8-e02f98fbd90b",
   "metadata": {},
   "outputs": [],
   "source": [
    "#df_gov.columns"
   ]
  },
  {
   "cell_type": "code",
   "execution_count": 129,
   "id": "a5fb3842-3022-4ae6-831a-b37cfea844f0",
   "metadata": {},
   "outputs": [
    {
     "data": {
      "text/plain": [
       "array(['CES9000000001    ', 'CES9000000010    ', 'CES9091000001    ',\n",
       "       'CES9091000010    ', 'CES9091100001    ', 'CES9091100010    ',\n",
       "       'CES9091622001    ', 'CES9091622010    ', 'CES9091911001    ',\n",
       "       'CES9091911010    ', 'CES9091912001    ', 'CES9091912010    ',\n",
       "       'CES9091999901    ', 'CES9091999910    ', 'CES9092000001    ',\n",
       "       'CES9092000010    ', 'CES9092161101    ', 'CES9092161110    ',\n",
       "       'CES9092200001    ', 'CES9092200010    ', 'CES9092262201    ',\n",
       "       'CES9092262210    ', 'CES9092292001    ', 'CES9092292010    ',\n",
       "       'CES9092299901    ', 'CES9092299910    ', 'CES9093000001    ',\n",
       "       'CES9093000010    ', 'CES9093161101    ', 'CES9093161110    ',\n",
       "       'CES9093200001    ', 'CES9093200010    ', 'CES9093222101    ',\n",
       "       'CES9093222110    ', 'CES9093248001    ', 'CES9093248010    ',\n",
       "       'CES9093262201    ', 'CES9093262210    ', 'CES9093292001    ',\n",
       "       'CES9093292010    ', 'CES9093299901    ', 'CES9093299910    ',\n",
       "       'CEU9000000001    ', 'CEU9000000010    ', 'CEU9091000001    ',\n",
       "       'CEU9091000010    ', 'CEU9091100001    ', 'CEU9091100010    ',\n",
       "       'CEU9091622001    ', 'CEU9091622010    ', 'CEU9091911001    ',\n",
       "       'CEU9091911010    ', 'CEU9091912001    ', 'CEU9091912010    ',\n",
       "       'CEU9091999901    ', 'CEU9091999910    ', 'CEU9092000001    ',\n",
       "       'CEU9092000010    ', 'CEU9092161101    ', 'CEU9092161110    ',\n",
       "       'CEU9092200001    ', 'CEU9092200010    ', 'CEU9092262201    ',\n",
       "       'CEU9092262210    ', 'CEU9092292001    ', 'CEU9092292010    ',\n",
       "       'CEU9092299901    ', 'CEU9092299910    ', 'CEU9093000001    ',\n",
       "       'CEU9093000010    ', 'CEU9093161101    ', 'CEU9093161110    ',\n",
       "       'CEU9093200001    ', 'CEU9093200010    ', 'CEU9093222101    ',\n",
       "       'CEU9093222110    ', 'CEU9093248001    ', 'CEU9093248010    ',\n",
       "       'CEU9093262201    ', 'CEU9093262210    ', 'CEU9093292001    ',\n",
       "       'CEU9093292010    ', 'CEU9093299901    ', 'CEU9093299910    '],\n",
       "      dtype=object)"
      ]
     },
     "execution_count": 129,
     "metadata": {},
     "output_type": "execute_result"
    }
   ],
   "source": [
    "df_gov['series_id'].unique()"
   ]
  },
  {
   "cell_type": "markdown",
   "id": "a1715487-2ccc-4bc2-ace6-74b0042e8c40",
   "metadata": {},
   "source": [
    "__There were blank spaces in series_id__"
   ]
  },
  {
   "cell_type": "markdown",
   "id": "e37d2ede-6749-43ee-98af-dc3648fc9e5d",
   "metadata": {
    "tags": []
   },
   "source": [
    "### Data cleaning"
   ]
  },
  {
   "cell_type": "markdown",
   "id": "03b2ead1-65bf-435c-bc9c-6edebe9a1097",
   "metadata": {},
   "source": [
    "#### Series id"
   ]
  },
  {
   "cell_type": "code",
   "execution_count": 130,
   "id": "10b34b20-2e79-408f-9723-c084891c4f64",
   "metadata": {},
   "outputs": [],
   "source": [
    "df_gov['series_id'] = df_gov['series_id'].str.strip()"
   ]
  },
  {
   "cell_type": "code",
   "execution_count": 131,
   "id": "8a43da32-74c3-49be-96ea-b4aae0c11169",
   "metadata": {},
   "outputs": [
    {
     "data": {
      "text/plain": [
       "array(['CES9000000001', 'CES9000000010', 'CES9091000001', 'CES9091000010',\n",
       "       'CES9091100001', 'CES9091100010', 'CES9091622001', 'CES9091622010',\n",
       "       'CES9091911001', 'CES9091911010', 'CES9091912001', 'CES9091912010',\n",
       "       'CES9091999901', 'CES9091999910', 'CES9092000001', 'CES9092000010',\n",
       "       'CES9092161101', 'CES9092161110', 'CES9092200001', 'CES9092200010',\n",
       "       'CES9092262201', 'CES9092262210', 'CES9092292001', 'CES9092292010',\n",
       "       'CES9092299901', 'CES9092299910', 'CES9093000001', 'CES9093000010',\n",
       "       'CES9093161101', 'CES9093161110', 'CES9093200001', 'CES9093200010',\n",
       "       'CES9093222101', 'CES9093222110', 'CES9093248001', 'CES9093248010',\n",
       "       'CES9093262201', 'CES9093262210', 'CES9093292001', 'CES9093292010',\n",
       "       'CES9093299901', 'CES9093299910', 'CEU9000000001', 'CEU9000000010',\n",
       "       'CEU9091000001', 'CEU9091000010', 'CEU9091100001', 'CEU9091100010',\n",
       "       'CEU9091622001', 'CEU9091622010', 'CEU9091911001', 'CEU9091911010',\n",
       "       'CEU9091912001', 'CEU9091912010', 'CEU9091999901', 'CEU9091999910',\n",
       "       'CEU9092000001', 'CEU9092000010', 'CEU9092161101', 'CEU9092161110',\n",
       "       'CEU9092200001', 'CEU9092200010', 'CEU9092262201', 'CEU9092262210',\n",
       "       'CEU9092292001', 'CEU9092292010', 'CEU9092299901', 'CEU9092299910',\n",
       "       'CEU9093000001', 'CEU9093000010', 'CEU9093161101', 'CEU9093161110',\n",
       "       'CEU9093200001', 'CEU9093200010', 'CEU9093222101', 'CEU9093222110',\n",
       "       'CEU9093248001', 'CEU9093248010', 'CEU9093262201', 'CEU9093262210',\n",
       "       'CEU9093292001', 'CEU9093292010', 'CEU9093299901', 'CEU9093299910'],\n",
       "      dtype=object)"
      ]
     },
     "execution_count": 131,
     "metadata": {},
     "output_type": "execute_result"
    }
   ],
   "source": [
    "df_gov['series_id'].unique()"
   ]
  },
  {
   "cell_type": "code",
   "execution_count": 132,
   "id": "545ac6b5-9bff-4998-b5ce-158f5b7ea833",
   "metadata": {},
   "outputs": [],
   "source": [
    "### Data profiling (Not working)"
   ]
  },
  {
   "cell_type": "code",
   "execution_count": 133,
   "id": "75cf91e3-cf34-4476-a2e5-a905372ad2a5",
   "metadata": {},
   "outputs": [],
   "source": [
    "# profile_df_gov = ProfileReport(df_gov, title=\"Profiling Report df_gov\")\n",
    "# #profile_df_gov.to_file(\"Profiling Report df_gov.html\")\n",
    "# profile_df_gov.to_notebook_iframe()"
   ]
  },
  {
   "cell_type": "markdown",
   "id": "b30d83b6-05a1-46ac-8cef-6057e62e72e9",
   "metadata": {},
   "source": [
    "#### Period"
   ]
  },
  {
   "cell_type": "code",
   "execution_count": 134,
   "id": "26a59c21-25b3-445a-821f-400ea86ef28c",
   "metadata": {},
   "outputs": [
    {
     "data": {
      "text/html": [
       "<div>\n",
       "<style scoped>\n",
       "    .dataframe tbody tr th:only-of-type {\n",
       "        vertical-align: middle;\n",
       "    }\n",
       "\n",
       "    .dataframe tbody tr th {\n",
       "        vertical-align: top;\n",
       "    }\n",
       "\n",
       "    .dataframe thead th {\n",
       "        text-align: right;\n",
       "    }\n",
       "</style>\n",
       "<table border=\"1\" class=\"dataframe\">\n",
       "  <thead>\n",
       "    <tr style=\"text-align: right;\">\n",
       "      <th></th>\n",
       "      <th>series_id</th>\n",
       "      <th>year</th>\n",
       "      <th>period</th>\n",
       "      <th>value</th>\n",
       "      <th>footnote_codes</th>\n",
       "    </tr>\n",
       "  </thead>\n",
       "  <tbody>\n",
       "    <tr>\n",
       "      <th>28065</th>\n",
       "      <td>CEU9000000001</td>\n",
       "      <td>1939</td>\n",
       "      <td>M13</td>\n",
       "      <td>4040</td>\n",
       "      <td>None</td>\n",
       "    </tr>\n",
       "    <tr>\n",
       "      <th>28078</th>\n",
       "      <td>CEU9000000001</td>\n",
       "      <td>1940</td>\n",
       "      <td>M13</td>\n",
       "      <td>4251</td>\n",
       "      <td>None</td>\n",
       "    </tr>\n",
       "    <tr>\n",
       "      <th>28091</th>\n",
       "      <td>CEU9000000001</td>\n",
       "      <td>1941</td>\n",
       "      <td>M13</td>\n",
       "      <td>4726</td>\n",
       "      <td>None</td>\n",
       "    </tr>\n",
       "    <tr>\n",
       "      <th>28104</th>\n",
       "      <td>CEU9000000001</td>\n",
       "      <td>1942</td>\n",
       "      <td>M13</td>\n",
       "      <td>5592</td>\n",
       "      <td>None</td>\n",
       "    </tr>\n",
       "    <tr>\n",
       "      <th>28117</th>\n",
       "      <td>CEU9000000001</td>\n",
       "      <td>1943</td>\n",
       "      <td>M13</td>\n",
       "      <td>6222</td>\n",
       "      <td>None</td>\n",
       "    </tr>\n",
       "    <tr>\n",
       "      <th>...</th>\n",
       "      <td>...</td>\n",
       "      <td>...</td>\n",
       "      <td>...</td>\n",
       "      <td>...</td>\n",
       "      <td>...</td>\n",
       "    </tr>\n",
       "    <tr>\n",
       "      <th>58386</th>\n",
       "      <td>CEU9093299910</td>\n",
       "      <td>2019</td>\n",
       "      <td>M13</td>\n",
       "      <td>6312</td>\n",
       "      <td>None</td>\n",
       "    </tr>\n",
       "    <tr>\n",
       "      <th>58399</th>\n",
       "      <td>CEU9093299910</td>\n",
       "      <td>2020</td>\n",
       "      <td>M13</td>\n",
       "      <td>5635</td>\n",
       "      <td>None</td>\n",
       "    </tr>\n",
       "    <tr>\n",
       "      <th>58412</th>\n",
       "      <td>CEU9093299910</td>\n",
       "      <td>2021</td>\n",
       "      <td>M13</td>\n",
       "      <td>5670</td>\n",
       "      <td>None</td>\n",
       "    </tr>\n",
       "    <tr>\n",
       "      <th>58425</th>\n",
       "      <td>CEU9093299910</td>\n",
       "      <td>2022</td>\n",
       "      <td>M13</td>\n",
       "      <td>5960</td>\n",
       "      <td>None</td>\n",
       "    </tr>\n",
       "    <tr>\n",
       "      <th>58438</th>\n",
       "      <td>CEU9093299910</td>\n",
       "      <td>2023</td>\n",
       "      <td>M13</td>\n",
       "      <td>6214</td>\n",
       "      <td>P</td>\n",
       "    </tr>\n",
       "  </tbody>\n",
       "</table>\n",
       "<p>2335 rows × 5 columns</p>\n",
       "</div>"
      ],
      "text/plain": [
       "           series_id  year period  value footnote_codes\n",
       "28065  CEU9000000001  1939    M13   4040           None\n",
       "28078  CEU9000000001  1940    M13   4251           None\n",
       "28091  CEU9000000001  1941    M13   4726           None\n",
       "28104  CEU9000000001  1942    M13   5592           None\n",
       "28117  CEU9000000001  1943    M13   6222           None\n",
       "...              ...   ...    ...    ...            ...\n",
       "58386  CEU9093299910  2019    M13   6312           None\n",
       "58399  CEU9093299910  2020    M13   5635           None\n",
       "58412  CEU9093299910  2021    M13   5670           None\n",
       "58425  CEU9093299910  2022    M13   5960           None\n",
       "58438  CEU9093299910  2023    M13   6214              P\n",
       "\n",
       "[2335 rows x 5 columns]"
      ]
     },
     "execution_count": 134,
     "metadata": {},
     "output_type": "execute_result"
    }
   ],
   "source": [
    "# Month column\n",
    "df_gov[df_gov['period']==\"M13\"]"
   ]
  },
  {
   "cell_type": "markdown",
   "id": "d3547b80-6748-467a-8820-2d5aef4f2504",
   "metadata": {},
   "source": [
    "__There are record with a 13th month with represent the anual average.__"
   ]
  },
  {
   "cell_type": "code",
   "execution_count": 135,
   "id": "856bfd27-8b17-4cd5-812a-4cc7906b4c75",
   "metadata": {},
   "outputs": [],
   "source": [
    "# Dropring annual average\n",
    "df_gov = df_gov.drop(df_gov[df_gov['period']==\"M13\"].index)"
   ]
  },
  {
   "cell_type": "code",
   "execution_count": 136,
   "id": "0ecea49c-7d46-47f0-9062-2e3bf43b3bae",
   "metadata": {},
   "outputs": [
    {
     "data": {
      "text/html": [
       "<div>\n",
       "<style scoped>\n",
       "    .dataframe tbody tr th:only-of-type {\n",
       "        vertical-align: middle;\n",
       "    }\n",
       "\n",
       "    .dataframe tbody tr th {\n",
       "        vertical-align: top;\n",
       "    }\n",
       "\n",
       "    .dataframe thead th {\n",
       "        text-align: right;\n",
       "    }\n",
       "</style>\n",
       "<table border=\"1\" class=\"dataframe\">\n",
       "  <thead>\n",
       "    <tr style=\"text-align: right;\">\n",
       "      <th></th>\n",
       "      <th>series_id</th>\n",
       "      <th>year</th>\n",
       "      <th>period</th>\n",
       "      <th>value</th>\n",
       "      <th>footnote_codes</th>\n",
       "    </tr>\n",
       "  </thead>\n",
       "  <tbody>\n",
       "  </tbody>\n",
       "</table>\n",
       "</div>"
      ],
      "text/plain": [
       "Empty DataFrame\n",
       "Columns: [series_id, year, period, value, footnote_codes]\n",
       "Index: []"
      ]
     },
     "execution_count": 136,
     "metadata": {},
     "output_type": "execute_result"
    }
   ],
   "source": [
    "df_gov[df_gov['period']==\"M13\"]"
   ]
  },
  {
   "cell_type": "markdown",
   "id": "66916eec-b22b-4f9c-9268-e864480e1ee0",
   "metadata": {},
   "source": [
    "### Subsetting"
   ]
  },
  {
   "cell_type": "code",
   "execution_count": 137,
   "id": "c79bcd0d-2ed7-4d6a-a6b5-e1662b162af1",
   "metadata": {},
   "outputs": [],
   "source": [
    "# Subsetting series of interest\n",
    "# CEU9000000001: All employees, thousands, government, not seasonally adjusted\n",
    "# CEU9000000010: Women employees, thousands, government, not seasonally adjusted\n",
    "gov_series = (\"CEU9000000001\",\"CEU9000000010\")\n",
    "# df_gov_sub = df_gov[(df_gov.series_id == \"CEU9000000001\")]\n",
    "df_gov_sub = df_gov[df_gov['series_id'].isin(gov_series)]"
   ]
  },
  {
   "cell_type": "code",
   "execution_count": 138,
   "id": "2ff3cc5a-d120-48d6-afb4-896b441ea2c3",
   "metadata": {},
   "outputs": [
    {
     "data": {
      "text/plain": [
       "<bound method NDFrame.head of            series_id  year period  value footnote_codes\n",
       "28053  CEU9000000001  1939    M01   3958           None\n",
       "28054  CEU9000000001  1939    M02   3947           None\n",
       "28055  CEU9000000001  1939    M03   3971           None\n",
       "28056  CEU9000000001  1939    M04   3985           None\n",
       "28057  CEU9000000001  1939    M05   4032           None\n",
       "...              ...   ...    ...    ...            ...\n",
       "29934  CEU9000000010  2023    M09  13402           None\n",
       "29935  CEU9000000010  2023    M10  13643           None\n",
       "29936  CEU9000000010  2023    M11  13756           None\n",
       "29937  CEU9000000010  2023    M12  13698              P\n",
       "29939  CEU9000000010  2024    M01  13470              P\n",
       "\n",
       "[1742 rows x 5 columns]>"
      ]
     },
     "execution_count": 138,
     "metadata": {},
     "output_type": "execute_result"
    }
   ],
   "source": [
    "df_gov_sub.head"
   ]
  },
  {
   "cell_type": "code",
   "execution_count": 139,
   "id": "0df9bb83-28cc-47f8-b004-3c0bf0f08d86",
   "metadata": {
    "tags": []
   },
   "outputs": [
    {
     "data": {
      "text/plain": [
       "array(['CEU9000000001', 'CEU9000000010'], dtype=object)"
      ]
     },
     "execution_count": 139,
     "metadata": {},
     "output_type": "execute_result"
    }
   ],
   "source": [
    "df_gov_sub['series_id'].unique()"
   ]
  },
  {
   "cell_type": "markdown",
   "id": "83bb97b9-68f9-42bd-904c-3de46309cd46",
   "metadata": {},
   "source": [
    "## Reading production employees data"
   ]
  },
  {
   "cell_type": "code",
   "execution_count": 140,
   "id": "56642644-f727-4ba8-9a7b-4a4d99315549",
   "metadata": {},
   "outputs": [],
   "source": [
    "# Define SQL query\n",
    "query_pro_sup = \"SELECT * FROM nimble.ce_data_05a;\"\n",
    "\n",
    "# Execute query and fetch data into a pandas DataFrame\n",
    "df_pro_sup = pd.read_sql_query(query_pro_sup, connection)\n"
   ]
  },
  {
   "cell_type": "code",
   "execution_count": 141,
   "id": "097612e9-060b-42a8-b3bb-dcaa1b9584ca",
   "metadata": {},
   "outputs": [
    {
     "data": {
      "text/html": [
       "<div>\n",
       "<style scoped>\n",
       "    .dataframe tbody tr th:only-of-type {\n",
       "        vertical-align: middle;\n",
       "    }\n",
       "\n",
       "    .dataframe tbody tr th {\n",
       "        vertical-align: top;\n",
       "    }\n",
       "\n",
       "    .dataframe thead th {\n",
       "        text-align: right;\n",
       "    }\n",
       "</style>\n",
       "<table border=\"1\" class=\"dataframe\">\n",
       "  <thead>\n",
       "    <tr style=\"text-align: right;\">\n",
       "      <th></th>\n",
       "      <th>series_id</th>\n",
       "      <th>year</th>\n",
       "      <th>period</th>\n",
       "      <th>value</th>\n",
       "      <th>footnote_codes</th>\n",
       "    </tr>\n",
       "  </thead>\n",
       "  <tbody>\n",
       "    <tr>\n",
       "      <th>0</th>\n",
       "      <td>CES0500000001</td>\n",
       "      <td>1939</td>\n",
       "      <td>M01</td>\n",
       "      <td>25935</td>\n",
       "      <td>None</td>\n",
       "    </tr>\n",
       "    <tr>\n",
       "      <th>1</th>\n",
       "      <td>CES0500000001</td>\n",
       "      <td>1939</td>\n",
       "      <td>M02</td>\n",
       "      <td>26099</td>\n",
       "      <td>None</td>\n",
       "    </tr>\n",
       "    <tr>\n",
       "      <th>2</th>\n",
       "      <td>CES0500000001</td>\n",
       "      <td>1939</td>\n",
       "      <td>M03</td>\n",
       "      <td>26278</td>\n",
       "      <td>None</td>\n",
       "    </tr>\n",
       "    <tr>\n",
       "      <th>3</th>\n",
       "      <td>CES0500000001</td>\n",
       "      <td>1939</td>\n",
       "      <td>M04</td>\n",
       "      <td>26092</td>\n",
       "      <td>None</td>\n",
       "    </tr>\n",
       "    <tr>\n",
       "      <th>4</th>\n",
       "      <td>CES0500000001</td>\n",
       "      <td>1939</td>\n",
       "      <td>M05</td>\n",
       "      <td>26293</td>\n",
       "      <td>None</td>\n",
       "    </tr>\n",
       "  </tbody>\n",
       "</table>\n",
       "</div>"
      ],
      "text/plain": [
       "           series_id  year period  value footnote_codes\n",
       "0  CES0500000001      1939    M01  25935           None\n",
       "1  CES0500000001      1939    M02  26099           None\n",
       "2  CES0500000001      1939    M03  26278           None\n",
       "3  CES0500000001      1939    M04  26092           None\n",
       "4  CES0500000001      1939    M05  26293           None"
      ]
     },
     "execution_count": 141,
     "metadata": {},
     "output_type": "execute_result"
    }
   ],
   "source": [
    "df_pro_sup.head()"
   ]
  },
  {
   "cell_type": "code",
   "execution_count": 142,
   "id": "17eba6ee-9e16-4887-b92d-81777bd7d6ce",
   "metadata": {},
   "outputs": [
    {
     "data": {
      "text/html": [
       "<div>\n",
       "<style scoped>\n",
       "    .dataframe tbody tr th:only-of-type {\n",
       "        vertical-align: middle;\n",
       "    }\n",
       "\n",
       "    .dataframe tbody tr th {\n",
       "        vertical-align: top;\n",
       "    }\n",
       "\n",
       "    .dataframe thead th {\n",
       "        text-align: right;\n",
       "    }\n",
       "</style>\n",
       "<table border=\"1\" class=\"dataframe\">\n",
       "  <thead>\n",
       "    <tr style=\"text-align: right;\">\n",
       "      <th></th>\n",
       "      <th>series_id</th>\n",
       "      <th>year</th>\n",
       "      <th>period</th>\n",
       "      <th>value</th>\n",
       "      <th>footnote_codes</th>\n",
       "    </tr>\n",
       "  </thead>\n",
       "  <tbody>\n",
       "    <tr>\n",
       "      <th>23068</th>\n",
       "      <td>CEU0800000010</td>\n",
       "      <td>2023</td>\n",
       "      <td>M10</td>\n",
       "      <td>60027</td>\n",
       "      <td>None</td>\n",
       "    </tr>\n",
       "    <tr>\n",
       "      <th>23069</th>\n",
       "      <td>CEU0800000010</td>\n",
       "      <td>2023</td>\n",
       "      <td>M11</td>\n",
       "      <td>60282</td>\n",
       "      <td>None</td>\n",
       "    </tr>\n",
       "    <tr>\n",
       "      <th>23070</th>\n",
       "      <td>CEU0800000010</td>\n",
       "      <td>2023</td>\n",
       "      <td>M12</td>\n",
       "      <td>60354</td>\n",
       "      <td>P</td>\n",
       "    </tr>\n",
       "    <tr>\n",
       "      <th>23071</th>\n",
       "      <td>CEU0800000010</td>\n",
       "      <td>2023</td>\n",
       "      <td>M13</td>\n",
       "      <td>59464</td>\n",
       "      <td>P</td>\n",
       "    </tr>\n",
       "    <tr>\n",
       "      <th>23072</th>\n",
       "      <td>CEU0800000010</td>\n",
       "      <td>2024</td>\n",
       "      <td>M01</td>\n",
       "      <td>59435</td>\n",
       "      <td>P</td>\n",
       "    </tr>\n",
       "  </tbody>\n",
       "</table>\n",
       "</div>"
      ],
      "text/plain": [
       "               series_id  year period  value footnote_codes\n",
       "23068  CEU0800000010      2023    M10  60027           None\n",
       "23069  CEU0800000010      2023    M11  60282           None\n",
       "23070  CEU0800000010      2023    M12  60354              P\n",
       "23071  CEU0800000010      2023    M13  59464              P\n",
       "23072  CEU0800000010      2024    M01  59435              P"
      ]
     },
     "execution_count": 142,
     "metadata": {},
     "output_type": "execute_result"
    }
   ],
   "source": [
    "df_pro_sup.tail()"
   ]
  },
  {
   "cell_type": "code",
   "execution_count": 143,
   "id": "51ee7c79-6511-432a-bec2-e37499a0a889",
   "metadata": {},
   "outputs": [
    {
     "data": {
      "text/plain": [
       "array(['CES0500000001    ', 'CES0500000006    ', 'CES0500000010    ',\n",
       "       'CES0500000021    ', 'CES0500000022    ', 'CES0500000023    ',\n",
       "       'CES0500000025    ', 'CES0500000026    ', 'CES0600000001    ',\n",
       "       'CES0600000006    ', 'CES0600000010    ', 'CES0600000025    ',\n",
       "       'CES0700000001    ', 'CES0700000010    ', 'CES0700000025    ',\n",
       "       'CES0800000001    ', 'CES0800000006    ', 'CES0800000010    ',\n",
       "       'CEU0500000001    ', 'CEU0500000006    ', 'CEU0500000010    ',\n",
       "       'CEU0500000024    ', 'CEU0600000001    ', 'CEU0600000006    ',\n",
       "       'CEU0600000010    ', 'CEU0700000001    ', 'CEU0700000010    ',\n",
       "       'CEU0800000001    ', 'CEU0800000006    ', 'CEU0800000010    '],\n",
       "      dtype=object)"
      ]
     },
     "execution_count": 143,
     "metadata": {},
     "output_type": "execute_result"
    }
   ],
   "source": [
    "df_pro_sup['series_id'].unique()"
   ]
  },
  {
   "cell_type": "markdown",
   "id": "935e87ef-9e7d-48b2-a813-fc939b4857c7",
   "metadata": {},
   "source": [
    "__There were blank spaces in series_id__"
   ]
  },
  {
   "cell_type": "markdown",
   "id": "ffa7718d-b0e6-4c8e-b1ed-8fd7148b8860",
   "metadata": {},
   "source": [
    "### Data cleaning"
   ]
  },
  {
   "cell_type": "markdown",
   "id": "60da328b-7c1f-4ffd-9a6d-ce717d69af63",
   "metadata": {},
   "source": [
    "#### Series id"
   ]
  },
  {
   "cell_type": "code",
   "execution_count": 144,
   "id": "a998013a-0590-4f25-bc9b-918ac3b819f9",
   "metadata": {},
   "outputs": [],
   "source": [
    "df_pro_sup['series_id'] = df_pro_sup['series_id'].str.strip()"
   ]
  },
  {
   "cell_type": "code",
   "execution_count": 145,
   "id": "8467853f-fb70-4019-ab63-a8c994a010f1",
   "metadata": {},
   "outputs": [
    {
     "data": {
      "text/plain": [
       "array(['CES0500000001', 'CES0500000006', 'CES0500000010', 'CES0500000021',\n",
       "       'CES0500000022', 'CES0500000023', 'CES0500000025', 'CES0500000026',\n",
       "       'CES0600000001', 'CES0600000006', 'CES0600000010', 'CES0600000025',\n",
       "       'CES0700000001', 'CES0700000010', 'CES0700000025', 'CES0800000001',\n",
       "       'CES0800000006', 'CES0800000010', 'CEU0500000001', 'CEU0500000006',\n",
       "       'CEU0500000010', 'CEU0500000024', 'CEU0600000001', 'CEU0600000006',\n",
       "       'CEU0600000010', 'CEU0700000001', 'CEU0700000010', 'CEU0800000001',\n",
       "       'CEU0800000006', 'CEU0800000010'], dtype=object)"
      ]
     },
     "execution_count": 145,
     "metadata": {},
     "output_type": "execute_result"
    }
   ],
   "source": [
    "df_pro_sup['series_id'].unique()"
   ]
  },
  {
   "cell_type": "markdown",
   "id": "49409d6f-f04a-4d82-830d-cac876ae0203",
   "metadata": {},
   "source": [
    "#### Period"
   ]
  },
  {
   "cell_type": "code",
   "execution_count": 146,
   "id": "f7ff660c-c2ec-4dc0-ae4a-ee2ce321bdb1",
   "metadata": {},
   "outputs": [
    {
     "data": {
      "text/html": [
       "<div>\n",
       "<style scoped>\n",
       "    .dataframe tbody tr th:only-of-type {\n",
       "        vertical-align: middle;\n",
       "    }\n",
       "\n",
       "    .dataframe tbody tr th {\n",
       "        vertical-align: top;\n",
       "    }\n",
       "\n",
       "    .dataframe thead th {\n",
       "        text-align: right;\n",
       "    }\n",
       "</style>\n",
       "<table border=\"1\" class=\"dataframe\">\n",
       "  <thead>\n",
       "    <tr style=\"text-align: right;\">\n",
       "      <th></th>\n",
       "      <th>series_id</th>\n",
       "      <th>year</th>\n",
       "      <th>period</th>\n",
       "      <th>value</th>\n",
       "      <th>footnote_codes</th>\n",
       "    </tr>\n",
       "  </thead>\n",
       "  <tbody>\n",
       "    <tr>\n",
       "      <th>12576</th>\n",
       "      <td>CEU0500000001</td>\n",
       "      <td>1939</td>\n",
       "      <td>M13</td>\n",
       "      <td>26606</td>\n",
       "      <td>None</td>\n",
       "    </tr>\n",
       "    <tr>\n",
       "      <th>12589</th>\n",
       "      <td>CEU0500000001</td>\n",
       "      <td>1940</td>\n",
       "      <td>M13</td>\n",
       "      <td>28156</td>\n",
       "      <td>None</td>\n",
       "    </tr>\n",
       "    <tr>\n",
       "      <th>12602</th>\n",
       "      <td>CEU0500000001</td>\n",
       "      <td>1941</td>\n",
       "      <td>M13</td>\n",
       "      <td>31874</td>\n",
       "      <td>None</td>\n",
       "    </tr>\n",
       "    <tr>\n",
       "      <th>12615</th>\n",
       "      <td>CEU0500000001</td>\n",
       "      <td>1942</td>\n",
       "      <td>M13</td>\n",
       "      <td>34621</td>\n",
       "      <td>None</td>\n",
       "    </tr>\n",
       "    <tr>\n",
       "      <th>12628</th>\n",
       "      <td>CEU0500000001</td>\n",
       "      <td>1943</td>\n",
       "      <td>M13</td>\n",
       "      <td>36353</td>\n",
       "      <td>None</td>\n",
       "    </tr>\n",
       "    <tr>\n",
       "      <th>...</th>\n",
       "      <td>...</td>\n",
       "      <td>...</td>\n",
       "      <td>...</td>\n",
       "      <td>...</td>\n",
       "      <td>...</td>\n",
       "    </tr>\n",
       "    <tr>\n",
       "      <th>23019</th>\n",
       "      <td>CEU0800000010</td>\n",
       "      <td>2019</td>\n",
       "      <td>M13</td>\n",
       "      <td>57538</td>\n",
       "      <td>None</td>\n",
       "    </tr>\n",
       "    <tr>\n",
       "      <th>23032</th>\n",
       "      <td>CEU0800000010</td>\n",
       "      <td>2020</td>\n",
       "      <td>M13</td>\n",
       "      <td>53516</td>\n",
       "      <td>None</td>\n",
       "    </tr>\n",
       "    <tr>\n",
       "      <th>23045</th>\n",
       "      <td>CEU0800000010</td>\n",
       "      <td>2021</td>\n",
       "      <td>M13</td>\n",
       "      <td>55484</td>\n",
       "      <td>None</td>\n",
       "    </tr>\n",
       "    <tr>\n",
       "      <th>23058</th>\n",
       "      <td>CEU0800000010</td>\n",
       "      <td>2022</td>\n",
       "      <td>M13</td>\n",
       "      <td>58124</td>\n",
       "      <td>None</td>\n",
       "    </tr>\n",
       "    <tr>\n",
       "      <th>23071</th>\n",
       "      <td>CEU0800000010</td>\n",
       "      <td>2023</td>\n",
       "      <td>M13</td>\n",
       "      <td>59464</td>\n",
       "      <td>P</td>\n",
       "    </tr>\n",
       "  </tbody>\n",
       "</table>\n",
       "<p>777 rows × 5 columns</p>\n",
       "</div>"
      ],
      "text/plain": [
       "           series_id  year period  value footnote_codes\n",
       "12576  CEU0500000001  1939    M13  26606           None\n",
       "12589  CEU0500000001  1940    M13  28156           None\n",
       "12602  CEU0500000001  1941    M13  31874           None\n",
       "12615  CEU0500000001  1942    M13  34621           None\n",
       "12628  CEU0500000001  1943    M13  36353           None\n",
       "...              ...   ...    ...    ...            ...\n",
       "23019  CEU0800000010  2019    M13  57538           None\n",
       "23032  CEU0800000010  2020    M13  53516           None\n",
       "23045  CEU0800000010  2021    M13  55484           None\n",
       "23058  CEU0800000010  2022    M13  58124           None\n",
       "23071  CEU0800000010  2023    M13  59464              P\n",
       "\n",
       "[777 rows x 5 columns]"
      ]
     },
     "execution_count": 146,
     "metadata": {},
     "output_type": "execute_result"
    }
   ],
   "source": [
    "# Month column\n",
    "df_pro_sup[df_pro_sup['period']==\"M13\"]"
   ]
  },
  {
   "cell_type": "markdown",
   "id": "4e0a2d00-c29b-4616-acfe-90bc5433c3da",
   "metadata": {},
   "source": [
    "__There are record with a 13th month with represent the anual average.__"
   ]
  },
  {
   "cell_type": "code",
   "execution_count": 147,
   "id": "e1a4e4de-3b48-49ef-85fe-2dda88804061",
   "metadata": {},
   "outputs": [],
   "source": [
    "# Dropring annual average\n",
    "df_pro_sup = df_pro_sup.drop(df_pro_sup[df_pro_sup['period']==\"M13\"].index)"
   ]
  },
  {
   "cell_type": "code",
   "execution_count": 148,
   "id": "d21cc9e1-b6cd-4b85-8560-c1b7c9527024",
   "metadata": {},
   "outputs": [
    {
     "data": {
      "text/html": [
       "<div>\n",
       "<style scoped>\n",
       "    .dataframe tbody tr th:only-of-type {\n",
       "        vertical-align: middle;\n",
       "    }\n",
       "\n",
       "    .dataframe tbody tr th {\n",
       "        vertical-align: top;\n",
       "    }\n",
       "\n",
       "    .dataframe thead th {\n",
       "        text-align: right;\n",
       "    }\n",
       "</style>\n",
       "<table border=\"1\" class=\"dataframe\">\n",
       "  <thead>\n",
       "    <tr style=\"text-align: right;\">\n",
       "      <th></th>\n",
       "      <th>series_id</th>\n",
       "      <th>year</th>\n",
       "      <th>period</th>\n",
       "      <th>value</th>\n",
       "      <th>footnote_codes</th>\n",
       "    </tr>\n",
       "  </thead>\n",
       "  <tbody>\n",
       "  </tbody>\n",
       "</table>\n",
       "</div>"
      ],
      "text/plain": [
       "Empty DataFrame\n",
       "Columns: [series_id, year, period, value, footnote_codes]\n",
       "Index: []"
      ]
     },
     "execution_count": 148,
     "metadata": {},
     "output_type": "execute_result"
    }
   ],
   "source": [
    "df_pro_sup[df_pro_sup['period']==\"M13\"]"
   ]
  },
  {
   "cell_type": "markdown",
   "id": "3188c5e2-8398-46d5-817b-02ee251b11cf",
   "metadata": {},
   "source": [
    "### Subsetting"
   ]
  },
  {
   "cell_type": "code",
   "execution_count": 149,
   "id": "caa3a819-7f45-4add-86d9-e42d6584ad65",
   "metadata": {},
   "outputs": [],
   "source": [
    "# Subsetting series of interest\n",
    "# CEU0500000006: Production and nonsupervisory employees, thousands, total private, not seasonally adjusted\n",
    "# CEU0500000001: All employees, thousands, total private, not seasonally adjusted\n",
    "pro_sup_series = (\"CEU0500000006\", \"CEU0500000001\")\n",
    "# df_pro_sup = df_pro_sup[(df_pro_sup.series_id == \"CEU0500000006\")]\n",
    "df_pro_sup = df_pro_sup[df_pro_sup['series_id'].isin(pro_sup_series)]"
   ]
  },
  {
   "cell_type": "code",
   "execution_count": 150,
   "id": "459d0b0f-858a-40ea-91f1-64d5084ecfb2",
   "metadata": {},
   "outputs": [
    {
     "data": {
      "text/plain": [
       "<bound method NDFrame.head of            series_id  year period   value footnote_codes\n",
       "12564  CEU0500000001  1939    M01   25338           None\n",
       "12565  CEU0500000001  1939    M02   25447           None\n",
       "12566  CEU0500000001  1939    M03   25833           None\n",
       "12567  CEU0500000001  1939    M04   25801           None\n",
       "12568  CEU0500000001  1939    M05   26113           None\n",
       "...              ...   ...    ...     ...            ...\n",
       "14445  CEU0500000006  2023    M09  108899           None\n",
       "14446  CEU0500000006  2023    M10  109513           None\n",
       "14447  CEU0500000006  2023    M11  109887           None\n",
       "14448  CEU0500000006  2023    M12  109756              P\n",
       "14450  CEU0500000006  2024    M01  107767              P\n",
       "\n",
       "[1742 rows x 5 columns]>"
      ]
     },
     "execution_count": 150,
     "metadata": {},
     "output_type": "execute_result"
    }
   ],
   "source": [
    "df_pro_sup.head"
   ]
  },
  {
   "cell_type": "code",
   "execution_count": 151,
   "id": "87ad1fb5-3c48-40a8-849a-cd2907787c39",
   "metadata": {
    "tags": []
   },
   "outputs": [
    {
     "data": {
      "text/plain": [
       "array(['CEU0500000001', 'CEU0500000006'], dtype=object)"
      ]
     },
     "execution_count": 151,
     "metadata": {},
     "output_type": "execute_result"
    }
   ],
   "source": [
    "df_pro_sup['series_id'].unique()"
   ]
  },
  {
   "cell_type": "markdown",
   "id": "bf85ffc9-4066-422d-b7a7-d46fc4dba9df",
   "metadata": {},
   "source": [
    "# Transforming data"
   ]
  },
  {
   "cell_type": "markdown",
   "id": "a280f73b-54f9-4967-ab3a-b7c21c2d4adc",
   "metadata": {},
   "source": [
    "## Month"
   ]
  },
  {
   "cell_type": "code",
   "execution_count": 152,
   "id": "a35e93ed-b584-49d6-9040-f7a47410a919",
   "metadata": {},
   "outputs": [],
   "source": [
    "# Month listing\n",
    "month_mapping = {\n",
    "    'M01': 'January',\n",
    "    'M02': 'February',\n",
    "    'M03': 'March',\n",
    "    'M04': 'April',\n",
    "    'M05': 'May',\n",
    "    'M06': 'June',\n",
    "    'M07': 'July',\n",
    "    'M08': 'August',\n",
    "    'M09': 'September',\n",
    "    'M10': 'October',\n",
    "    'M11': 'November',\n",
    "    'M12': 'December'\n",
    "}\n",
    "\n",
    "df_gov['month'] = df_gov['period'].map(month_mapping)\n",
    "df_pro_sup['month'] = df_pro_sup['period'].map(month_mapping)"
   ]
  },
  {
   "cell_type": "code",
   "execution_count": 153,
   "id": "df790ed0-6448-4526-8504-1f6b7bca36fd",
   "metadata": {},
   "outputs": [
    {
     "data": {
      "text/html": [
       "<div>\n",
       "<style scoped>\n",
       "    .dataframe tbody tr th:only-of-type {\n",
       "        vertical-align: middle;\n",
       "    }\n",
       "\n",
       "    .dataframe tbody tr th {\n",
       "        vertical-align: top;\n",
       "    }\n",
       "\n",
       "    .dataframe thead th {\n",
       "        text-align: right;\n",
       "    }\n",
       "</style>\n",
       "<table border=\"1\" class=\"dataframe\">\n",
       "  <thead>\n",
       "    <tr style=\"text-align: right;\">\n",
       "      <th></th>\n",
       "      <th>series_id</th>\n",
       "      <th>year</th>\n",
       "      <th>period</th>\n",
       "      <th>value</th>\n",
       "      <th>footnote_codes</th>\n",
       "      <th>month</th>\n",
       "    </tr>\n",
       "  </thead>\n",
       "  <tbody>\n",
       "    <tr>\n",
       "      <th>0</th>\n",
       "      <td>CES9000000001</td>\n",
       "      <td>1939</td>\n",
       "      <td>M01</td>\n",
       "      <td>3988</td>\n",
       "      <td>None</td>\n",
       "      <td>January</td>\n",
       "    </tr>\n",
       "    <tr>\n",
       "      <th>1</th>\n",
       "      <td>CES9000000001</td>\n",
       "      <td>1939</td>\n",
       "      <td>M02</td>\n",
       "      <td>4001</td>\n",
       "      <td>None</td>\n",
       "      <td>February</td>\n",
       "    </tr>\n",
       "    <tr>\n",
       "      <th>2</th>\n",
       "      <td>CES9000000001</td>\n",
       "      <td>1939</td>\n",
       "      <td>M03</td>\n",
       "      <td>4002</td>\n",
       "      <td>None</td>\n",
       "      <td>March</td>\n",
       "    </tr>\n",
       "    <tr>\n",
       "      <th>3</th>\n",
       "      <td>CES9000000001</td>\n",
       "      <td>1939</td>\n",
       "      <td>M04</td>\n",
       "      <td>4002</td>\n",
       "      <td>None</td>\n",
       "      <td>April</td>\n",
       "    </tr>\n",
       "    <tr>\n",
       "      <th>4</th>\n",
       "      <td>CES9000000001</td>\n",
       "      <td>1939</td>\n",
       "      <td>M05</td>\n",
       "      <td>4006</td>\n",
       "      <td>None</td>\n",
       "      <td>May</td>\n",
       "    </tr>\n",
       "  </tbody>\n",
       "</table>\n",
       "</div>"
      ],
      "text/plain": [
       "       series_id  year period  value footnote_codes     month\n",
       "0  CES9000000001  1939    M01   3988           None   January\n",
       "1  CES9000000001  1939    M02   4001           None  February\n",
       "2  CES9000000001  1939    M03   4002           None     March\n",
       "3  CES9000000001  1939    M04   4002           None     April\n",
       "4  CES9000000001  1939    M05   4006           None       May"
      ]
     },
     "execution_count": 153,
     "metadata": {},
     "output_type": "execute_result"
    }
   ],
   "source": [
    "df_gov.head()"
   ]
  },
  {
   "cell_type": "code",
   "execution_count": 154,
   "id": "6dda319b-de86-452a-8c1d-75b84a99f830",
   "metadata": {},
   "outputs": [
    {
     "data": {
      "text/html": [
       "<div>\n",
       "<style scoped>\n",
       "    .dataframe tbody tr th:only-of-type {\n",
       "        vertical-align: middle;\n",
       "    }\n",
       "\n",
       "    .dataframe tbody tr th {\n",
       "        vertical-align: top;\n",
       "    }\n",
       "\n",
       "    .dataframe thead th {\n",
       "        text-align: right;\n",
       "    }\n",
       "</style>\n",
       "<table border=\"1\" class=\"dataframe\">\n",
       "  <thead>\n",
       "    <tr style=\"text-align: right;\">\n",
       "      <th></th>\n",
       "      <th>series_id</th>\n",
       "      <th>year</th>\n",
       "      <th>period</th>\n",
       "      <th>value</th>\n",
       "      <th>footnote_codes</th>\n",
       "      <th>month</th>\n",
       "    </tr>\n",
       "  </thead>\n",
       "  <tbody>\n",
       "    <tr>\n",
       "      <th>12564</th>\n",
       "      <td>CEU0500000001</td>\n",
       "      <td>1939</td>\n",
       "      <td>M01</td>\n",
       "      <td>25338</td>\n",
       "      <td>None</td>\n",
       "      <td>January</td>\n",
       "    </tr>\n",
       "    <tr>\n",
       "      <th>12565</th>\n",
       "      <td>CEU0500000001</td>\n",
       "      <td>1939</td>\n",
       "      <td>M02</td>\n",
       "      <td>25447</td>\n",
       "      <td>None</td>\n",
       "      <td>February</td>\n",
       "    </tr>\n",
       "    <tr>\n",
       "      <th>12566</th>\n",
       "      <td>CEU0500000001</td>\n",
       "      <td>1939</td>\n",
       "      <td>M03</td>\n",
       "      <td>25833</td>\n",
       "      <td>None</td>\n",
       "      <td>March</td>\n",
       "    </tr>\n",
       "    <tr>\n",
       "      <th>12567</th>\n",
       "      <td>CEU0500000001</td>\n",
       "      <td>1939</td>\n",
       "      <td>M04</td>\n",
       "      <td>25801</td>\n",
       "      <td>None</td>\n",
       "      <td>April</td>\n",
       "    </tr>\n",
       "    <tr>\n",
       "      <th>12568</th>\n",
       "      <td>CEU0500000001</td>\n",
       "      <td>1939</td>\n",
       "      <td>M05</td>\n",
       "      <td>26113</td>\n",
       "      <td>None</td>\n",
       "      <td>May</td>\n",
       "    </tr>\n",
       "  </tbody>\n",
       "</table>\n",
       "</div>"
      ],
      "text/plain": [
       "           series_id  year period  value footnote_codes     month\n",
       "12564  CEU0500000001  1939    M01  25338           None   January\n",
       "12565  CEU0500000001  1939    M02  25447           None  February\n",
       "12566  CEU0500000001  1939    M03  25833           None     March\n",
       "12567  CEU0500000001  1939    M04  25801           None     April\n",
       "12568  CEU0500000001  1939    M05  26113           None       May"
      ]
     },
     "execution_count": 154,
     "metadata": {},
     "output_type": "execute_result"
    }
   ],
   "source": [
    "df_pro_sup.head()"
   ]
  },
  {
   "cell_type": "markdown",
   "id": "03be80ec-61b1-427c-a9b7-ca3e3707bf62",
   "metadata": {},
   "source": [
    "## Month year date column"
   ]
  },
  {
   "cell_type": "code",
   "execution_count": 155,
   "id": "0dda3b82-5036-4d2f-86f7-23d9529a5503",
   "metadata": {},
   "outputs": [],
   "source": [
    "# String year column\n",
    "df_gov['year_str'] = df_gov['year'].astype(str)\n",
    "df_pro_sup['year_str'] = df_pro_sup['year'].astype(str)\n",
    "# Merging month and year columns\n",
    "df_gov['date'] = df_gov['month'] + ' ' + df_gov['year_str']\n",
    "df_pro_sup['date'] = df_pro_sup['month'] + ' ' + df_pro_sup['year_str']"
   ]
  },
  {
   "cell_type": "code",
   "execution_count": 156,
   "id": "7008418c-6b33-4ad2-a7bc-89c1832c8280",
   "metadata": {},
   "outputs": [
    {
     "data": {
      "text/html": [
       "<div>\n",
       "<style scoped>\n",
       "    .dataframe tbody tr th:only-of-type {\n",
       "        vertical-align: middle;\n",
       "    }\n",
       "\n",
       "    .dataframe tbody tr th {\n",
       "        vertical-align: top;\n",
       "    }\n",
       "\n",
       "    .dataframe thead th {\n",
       "        text-align: right;\n",
       "    }\n",
       "</style>\n",
       "<table border=\"1\" class=\"dataframe\">\n",
       "  <thead>\n",
       "    <tr style=\"text-align: right;\">\n",
       "      <th></th>\n",
       "      <th>series_id</th>\n",
       "      <th>year</th>\n",
       "      <th>period</th>\n",
       "      <th>value</th>\n",
       "      <th>footnote_codes</th>\n",
       "      <th>month</th>\n",
       "      <th>year_str</th>\n",
       "      <th>date</th>\n",
       "    </tr>\n",
       "  </thead>\n",
       "  <tbody>\n",
       "    <tr>\n",
       "      <th>0</th>\n",
       "      <td>CES9000000001</td>\n",
       "      <td>1939</td>\n",
       "      <td>M01</td>\n",
       "      <td>3988</td>\n",
       "      <td>None</td>\n",
       "      <td>January</td>\n",
       "      <td>1939</td>\n",
       "      <td>January 1939</td>\n",
       "    </tr>\n",
       "    <tr>\n",
       "      <th>1</th>\n",
       "      <td>CES9000000001</td>\n",
       "      <td>1939</td>\n",
       "      <td>M02</td>\n",
       "      <td>4001</td>\n",
       "      <td>None</td>\n",
       "      <td>February</td>\n",
       "      <td>1939</td>\n",
       "      <td>February 1939</td>\n",
       "    </tr>\n",
       "    <tr>\n",
       "      <th>2</th>\n",
       "      <td>CES9000000001</td>\n",
       "      <td>1939</td>\n",
       "      <td>M03</td>\n",
       "      <td>4002</td>\n",
       "      <td>None</td>\n",
       "      <td>March</td>\n",
       "      <td>1939</td>\n",
       "      <td>March 1939</td>\n",
       "    </tr>\n",
       "    <tr>\n",
       "      <th>3</th>\n",
       "      <td>CES9000000001</td>\n",
       "      <td>1939</td>\n",
       "      <td>M04</td>\n",
       "      <td>4002</td>\n",
       "      <td>None</td>\n",
       "      <td>April</td>\n",
       "      <td>1939</td>\n",
       "      <td>April 1939</td>\n",
       "    </tr>\n",
       "    <tr>\n",
       "      <th>4</th>\n",
       "      <td>CES9000000001</td>\n",
       "      <td>1939</td>\n",
       "      <td>M05</td>\n",
       "      <td>4006</td>\n",
       "      <td>None</td>\n",
       "      <td>May</td>\n",
       "      <td>1939</td>\n",
       "      <td>May 1939</td>\n",
       "    </tr>\n",
       "  </tbody>\n",
       "</table>\n",
       "</div>"
      ],
      "text/plain": [
       "       series_id  year period  value footnote_codes     month year_str  \\\n",
       "0  CES9000000001  1939    M01   3988           None   January     1939   \n",
       "1  CES9000000001  1939    M02   4001           None  February     1939   \n",
       "2  CES9000000001  1939    M03   4002           None     March     1939   \n",
       "3  CES9000000001  1939    M04   4002           None     April     1939   \n",
       "4  CES9000000001  1939    M05   4006           None       May     1939   \n",
       "\n",
       "            date  \n",
       "0   January 1939  \n",
       "1  February 1939  \n",
       "2     March 1939  \n",
       "3     April 1939  \n",
       "4       May 1939  "
      ]
     },
     "execution_count": 156,
     "metadata": {},
     "output_type": "execute_result"
    }
   ],
   "source": [
    "df_gov.head()"
   ]
  },
  {
   "cell_type": "code",
   "execution_count": 157,
   "id": "d25c5c75-614c-42da-b625-5491fcfec284",
   "metadata": {},
   "outputs": [
    {
     "data": {
      "text/html": [
       "<div>\n",
       "<style scoped>\n",
       "    .dataframe tbody tr th:only-of-type {\n",
       "        vertical-align: middle;\n",
       "    }\n",
       "\n",
       "    .dataframe tbody tr th {\n",
       "        vertical-align: top;\n",
       "    }\n",
       "\n",
       "    .dataframe thead th {\n",
       "        text-align: right;\n",
       "    }\n",
       "</style>\n",
       "<table border=\"1\" class=\"dataframe\">\n",
       "  <thead>\n",
       "    <tr style=\"text-align: right;\">\n",
       "      <th></th>\n",
       "      <th>series_id</th>\n",
       "      <th>year</th>\n",
       "      <th>period</th>\n",
       "      <th>value</th>\n",
       "      <th>footnote_codes</th>\n",
       "      <th>month</th>\n",
       "      <th>year_str</th>\n",
       "      <th>date</th>\n",
       "    </tr>\n",
       "  </thead>\n",
       "  <tbody>\n",
       "    <tr>\n",
       "      <th>12564</th>\n",
       "      <td>CEU0500000001</td>\n",
       "      <td>1939</td>\n",
       "      <td>M01</td>\n",
       "      <td>25338</td>\n",
       "      <td>None</td>\n",
       "      <td>January</td>\n",
       "      <td>1939</td>\n",
       "      <td>January 1939</td>\n",
       "    </tr>\n",
       "    <tr>\n",
       "      <th>12565</th>\n",
       "      <td>CEU0500000001</td>\n",
       "      <td>1939</td>\n",
       "      <td>M02</td>\n",
       "      <td>25447</td>\n",
       "      <td>None</td>\n",
       "      <td>February</td>\n",
       "      <td>1939</td>\n",
       "      <td>February 1939</td>\n",
       "    </tr>\n",
       "    <tr>\n",
       "      <th>12566</th>\n",
       "      <td>CEU0500000001</td>\n",
       "      <td>1939</td>\n",
       "      <td>M03</td>\n",
       "      <td>25833</td>\n",
       "      <td>None</td>\n",
       "      <td>March</td>\n",
       "      <td>1939</td>\n",
       "      <td>March 1939</td>\n",
       "    </tr>\n",
       "    <tr>\n",
       "      <th>12567</th>\n",
       "      <td>CEU0500000001</td>\n",
       "      <td>1939</td>\n",
       "      <td>M04</td>\n",
       "      <td>25801</td>\n",
       "      <td>None</td>\n",
       "      <td>April</td>\n",
       "      <td>1939</td>\n",
       "      <td>April 1939</td>\n",
       "    </tr>\n",
       "    <tr>\n",
       "      <th>12568</th>\n",
       "      <td>CEU0500000001</td>\n",
       "      <td>1939</td>\n",
       "      <td>M05</td>\n",
       "      <td>26113</td>\n",
       "      <td>None</td>\n",
       "      <td>May</td>\n",
       "      <td>1939</td>\n",
       "      <td>May 1939</td>\n",
       "    </tr>\n",
       "  </tbody>\n",
       "</table>\n",
       "</div>"
      ],
      "text/plain": [
       "           series_id  year period  value footnote_codes     month year_str  \\\n",
       "12564  CEU0500000001  1939    M01  25338           None   January     1939   \n",
       "12565  CEU0500000001  1939    M02  25447           None  February     1939   \n",
       "12566  CEU0500000001  1939    M03  25833           None     March     1939   \n",
       "12567  CEU0500000001  1939    M04  25801           None     April     1939   \n",
       "12568  CEU0500000001  1939    M05  26113           None       May     1939   \n",
       "\n",
       "                date  \n",
       "12564   January 1939  \n",
       "12565  February 1939  \n",
       "12566     March 1939  \n",
       "12567     April 1939  \n",
       "12568       May 1939  "
      ]
     },
     "execution_count": 157,
     "metadata": {},
     "output_type": "execute_result"
    }
   ],
   "source": [
    "df_pro_sup.head()"
   ]
  },
  {
   "cell_type": "code",
   "execution_count": 158,
   "id": "c90343db-6df0-43da-9a76-1ac956864099",
   "metadata": {},
   "outputs": [
    {
     "data": {
      "text/html": [
       "<div>\n",
       "<style scoped>\n",
       "    .dataframe tbody tr th:only-of-type {\n",
       "        vertical-align: middle;\n",
       "    }\n",
       "\n",
       "    .dataframe tbody tr th {\n",
       "        vertical-align: top;\n",
       "    }\n",
       "\n",
       "    .dataframe thead th {\n",
       "        text-align: right;\n",
       "    }\n",
       "</style>\n",
       "<table border=\"1\" class=\"dataframe\">\n",
       "  <thead>\n",
       "    <tr style=\"text-align: right;\">\n",
       "      <th></th>\n",
       "      <th>series_id</th>\n",
       "      <th>year</th>\n",
       "      <th>period</th>\n",
       "      <th>value</th>\n",
       "      <th>footnote_codes</th>\n",
       "      <th>month</th>\n",
       "      <th>year_str</th>\n",
       "      <th>date</th>\n",
       "    </tr>\n",
       "  </thead>\n",
       "  <tbody>\n",
       "    <tr>\n",
       "      <th>58433</th>\n",
       "      <td>CEU9093299910</td>\n",
       "      <td>2023</td>\n",
       "      <td>M08</td>\n",
       "      <td>6437</td>\n",
       "      <td>None</td>\n",
       "      <td>August</td>\n",
       "      <td>2023</td>\n",
       "      <td>August 2023</td>\n",
       "    </tr>\n",
       "    <tr>\n",
       "      <th>58434</th>\n",
       "      <td>CEU9093299910</td>\n",
       "      <td>2023</td>\n",
       "      <td>M09</td>\n",
       "      <td>6222</td>\n",
       "      <td>None</td>\n",
       "      <td>September</td>\n",
       "      <td>2023</td>\n",
       "      <td>September 2023</td>\n",
       "    </tr>\n",
       "    <tr>\n",
       "      <th>58435</th>\n",
       "      <td>CEU9093299910</td>\n",
       "      <td>2023</td>\n",
       "      <td>M10</td>\n",
       "      <td>6196</td>\n",
       "      <td>None</td>\n",
       "      <td>October</td>\n",
       "      <td>2023</td>\n",
       "      <td>October 2023</td>\n",
       "    </tr>\n",
       "    <tr>\n",
       "      <th>58436</th>\n",
       "      <td>CEU9093299910</td>\n",
       "      <td>2023</td>\n",
       "      <td>M11</td>\n",
       "      <td>6190</td>\n",
       "      <td>None</td>\n",
       "      <td>November</td>\n",
       "      <td>2023</td>\n",
       "      <td>November 2023</td>\n",
       "    </tr>\n",
       "    <tr>\n",
       "      <th>58437</th>\n",
       "      <td>CEU9093299910</td>\n",
       "      <td>2023</td>\n",
       "      <td>M12</td>\n",
       "      <td>6207</td>\n",
       "      <td>P</td>\n",
       "      <td>December</td>\n",
       "      <td>2023</td>\n",
       "      <td>December 2023</td>\n",
       "    </tr>\n",
       "  </tbody>\n",
       "</table>\n",
       "</div>"
      ],
      "text/plain": [
       "           series_id  year period  value footnote_codes      month year_str  \\\n",
       "58433  CEU9093299910  2023    M08   6437           None     August     2023   \n",
       "58434  CEU9093299910  2023    M09   6222           None  September     2023   \n",
       "58435  CEU9093299910  2023    M10   6196           None    October     2023   \n",
       "58436  CEU9093299910  2023    M11   6190           None   November     2023   \n",
       "58437  CEU9093299910  2023    M12   6207              P   December     2023   \n",
       "\n",
       "                 date  \n",
       "58433     August 2023  \n",
       "58434  September 2023  \n",
       "58435    October 2023  \n",
       "58436   November 2023  \n",
       "58437   December 2023  "
      ]
     },
     "execution_count": 158,
     "metadata": {},
     "output_type": "execute_result"
    }
   ],
   "source": [
    "df_gov.tail()"
   ]
  },
  {
   "cell_type": "code",
   "execution_count": 159,
   "id": "0e1c8a32-9369-4f99-9ea0-dad5dc4c394a",
   "metadata": {},
   "outputs": [
    {
     "data": {
      "text/html": [
       "<div>\n",
       "<style scoped>\n",
       "    .dataframe tbody tr th:only-of-type {\n",
       "        vertical-align: middle;\n",
       "    }\n",
       "\n",
       "    .dataframe tbody tr th {\n",
       "        vertical-align: top;\n",
       "    }\n",
       "\n",
       "    .dataframe thead th {\n",
       "        text-align: right;\n",
       "    }\n",
       "</style>\n",
       "<table border=\"1\" class=\"dataframe\">\n",
       "  <thead>\n",
       "    <tr style=\"text-align: right;\">\n",
       "      <th></th>\n",
       "      <th>series_id</th>\n",
       "      <th>year</th>\n",
       "      <th>period</th>\n",
       "      <th>value</th>\n",
       "      <th>footnote_codes</th>\n",
       "      <th>month</th>\n",
       "      <th>year_str</th>\n",
       "      <th>date</th>\n",
       "    </tr>\n",
       "  </thead>\n",
       "  <tbody>\n",
       "    <tr>\n",
       "      <th>14445</th>\n",
       "      <td>CEU0500000006</td>\n",
       "      <td>2023</td>\n",
       "      <td>M09</td>\n",
       "      <td>108899</td>\n",
       "      <td>None</td>\n",
       "      <td>September</td>\n",
       "      <td>2023</td>\n",
       "      <td>September 2023</td>\n",
       "    </tr>\n",
       "    <tr>\n",
       "      <th>14446</th>\n",
       "      <td>CEU0500000006</td>\n",
       "      <td>2023</td>\n",
       "      <td>M10</td>\n",
       "      <td>109513</td>\n",
       "      <td>None</td>\n",
       "      <td>October</td>\n",
       "      <td>2023</td>\n",
       "      <td>October 2023</td>\n",
       "    </tr>\n",
       "    <tr>\n",
       "      <th>14447</th>\n",
       "      <td>CEU0500000006</td>\n",
       "      <td>2023</td>\n",
       "      <td>M11</td>\n",
       "      <td>109887</td>\n",
       "      <td>None</td>\n",
       "      <td>November</td>\n",
       "      <td>2023</td>\n",
       "      <td>November 2023</td>\n",
       "    </tr>\n",
       "    <tr>\n",
       "      <th>14448</th>\n",
       "      <td>CEU0500000006</td>\n",
       "      <td>2023</td>\n",
       "      <td>M12</td>\n",
       "      <td>109756</td>\n",
       "      <td>P</td>\n",
       "      <td>December</td>\n",
       "      <td>2023</td>\n",
       "      <td>December 2023</td>\n",
       "    </tr>\n",
       "    <tr>\n",
       "      <th>14450</th>\n",
       "      <td>CEU0500000006</td>\n",
       "      <td>2024</td>\n",
       "      <td>M01</td>\n",
       "      <td>107767</td>\n",
       "      <td>P</td>\n",
       "      <td>January</td>\n",
       "      <td>2024</td>\n",
       "      <td>January 2024</td>\n",
       "    </tr>\n",
       "  </tbody>\n",
       "</table>\n",
       "</div>"
      ],
      "text/plain": [
       "           series_id  year period   value footnote_codes      month year_str  \\\n",
       "14445  CEU0500000006  2023    M09  108899           None  September     2023   \n",
       "14446  CEU0500000006  2023    M10  109513           None    October     2023   \n",
       "14447  CEU0500000006  2023    M11  109887           None   November     2023   \n",
       "14448  CEU0500000006  2023    M12  109756              P   December     2023   \n",
       "14450  CEU0500000006  2024    M01  107767              P    January     2024   \n",
       "\n",
       "                 date  \n",
       "14445  September 2023  \n",
       "14446    October 2023  \n",
       "14447   November 2023  \n",
       "14448   December 2023  \n",
       "14450    January 2024  "
      ]
     },
     "execution_count": 159,
     "metadata": {},
     "output_type": "execute_result"
    }
   ],
   "source": [
    "df_pro_sup.tail()"
   ]
  },
  {
   "cell_type": "markdown",
   "id": "0ac51403-6ef9-410a-8e50-a04af8943eda",
   "metadata": {},
   "source": [
    "## Data frame by series"
   ]
  },
  {
   "cell_type": "markdown",
   "id": "72d9bae5-5997-4736-891a-97734372436a",
   "metadata": {},
   "source": [
    "### Government data"
   ]
  },
  {
   "cell_type": "code",
   "execution_count": 160,
   "id": "0b392e07-2efd-4f1f-a654-0147d90593a9",
   "metadata": {},
   "outputs": [],
   "source": [
    "# CEU9000000010: Women employees, thousands, government, not seasonally adjusted\n",
    "df_gov_w = df_gov[(df_gov.series_id == \"CEU9000000010\")]\n",
    "# CEU9000000001: All employees, thousands, government, not seasonally adjusted\n",
    "df_gov_t = df_gov[(df_gov.series_id == \"CEU9000000001\")]"
   ]
  },
  {
   "cell_type": "code",
   "execution_count": 161,
   "id": "195cebbf-114b-4352-9b80-69860a73e93c",
   "metadata": {},
   "outputs": [
    {
     "data": {
      "text/plain": [
       "array(['CEU9000000010'], dtype=object)"
      ]
     },
     "execution_count": 161,
     "metadata": {},
     "output_type": "execute_result"
    }
   ],
   "source": [
    "df_gov_w['series_id'].unique()"
   ]
  },
  {
   "cell_type": "code",
   "execution_count": 162,
   "id": "2799f35b-a1da-42bf-ab41-c71df16bda16",
   "metadata": {},
   "outputs": [
    {
     "data": {
      "text/plain": [
       "array(['CEU9000000001'], dtype=object)"
      ]
     },
     "execution_count": 162,
     "metadata": {},
     "output_type": "execute_result"
    }
   ],
   "source": [
    "df_gov_t['series_id'].unique()"
   ]
  },
  {
   "cell_type": "code",
   "execution_count": 163,
   "id": "558d13c8-ab1d-4c8c-86e6-ac1727379d6a",
   "metadata": {},
   "outputs": [],
   "source": [
    "# Column names\n",
    "df_gov_w = df_gov_w.rename(columns={'value': 'womenInThousands'})\n",
    "df_gov_t = df_gov_t.rename(columns={'value': 'totalInThousands'})"
   ]
  },
  {
   "cell_type": "code",
   "execution_count": 164,
   "id": "7d8caffa-d383-4f29-ac7a-60156f4aefe4",
   "metadata": {},
   "outputs": [
    {
     "data": {
      "text/html": [
       "<div>\n",
       "<style scoped>\n",
       "    .dataframe tbody tr th:only-of-type {\n",
       "        vertical-align: middle;\n",
       "    }\n",
       "\n",
       "    .dataframe tbody tr th {\n",
       "        vertical-align: top;\n",
       "    }\n",
       "\n",
       "    .dataframe thead th {\n",
       "        text-align: right;\n",
       "    }\n",
       "</style>\n",
       "<table border=\"1\" class=\"dataframe\">\n",
       "  <thead>\n",
       "    <tr style=\"text-align: right;\">\n",
       "      <th></th>\n",
       "      <th>series_id</th>\n",
       "      <th>year</th>\n",
       "      <th>period</th>\n",
       "      <th>womenInThousands</th>\n",
       "      <th>footnote_codes</th>\n",
       "      <th>month</th>\n",
       "      <th>year_str</th>\n",
       "      <th>date</th>\n",
       "    </tr>\n",
       "  </thead>\n",
       "  <tbody>\n",
       "    <tr>\n",
       "      <th>29159</th>\n",
       "      <td>CEU9000000010</td>\n",
       "      <td>1964</td>\n",
       "      <td>M01</td>\n",
       "      <td>3727</td>\n",
       "      <td>None</td>\n",
       "      <td>January</td>\n",
       "      <td>1964</td>\n",
       "      <td>January 1964</td>\n",
       "    </tr>\n",
       "    <tr>\n",
       "      <th>29160</th>\n",
       "      <td>CEU9000000010</td>\n",
       "      <td>1964</td>\n",
       "      <td>M02</td>\n",
       "      <td>3776</td>\n",
       "      <td>None</td>\n",
       "      <td>February</td>\n",
       "      <td>1964</td>\n",
       "      <td>February 1964</td>\n",
       "    </tr>\n",
       "    <tr>\n",
       "      <th>29161</th>\n",
       "      <td>CEU9000000010</td>\n",
       "      <td>1964</td>\n",
       "      <td>M03</td>\n",
       "      <td>3799</td>\n",
       "      <td>None</td>\n",
       "      <td>March</td>\n",
       "      <td>1964</td>\n",
       "      <td>March 1964</td>\n",
       "    </tr>\n",
       "    <tr>\n",
       "      <th>29162</th>\n",
       "      <td>CEU9000000010</td>\n",
       "      <td>1964</td>\n",
       "      <td>M04</td>\n",
       "      <td>3815</td>\n",
       "      <td>None</td>\n",
       "      <td>April</td>\n",
       "      <td>1964</td>\n",
       "      <td>April 1964</td>\n",
       "    </tr>\n",
       "    <tr>\n",
       "      <th>29163</th>\n",
       "      <td>CEU9000000010</td>\n",
       "      <td>1964</td>\n",
       "      <td>M05</td>\n",
       "      <td>3806</td>\n",
       "      <td>None</td>\n",
       "      <td>May</td>\n",
       "      <td>1964</td>\n",
       "      <td>May 1964</td>\n",
       "    </tr>\n",
       "  </tbody>\n",
       "</table>\n",
       "</div>"
      ],
      "text/plain": [
       "           series_id  year period  womenInThousands footnote_codes     month  \\\n",
       "29159  CEU9000000010  1964    M01              3727           None   January   \n",
       "29160  CEU9000000010  1964    M02              3776           None  February   \n",
       "29161  CEU9000000010  1964    M03              3799           None     March   \n",
       "29162  CEU9000000010  1964    M04              3815           None     April   \n",
       "29163  CEU9000000010  1964    M05              3806           None       May   \n",
       "\n",
       "      year_str           date  \n",
       "29159     1964   January 1964  \n",
       "29160     1964  February 1964  \n",
       "29161     1964     March 1964  \n",
       "29162     1964     April 1964  \n",
       "29163     1964       May 1964  "
      ]
     },
     "execution_count": 164,
     "metadata": {},
     "output_type": "execute_result"
    }
   ],
   "source": [
    "df_gov_w.head()"
   ]
  },
  {
   "cell_type": "code",
   "execution_count": 165,
   "id": "39be89dd-c981-49ab-a2fd-909f6825b8b5",
   "metadata": {},
   "outputs": [],
   "source": [
    "# Merge series of government data\n",
    "df_gov_merge = pd.merge(df_gov_w[['date','womenInThousands']], df_gov_t[['date','totalInThousands']], on='date', how='left')"
   ]
  },
  {
   "cell_type": "code",
   "execution_count": 166,
   "id": "9a240493-55ed-4a4b-be0c-2154e5659d9b",
   "metadata": {},
   "outputs": [
    {
     "data": {
      "text/html": [
       "<div>\n",
       "<style scoped>\n",
       "    .dataframe tbody tr th:only-of-type {\n",
       "        vertical-align: middle;\n",
       "    }\n",
       "\n",
       "    .dataframe tbody tr th {\n",
       "        vertical-align: top;\n",
       "    }\n",
       "\n",
       "    .dataframe thead th {\n",
       "        text-align: right;\n",
       "    }\n",
       "</style>\n",
       "<table border=\"1\" class=\"dataframe\">\n",
       "  <thead>\n",
       "    <tr style=\"text-align: right;\">\n",
       "      <th></th>\n",
       "      <th>date</th>\n",
       "      <th>womenInThousands</th>\n",
       "      <th>totalInThousands</th>\n",
       "    </tr>\n",
       "  </thead>\n",
       "  <tbody>\n",
       "    <tr>\n",
       "      <th>0</th>\n",
       "      <td>January 1964</td>\n",
       "      <td>3727</td>\n",
       "      <td>9581</td>\n",
       "    </tr>\n",
       "    <tr>\n",
       "      <th>1</th>\n",
       "      <td>February 1964</td>\n",
       "      <td>3776</td>\n",
       "      <td>9642</td>\n",
       "    </tr>\n",
       "    <tr>\n",
       "      <th>2</th>\n",
       "      <td>March 1964</td>\n",
       "      <td>3799</td>\n",
       "      <td>9689</td>\n",
       "    </tr>\n",
       "    <tr>\n",
       "      <th>3</th>\n",
       "      <td>April 1964</td>\n",
       "      <td>3815</td>\n",
       "      <td>9716</td>\n",
       "    </tr>\n",
       "    <tr>\n",
       "      <th>4</th>\n",
       "      <td>May 1964</td>\n",
       "      <td>3806</td>\n",
       "      <td>9722</td>\n",
       "    </tr>\n",
       "  </tbody>\n",
       "</table>\n",
       "</div>"
      ],
      "text/plain": [
       "            date  womenInThousands  totalInThousands\n",
       "0   January 1964              3727              9581\n",
       "1  February 1964              3776              9642\n",
       "2     March 1964              3799              9689\n",
       "3     April 1964              3815              9716\n",
       "4       May 1964              3806              9722"
      ]
     },
     "execution_count": 166,
     "metadata": {},
     "output_type": "execute_result"
    }
   ],
   "source": [
    "df_gov_merge.head()"
   ]
  },
  {
   "cell_type": "code",
   "execution_count": 167,
   "id": "df882b01-5a90-4909-92c0-1cc1e088e592",
   "metadata": {},
   "outputs": [],
   "source": [
    "# Women ratio in government\n",
    "df_gov_merge['wom_gov_ratio'] = round(df_gov_merge['womenInThousands']/df_gov_merge['totalInThousands'],2)"
   ]
  },
  {
   "cell_type": "code",
   "execution_count": 168,
   "id": "d45f04d3-5acc-4c7a-a31a-13bc48ed7083",
   "metadata": {},
   "outputs": [
    {
     "data": {
      "text/html": [
       "<div>\n",
       "<style scoped>\n",
       "    .dataframe tbody tr th:only-of-type {\n",
       "        vertical-align: middle;\n",
       "    }\n",
       "\n",
       "    .dataframe tbody tr th {\n",
       "        vertical-align: top;\n",
       "    }\n",
       "\n",
       "    .dataframe thead th {\n",
       "        text-align: right;\n",
       "    }\n",
       "</style>\n",
       "<table border=\"1\" class=\"dataframe\">\n",
       "  <thead>\n",
       "    <tr style=\"text-align: right;\">\n",
       "      <th></th>\n",
       "      <th>date</th>\n",
       "      <th>womenInThousands</th>\n",
       "      <th>totalInThousands</th>\n",
       "      <th>wom_gov_ratio</th>\n",
       "    </tr>\n",
       "  </thead>\n",
       "  <tbody>\n",
       "    <tr>\n",
       "      <th>0</th>\n",
       "      <td>January 1964</td>\n",
       "      <td>3727</td>\n",
       "      <td>9581</td>\n",
       "      <td>0.39</td>\n",
       "    </tr>\n",
       "    <tr>\n",
       "      <th>1</th>\n",
       "      <td>February 1964</td>\n",
       "      <td>3776</td>\n",
       "      <td>9642</td>\n",
       "      <td>0.39</td>\n",
       "    </tr>\n",
       "    <tr>\n",
       "      <th>2</th>\n",
       "      <td>March 1964</td>\n",
       "      <td>3799</td>\n",
       "      <td>9689</td>\n",
       "      <td>0.39</td>\n",
       "    </tr>\n",
       "    <tr>\n",
       "      <th>3</th>\n",
       "      <td>April 1964</td>\n",
       "      <td>3815</td>\n",
       "      <td>9716</td>\n",
       "      <td>0.39</td>\n",
       "    </tr>\n",
       "    <tr>\n",
       "      <th>4</th>\n",
       "      <td>May 1964</td>\n",
       "      <td>3806</td>\n",
       "      <td>9722</td>\n",
       "      <td>0.39</td>\n",
       "    </tr>\n",
       "  </tbody>\n",
       "</table>\n",
       "</div>"
      ],
      "text/plain": [
       "            date  womenInThousands  totalInThousands  wom_gov_ratio\n",
       "0   January 1964              3727              9581           0.39\n",
       "1  February 1964              3776              9642           0.39\n",
       "2     March 1964              3799              9689           0.39\n",
       "3     April 1964              3815              9716           0.39\n",
       "4       May 1964              3806              9722           0.39"
      ]
     },
     "execution_count": 168,
     "metadata": {},
     "output_type": "execute_result"
    }
   ],
   "source": [
    "df_gov_merge.head()"
   ]
  },
  {
   "cell_type": "code",
   "execution_count": 169,
   "id": "ce732dbf-ab9b-405c-8031-efdc03a940af",
   "metadata": {},
   "outputs": [
    {
     "data": {
      "text/html": [
       "<div>\n",
       "<style scoped>\n",
       "    .dataframe tbody tr th:only-of-type {\n",
       "        vertical-align: middle;\n",
       "    }\n",
       "\n",
       "    .dataframe tbody tr th {\n",
       "        vertical-align: top;\n",
       "    }\n",
       "\n",
       "    .dataframe thead th {\n",
       "        text-align: right;\n",
       "    }\n",
       "</style>\n",
       "<table border=\"1\" class=\"dataframe\">\n",
       "  <thead>\n",
       "    <tr style=\"text-align: right;\">\n",
       "      <th></th>\n",
       "      <th>date</th>\n",
       "      <th>womenInThousands</th>\n",
       "      <th>totalInThousands</th>\n",
       "      <th>wom_gov_ratio</th>\n",
       "    </tr>\n",
       "  </thead>\n",
       "  <tbody>\n",
       "    <tr>\n",
       "      <th>716</th>\n",
       "      <td>September 2023</td>\n",
       "      <td>13402</td>\n",
       "      <td>22984</td>\n",
       "      <td>0.58</td>\n",
       "    </tr>\n",
       "    <tr>\n",
       "      <th>717</th>\n",
       "      <td>October 2023</td>\n",
       "      <td>13643</td>\n",
       "      <td>23328</td>\n",
       "      <td>0.58</td>\n",
       "    </tr>\n",
       "    <tr>\n",
       "      <th>718</th>\n",
       "      <td>November 2023</td>\n",
       "      <td>13756</td>\n",
       "      <td>23466</td>\n",
       "      <td>0.59</td>\n",
       "    </tr>\n",
       "    <tr>\n",
       "      <th>719</th>\n",
       "      <td>December 2023</td>\n",
       "      <td>13698</td>\n",
       "      <td>23361</td>\n",
       "      <td>0.59</td>\n",
       "    </tr>\n",
       "    <tr>\n",
       "      <th>720</th>\n",
       "      <td>January 2024</td>\n",
       "      <td>13470</td>\n",
       "      <td>22976</td>\n",
       "      <td>0.59</td>\n",
       "    </tr>\n",
       "  </tbody>\n",
       "</table>\n",
       "</div>"
      ],
      "text/plain": [
       "               date  womenInThousands  totalInThousands  wom_gov_ratio\n",
       "716  September 2023             13402             22984           0.58\n",
       "717    October 2023             13643             23328           0.58\n",
       "718   November 2023             13756             23466           0.59\n",
       "719   December 2023             13698             23361           0.59\n",
       "720    January 2024             13470             22976           0.59"
      ]
     },
     "execution_count": 169,
     "metadata": {},
     "output_type": "execute_result"
    }
   ],
   "source": [
    "df_gov_merge.tail()"
   ]
  },
  {
   "cell_type": "markdown",
   "id": "0e742369-4201-43cc-beab-5c227a3516e3",
   "metadata": {},
   "source": [
    "### Production employees data"
   ]
  },
  {
   "cell_type": "code",
   "execution_count": 170,
   "id": "3ab0e9c7-47b8-4bde-b79d-95a7006ec13d",
   "metadata": {},
   "outputs": [],
   "source": [
    "# CEU0500000006: Production and nonsupervisory employees, thousands, total private, not seasonally adjusted\n",
    "df_pro_sup_p = df_pro_sup[(df_pro_sup.series_id == \"CEU0500000006\")]\n",
    "# CEU0500000001: All employees, thousands, total private, not seasonally adjusted\n",
    "df_pro_sup_t = df_pro_sup[(df_pro_sup.series_id == \"CEU0500000001\")]"
   ]
  },
  {
   "cell_type": "code",
   "execution_count": 171,
   "id": "3be6697b-12c2-4bca-940b-9df9a96343c9",
   "metadata": {},
   "outputs": [
    {
     "data": {
      "text/plain": [
       "array(['CEU0500000006'], dtype=object)"
      ]
     },
     "execution_count": 171,
     "metadata": {},
     "output_type": "execute_result"
    }
   ],
   "source": [
    "df_pro_sup_p['series_id'].unique()"
   ]
  },
  {
   "cell_type": "code",
   "execution_count": 172,
   "id": "ae0ca9f3-2eb9-4485-bdd0-951c3e6e50f3",
   "metadata": {},
   "outputs": [
    {
     "data": {
      "text/plain": [
       "array(['CEU0500000001'], dtype=object)"
      ]
     },
     "execution_count": 172,
     "metadata": {},
     "output_type": "execute_result"
    }
   ],
   "source": [
    "df_pro_sup_t['series_id'].unique()"
   ]
  },
  {
   "cell_type": "code",
   "execution_count": 173,
   "id": "6006d4c3-953b-4374-8267-95c1489e42a1",
   "metadata": {},
   "outputs": [],
   "source": [
    "# Column names\n",
    "df_pro_sup_p = df_pro_sup_p.rename(columns={'value': 'prodInThousands'})\n",
    "df_pro_sup_t = df_pro_sup_t.rename(columns={'value': 'totalInThousands'})"
   ]
  },
  {
   "cell_type": "code",
   "execution_count": 174,
   "id": "d8c7e93c-7b6a-40b4-895e-f3e5b2d9f0ce",
   "metadata": {},
   "outputs": [
    {
     "data": {
      "text/html": [
       "<div>\n",
       "<style scoped>\n",
       "    .dataframe tbody tr th:only-of-type {\n",
       "        vertical-align: middle;\n",
       "    }\n",
       "\n",
       "    .dataframe tbody tr th {\n",
       "        vertical-align: top;\n",
       "    }\n",
       "\n",
       "    .dataframe thead th {\n",
       "        text-align: right;\n",
       "    }\n",
       "</style>\n",
       "<table border=\"1\" class=\"dataframe\">\n",
       "  <thead>\n",
       "    <tr style=\"text-align: right;\">\n",
       "      <th></th>\n",
       "      <th>series_id</th>\n",
       "      <th>year</th>\n",
       "      <th>period</th>\n",
       "      <th>prodInThousands</th>\n",
       "      <th>footnote_codes</th>\n",
       "      <th>month</th>\n",
       "      <th>year_str</th>\n",
       "      <th>date</th>\n",
       "    </tr>\n",
       "  </thead>\n",
       "  <tbody>\n",
       "    <tr>\n",
       "      <th>13670</th>\n",
       "      <td>CEU0500000006</td>\n",
       "      <td>1964</td>\n",
       "      <td>M01</td>\n",
       "      <td>38888</td>\n",
       "      <td>None</td>\n",
       "      <td>January</td>\n",
       "      <td>1964</td>\n",
       "      <td>January 1964</td>\n",
       "    </tr>\n",
       "    <tr>\n",
       "      <th>13671</th>\n",
       "      <td>CEU0500000006</td>\n",
       "      <td>1964</td>\n",
       "      <td>M02</td>\n",
       "      <td>38951</td>\n",
       "      <td>None</td>\n",
       "      <td>February</td>\n",
       "      <td>1964</td>\n",
       "      <td>February 1964</td>\n",
       "    </tr>\n",
       "    <tr>\n",
       "      <th>13672</th>\n",
       "      <td>CEU0500000006</td>\n",
       "      <td>1964</td>\n",
       "      <td>M03</td>\n",
       "      <td>39240</td>\n",
       "      <td>None</td>\n",
       "      <td>March</td>\n",
       "      <td>1964</td>\n",
       "      <td>March 1964</td>\n",
       "    </tr>\n",
       "    <tr>\n",
       "      <th>13673</th>\n",
       "      <td>CEU0500000006</td>\n",
       "      <td>1964</td>\n",
       "      <td>M04</td>\n",
       "      <td>39765</td>\n",
       "      <td>None</td>\n",
       "      <td>April</td>\n",
       "      <td>1964</td>\n",
       "      <td>April 1964</td>\n",
       "    </tr>\n",
       "    <tr>\n",
       "      <th>13674</th>\n",
       "      <td>CEU0500000006</td>\n",
       "      <td>1964</td>\n",
       "      <td>M05</td>\n",
       "      <td>40258</td>\n",
       "      <td>None</td>\n",
       "      <td>May</td>\n",
       "      <td>1964</td>\n",
       "      <td>May 1964</td>\n",
       "    </tr>\n",
       "  </tbody>\n",
       "</table>\n",
       "</div>"
      ],
      "text/plain": [
       "           series_id  year period  prodInThousands footnote_codes     month  \\\n",
       "13670  CEU0500000006  1964    M01            38888           None   January   \n",
       "13671  CEU0500000006  1964    M02            38951           None  February   \n",
       "13672  CEU0500000006  1964    M03            39240           None     March   \n",
       "13673  CEU0500000006  1964    M04            39765           None     April   \n",
       "13674  CEU0500000006  1964    M05            40258           None       May   \n",
       "\n",
       "      year_str           date  \n",
       "13670     1964   January 1964  \n",
       "13671     1964  February 1964  \n",
       "13672     1964     March 1964  \n",
       "13673     1964     April 1964  \n",
       "13674     1964       May 1964  "
      ]
     },
     "execution_count": 174,
     "metadata": {},
     "output_type": "execute_result"
    }
   ],
   "source": [
    "df_pro_sup_p.head()"
   ]
  },
  {
   "cell_type": "code",
   "execution_count": 175,
   "id": "e97f6686-ced2-4532-8789-f4ffc5645a62",
   "metadata": {},
   "outputs": [
    {
     "data": {
      "text/html": [
       "<div>\n",
       "<style scoped>\n",
       "    .dataframe tbody tr th:only-of-type {\n",
       "        vertical-align: middle;\n",
       "    }\n",
       "\n",
       "    .dataframe tbody tr th {\n",
       "        vertical-align: top;\n",
       "    }\n",
       "\n",
       "    .dataframe thead th {\n",
       "        text-align: right;\n",
       "    }\n",
       "</style>\n",
       "<table border=\"1\" class=\"dataframe\">\n",
       "  <thead>\n",
       "    <tr style=\"text-align: right;\">\n",
       "      <th></th>\n",
       "      <th>series_id</th>\n",
       "      <th>year</th>\n",
       "      <th>period</th>\n",
       "      <th>totalInThousands</th>\n",
       "      <th>footnote_codes</th>\n",
       "      <th>month</th>\n",
       "      <th>year_str</th>\n",
       "      <th>date</th>\n",
       "    </tr>\n",
       "  </thead>\n",
       "  <tbody>\n",
       "    <tr>\n",
       "      <th>12564</th>\n",
       "      <td>CEU0500000001</td>\n",
       "      <td>1939</td>\n",
       "      <td>M01</td>\n",
       "      <td>25338</td>\n",
       "      <td>None</td>\n",
       "      <td>January</td>\n",
       "      <td>1939</td>\n",
       "      <td>January 1939</td>\n",
       "    </tr>\n",
       "    <tr>\n",
       "      <th>12565</th>\n",
       "      <td>CEU0500000001</td>\n",
       "      <td>1939</td>\n",
       "      <td>M02</td>\n",
       "      <td>25447</td>\n",
       "      <td>None</td>\n",
       "      <td>February</td>\n",
       "      <td>1939</td>\n",
       "      <td>February 1939</td>\n",
       "    </tr>\n",
       "    <tr>\n",
       "      <th>12566</th>\n",
       "      <td>CEU0500000001</td>\n",
       "      <td>1939</td>\n",
       "      <td>M03</td>\n",
       "      <td>25833</td>\n",
       "      <td>None</td>\n",
       "      <td>March</td>\n",
       "      <td>1939</td>\n",
       "      <td>March 1939</td>\n",
       "    </tr>\n",
       "    <tr>\n",
       "      <th>12567</th>\n",
       "      <td>CEU0500000001</td>\n",
       "      <td>1939</td>\n",
       "      <td>M04</td>\n",
       "      <td>25801</td>\n",
       "      <td>None</td>\n",
       "      <td>April</td>\n",
       "      <td>1939</td>\n",
       "      <td>April 1939</td>\n",
       "    </tr>\n",
       "    <tr>\n",
       "      <th>12568</th>\n",
       "      <td>CEU0500000001</td>\n",
       "      <td>1939</td>\n",
       "      <td>M05</td>\n",
       "      <td>26113</td>\n",
       "      <td>None</td>\n",
       "      <td>May</td>\n",
       "      <td>1939</td>\n",
       "      <td>May 1939</td>\n",
       "    </tr>\n",
       "  </tbody>\n",
       "</table>\n",
       "</div>"
      ],
      "text/plain": [
       "           series_id  year period  totalInThousands footnote_codes     month  \\\n",
       "12564  CEU0500000001  1939    M01             25338           None   January   \n",
       "12565  CEU0500000001  1939    M02             25447           None  February   \n",
       "12566  CEU0500000001  1939    M03             25833           None     March   \n",
       "12567  CEU0500000001  1939    M04             25801           None     April   \n",
       "12568  CEU0500000001  1939    M05             26113           None       May   \n",
       "\n",
       "      year_str           date  \n",
       "12564     1939   January 1939  \n",
       "12565     1939  February 1939  \n",
       "12566     1939     March 1939  \n",
       "12567     1939     April 1939  \n",
       "12568     1939       May 1939  "
      ]
     },
     "execution_count": 175,
     "metadata": {},
     "output_type": "execute_result"
    }
   ],
   "source": [
    "df_pro_sup_t.head()"
   ]
  },
  {
   "cell_type": "code",
   "execution_count": 176,
   "id": "afb84a2d-535b-40de-b856-6855db2a3ae8",
   "metadata": {},
   "outputs": [
    {
     "data": {
      "text/html": [
       "<div>\n",
       "<style scoped>\n",
       "    .dataframe tbody tr th:only-of-type {\n",
       "        vertical-align: middle;\n",
       "    }\n",
       "\n",
       "    .dataframe tbody tr th {\n",
       "        vertical-align: top;\n",
       "    }\n",
       "\n",
       "    .dataframe thead th {\n",
       "        text-align: right;\n",
       "    }\n",
       "</style>\n",
       "<table border=\"1\" class=\"dataframe\">\n",
       "  <thead>\n",
       "    <tr style=\"text-align: right;\">\n",
       "      <th></th>\n",
       "      <th>series_id</th>\n",
       "      <th>year</th>\n",
       "      <th>period</th>\n",
       "      <th>prodInThousands</th>\n",
       "      <th>footnote_codes</th>\n",
       "      <th>month</th>\n",
       "      <th>year_str</th>\n",
       "      <th>date</th>\n",
       "    </tr>\n",
       "  </thead>\n",
       "  <tbody>\n",
       "    <tr>\n",
       "      <th>14445</th>\n",
       "      <td>CEU0500000006</td>\n",
       "      <td>2023</td>\n",
       "      <td>M09</td>\n",
       "      <td>108899</td>\n",
       "      <td>None</td>\n",
       "      <td>September</td>\n",
       "      <td>2023</td>\n",
       "      <td>September 2023</td>\n",
       "    </tr>\n",
       "    <tr>\n",
       "      <th>14446</th>\n",
       "      <td>CEU0500000006</td>\n",
       "      <td>2023</td>\n",
       "      <td>M10</td>\n",
       "      <td>109513</td>\n",
       "      <td>None</td>\n",
       "      <td>October</td>\n",
       "      <td>2023</td>\n",
       "      <td>October 2023</td>\n",
       "    </tr>\n",
       "    <tr>\n",
       "      <th>14447</th>\n",
       "      <td>CEU0500000006</td>\n",
       "      <td>2023</td>\n",
       "      <td>M11</td>\n",
       "      <td>109887</td>\n",
       "      <td>None</td>\n",
       "      <td>November</td>\n",
       "      <td>2023</td>\n",
       "      <td>November 2023</td>\n",
       "    </tr>\n",
       "    <tr>\n",
       "      <th>14448</th>\n",
       "      <td>CEU0500000006</td>\n",
       "      <td>2023</td>\n",
       "      <td>M12</td>\n",
       "      <td>109756</td>\n",
       "      <td>P</td>\n",
       "      <td>December</td>\n",
       "      <td>2023</td>\n",
       "      <td>December 2023</td>\n",
       "    </tr>\n",
       "    <tr>\n",
       "      <th>14450</th>\n",
       "      <td>CEU0500000006</td>\n",
       "      <td>2024</td>\n",
       "      <td>M01</td>\n",
       "      <td>107767</td>\n",
       "      <td>P</td>\n",
       "      <td>January</td>\n",
       "      <td>2024</td>\n",
       "      <td>January 2024</td>\n",
       "    </tr>\n",
       "  </tbody>\n",
       "</table>\n",
       "</div>"
      ],
      "text/plain": [
       "           series_id  year period  prodInThousands footnote_codes      month  \\\n",
       "14445  CEU0500000006  2023    M09           108899           None  September   \n",
       "14446  CEU0500000006  2023    M10           109513           None    October   \n",
       "14447  CEU0500000006  2023    M11           109887           None   November   \n",
       "14448  CEU0500000006  2023    M12           109756              P   December   \n",
       "14450  CEU0500000006  2024    M01           107767              P    January   \n",
       "\n",
       "      year_str            date  \n",
       "14445     2023  September 2023  \n",
       "14446     2023    October 2023  \n",
       "14447     2023   November 2023  \n",
       "14448     2023   December 2023  \n",
       "14450     2024    January 2024  "
      ]
     },
     "execution_count": 176,
     "metadata": {},
     "output_type": "execute_result"
    }
   ],
   "source": [
    "df_pro_sup_p.tail()"
   ]
  },
  {
   "cell_type": "code",
   "execution_count": 177,
   "id": "1e1fc4c9-8774-4499-a700-5b4ea59cf4f6",
   "metadata": {},
   "outputs": [
    {
     "data": {
      "text/html": [
       "<div>\n",
       "<style scoped>\n",
       "    .dataframe tbody tr th:only-of-type {\n",
       "        vertical-align: middle;\n",
       "    }\n",
       "\n",
       "    .dataframe tbody tr th {\n",
       "        vertical-align: top;\n",
       "    }\n",
       "\n",
       "    .dataframe thead th {\n",
       "        text-align: right;\n",
       "    }\n",
       "</style>\n",
       "<table border=\"1\" class=\"dataframe\">\n",
       "  <thead>\n",
       "    <tr style=\"text-align: right;\">\n",
       "      <th></th>\n",
       "      <th>series_id</th>\n",
       "      <th>year</th>\n",
       "      <th>period</th>\n",
       "      <th>totalInThousands</th>\n",
       "      <th>footnote_codes</th>\n",
       "      <th>month</th>\n",
       "      <th>year_str</th>\n",
       "      <th>date</th>\n",
       "    </tr>\n",
       "  </thead>\n",
       "  <tbody>\n",
       "    <tr>\n",
       "      <th>13664</th>\n",
       "      <td>CEU0500000001</td>\n",
       "      <td>2023</td>\n",
       "      <td>M09</td>\n",
       "      <td>133861</td>\n",
       "      <td>None</td>\n",
       "      <td>September</td>\n",
       "      <td>2023</td>\n",
       "      <td>September 2023</td>\n",
       "    </tr>\n",
       "    <tr>\n",
       "      <th>13665</th>\n",
       "      <td>CEU0500000001</td>\n",
       "      <td>2023</td>\n",
       "      <td>M10</td>\n",
       "      <td>134550</td>\n",
       "      <td>None</td>\n",
       "      <td>October</td>\n",
       "      <td>2023</td>\n",
       "      <td>October 2023</td>\n",
       "    </tr>\n",
       "    <tr>\n",
       "      <th>13666</th>\n",
       "      <td>CEU0500000001</td>\n",
       "      <td>2023</td>\n",
       "      <td>M11</td>\n",
       "      <td>134881</td>\n",
       "      <td>None</td>\n",
       "      <td>November</td>\n",
       "      <td>2023</td>\n",
       "      <td>November 2023</td>\n",
       "    </tr>\n",
       "    <tr>\n",
       "      <th>13667</th>\n",
       "      <td>CEU0500000001</td>\n",
       "      <td>2023</td>\n",
       "      <td>M12</td>\n",
       "      <td>134900</td>\n",
       "      <td>P</td>\n",
       "      <td>December</td>\n",
       "      <td>2023</td>\n",
       "      <td>December 2023</td>\n",
       "    </tr>\n",
       "    <tr>\n",
       "      <th>13669</th>\n",
       "      <td>CEU0500000001</td>\n",
       "      <td>2024</td>\n",
       "      <td>M01</td>\n",
       "      <td>132650</td>\n",
       "      <td>P</td>\n",
       "      <td>January</td>\n",
       "      <td>2024</td>\n",
       "      <td>January 2024</td>\n",
       "    </tr>\n",
       "  </tbody>\n",
       "</table>\n",
       "</div>"
      ],
      "text/plain": [
       "           series_id  year period  totalInThousands footnote_codes      month  \\\n",
       "13664  CEU0500000001  2023    M09            133861           None  September   \n",
       "13665  CEU0500000001  2023    M10            134550           None    October   \n",
       "13666  CEU0500000001  2023    M11            134881           None   November   \n",
       "13667  CEU0500000001  2023    M12            134900              P   December   \n",
       "13669  CEU0500000001  2024    M01            132650              P    January   \n",
       "\n",
       "      year_str            date  \n",
       "13664     2023  September 2023  \n",
       "13665     2023    October 2023  \n",
       "13666     2023   November 2023  \n",
       "13667     2023   December 2023  \n",
       "13669     2024    January 2024  "
      ]
     },
     "execution_count": 177,
     "metadata": {},
     "output_type": "execute_result"
    }
   ],
   "source": [
    "df_pro_sup_t.tail()"
   ]
  },
  {
   "cell_type": "markdown",
   "id": "fd827906-1aa8-48f8-b227-64a385bebf1c",
   "metadata": {},
   "source": [
    "__The start date between the series differ, however it is possible to calculate the ratio from 1964__"
   ]
  },
  {
   "cell_type": "code",
   "execution_count": 178,
   "id": "744bb195-e205-4b31-845d-9be09a5265a8",
   "metadata": {},
   "outputs": [],
   "source": [
    "# Merge series of government data\n",
    "df_pro_sup_merge = pd.merge(df_pro_sup_t[['date','totalInThousands']], df_pro_sup_p[['date','prodInThousands']], on='date', how='left')"
   ]
  },
  {
   "cell_type": "code",
   "execution_count": 179,
   "id": "c7ec2332-0f56-4157-a491-73772da81351",
   "metadata": {},
   "outputs": [
    {
     "data": {
      "text/html": [
       "<div>\n",
       "<style scoped>\n",
       "    .dataframe tbody tr th:only-of-type {\n",
       "        vertical-align: middle;\n",
       "    }\n",
       "\n",
       "    .dataframe tbody tr th {\n",
       "        vertical-align: top;\n",
       "    }\n",
       "\n",
       "    .dataframe thead th {\n",
       "        text-align: right;\n",
       "    }\n",
       "</style>\n",
       "<table border=\"1\" class=\"dataframe\">\n",
       "  <thead>\n",
       "    <tr style=\"text-align: right;\">\n",
       "      <th></th>\n",
       "      <th>date</th>\n",
       "      <th>totalInThousands</th>\n",
       "      <th>prodInThousands</th>\n",
       "    </tr>\n",
       "  </thead>\n",
       "  <tbody>\n",
       "    <tr>\n",
       "      <th>0</th>\n",
       "      <td>January 1939</td>\n",
       "      <td>25338</td>\n",
       "      <td>NaN</td>\n",
       "    </tr>\n",
       "    <tr>\n",
       "      <th>1</th>\n",
       "      <td>February 1939</td>\n",
       "      <td>25447</td>\n",
       "      <td>NaN</td>\n",
       "    </tr>\n",
       "    <tr>\n",
       "      <th>2</th>\n",
       "      <td>March 1939</td>\n",
       "      <td>25833</td>\n",
       "      <td>NaN</td>\n",
       "    </tr>\n",
       "    <tr>\n",
       "      <th>3</th>\n",
       "      <td>April 1939</td>\n",
       "      <td>25801</td>\n",
       "      <td>NaN</td>\n",
       "    </tr>\n",
       "    <tr>\n",
       "      <th>4</th>\n",
       "      <td>May 1939</td>\n",
       "      <td>26113</td>\n",
       "      <td>NaN</td>\n",
       "    </tr>\n",
       "  </tbody>\n",
       "</table>\n",
       "</div>"
      ],
      "text/plain": [
       "            date  totalInThousands  prodInThousands\n",
       "0   January 1939             25338              NaN\n",
       "1  February 1939             25447              NaN\n",
       "2     March 1939             25833              NaN\n",
       "3     April 1939             25801              NaN\n",
       "4       May 1939             26113              NaN"
      ]
     },
     "execution_count": 179,
     "metadata": {},
     "output_type": "execute_result"
    }
   ],
   "source": [
    "df_pro_sup_merge.head()"
   ]
  },
  {
   "cell_type": "code",
   "execution_count": 180,
   "id": "10dbf50b-0af4-4b1c-b9f2-b78afd33f981",
   "metadata": {},
   "outputs": [
    {
     "data": {
      "text/html": [
       "<div>\n",
       "<style scoped>\n",
       "    .dataframe tbody tr th:only-of-type {\n",
       "        vertical-align: middle;\n",
       "    }\n",
       "\n",
       "    .dataframe tbody tr th {\n",
       "        vertical-align: top;\n",
       "    }\n",
       "\n",
       "    .dataframe thead th {\n",
       "        text-align: right;\n",
       "    }\n",
       "</style>\n",
       "<table border=\"1\" class=\"dataframe\">\n",
       "  <thead>\n",
       "    <tr style=\"text-align: right;\">\n",
       "      <th></th>\n",
       "      <th>date</th>\n",
       "      <th>totalInThousands</th>\n",
       "      <th>prodInThousands</th>\n",
       "    </tr>\n",
       "  </thead>\n",
       "  <tbody>\n",
       "    <tr>\n",
       "      <th>1016</th>\n",
       "      <td>September 2023</td>\n",
       "      <td>133861</td>\n",
       "      <td>108899.0</td>\n",
       "    </tr>\n",
       "    <tr>\n",
       "      <th>1017</th>\n",
       "      <td>October 2023</td>\n",
       "      <td>134550</td>\n",
       "      <td>109513.0</td>\n",
       "    </tr>\n",
       "    <tr>\n",
       "      <th>1018</th>\n",
       "      <td>November 2023</td>\n",
       "      <td>134881</td>\n",
       "      <td>109887.0</td>\n",
       "    </tr>\n",
       "    <tr>\n",
       "      <th>1019</th>\n",
       "      <td>December 2023</td>\n",
       "      <td>134900</td>\n",
       "      <td>109756.0</td>\n",
       "    </tr>\n",
       "    <tr>\n",
       "      <th>1020</th>\n",
       "      <td>January 2024</td>\n",
       "      <td>132650</td>\n",
       "      <td>107767.0</td>\n",
       "    </tr>\n",
       "  </tbody>\n",
       "</table>\n",
       "</div>"
      ],
      "text/plain": [
       "                date  totalInThousands  prodInThousands\n",
       "1016  September 2023            133861         108899.0\n",
       "1017    October 2023            134550         109513.0\n",
       "1018   November 2023            134881         109887.0\n",
       "1019   December 2023            134900         109756.0\n",
       "1020    January 2024            132650         107767.0"
      ]
     },
     "execution_count": 180,
     "metadata": {},
     "output_type": "execute_result"
    }
   ],
   "source": [
    "df_pro_sup_merge.tail()"
   ]
  },
  {
   "cell_type": "code",
   "execution_count": 181,
   "id": "0e15bfae-01da-4a76-b581-de3bb89a795b",
   "metadata": {},
   "outputs": [],
   "source": [
    "# Supervisory employees\n",
    "df_pro_sup_merge['supInThousands'] = df_pro_sup_merge['totalInThousands'] -df_pro_sup_merge['prodInThousands']\n",
    "# Production employees / supervisory employees Ratio\n",
    "df_pro_sup_merge['prod_sup_ratio'] = round(df_pro_sup_merge['prodInThousands']/df_pro_sup_merge['supInThousands'],2)"
   ]
  },
  {
   "cell_type": "code",
   "execution_count": 182,
   "id": "267377e8-cc76-4946-aa15-c09cae9622f9",
   "metadata": {},
   "outputs": [
    {
     "data": {
      "text/html": [
       "<div>\n",
       "<style scoped>\n",
       "    .dataframe tbody tr th:only-of-type {\n",
       "        vertical-align: middle;\n",
       "    }\n",
       "\n",
       "    .dataframe tbody tr th {\n",
       "        vertical-align: top;\n",
       "    }\n",
       "\n",
       "    .dataframe thead th {\n",
       "        text-align: right;\n",
       "    }\n",
       "</style>\n",
       "<table border=\"1\" class=\"dataframe\">\n",
       "  <thead>\n",
       "    <tr style=\"text-align: right;\">\n",
       "      <th></th>\n",
       "      <th>date</th>\n",
       "      <th>totalInThousands</th>\n",
       "      <th>prodInThousands</th>\n",
       "      <th>supInThousands</th>\n",
       "      <th>prod_sup_ratio</th>\n",
       "    </tr>\n",
       "  </thead>\n",
       "  <tbody>\n",
       "    <tr>\n",
       "      <th>0</th>\n",
       "      <td>January 1939</td>\n",
       "      <td>25338</td>\n",
       "      <td>NaN</td>\n",
       "      <td>NaN</td>\n",
       "      <td>NaN</td>\n",
       "    </tr>\n",
       "    <tr>\n",
       "      <th>1</th>\n",
       "      <td>February 1939</td>\n",
       "      <td>25447</td>\n",
       "      <td>NaN</td>\n",
       "      <td>NaN</td>\n",
       "      <td>NaN</td>\n",
       "    </tr>\n",
       "    <tr>\n",
       "      <th>2</th>\n",
       "      <td>March 1939</td>\n",
       "      <td>25833</td>\n",
       "      <td>NaN</td>\n",
       "      <td>NaN</td>\n",
       "      <td>NaN</td>\n",
       "    </tr>\n",
       "    <tr>\n",
       "      <th>3</th>\n",
       "      <td>April 1939</td>\n",
       "      <td>25801</td>\n",
       "      <td>NaN</td>\n",
       "      <td>NaN</td>\n",
       "      <td>NaN</td>\n",
       "    </tr>\n",
       "    <tr>\n",
       "      <th>4</th>\n",
       "      <td>May 1939</td>\n",
       "      <td>26113</td>\n",
       "      <td>NaN</td>\n",
       "      <td>NaN</td>\n",
       "      <td>NaN</td>\n",
       "    </tr>\n",
       "  </tbody>\n",
       "</table>\n",
       "</div>"
      ],
      "text/plain": [
       "            date  totalInThousands  prodInThousands  supInThousands  \\\n",
       "0   January 1939             25338              NaN             NaN   \n",
       "1  February 1939             25447              NaN             NaN   \n",
       "2     March 1939             25833              NaN             NaN   \n",
       "3     April 1939             25801              NaN             NaN   \n",
       "4       May 1939             26113              NaN             NaN   \n",
       "\n",
       "   prod_sup_ratio  \n",
       "0             NaN  \n",
       "1             NaN  \n",
       "2             NaN  \n",
       "3             NaN  \n",
       "4             NaN  "
      ]
     },
     "execution_count": 182,
     "metadata": {},
     "output_type": "execute_result"
    }
   ],
   "source": [
    "df_pro_sup_merge.head()"
   ]
  },
  {
   "cell_type": "code",
   "execution_count": 183,
   "id": "5c83cf7e-7146-4ece-9c57-794b6c586718",
   "metadata": {},
   "outputs": [
    {
     "data": {
      "text/html": [
       "<div>\n",
       "<style scoped>\n",
       "    .dataframe tbody tr th:only-of-type {\n",
       "        vertical-align: middle;\n",
       "    }\n",
       "\n",
       "    .dataframe tbody tr th {\n",
       "        vertical-align: top;\n",
       "    }\n",
       "\n",
       "    .dataframe thead th {\n",
       "        text-align: right;\n",
       "    }\n",
       "</style>\n",
       "<table border=\"1\" class=\"dataframe\">\n",
       "  <thead>\n",
       "    <tr style=\"text-align: right;\">\n",
       "      <th></th>\n",
       "      <th>date</th>\n",
       "      <th>totalInThousands</th>\n",
       "      <th>prodInThousands</th>\n",
       "      <th>supInThousands</th>\n",
       "      <th>prod_sup_ratio</th>\n",
       "    </tr>\n",
       "  </thead>\n",
       "  <tbody>\n",
       "    <tr>\n",
       "      <th>1016</th>\n",
       "      <td>September 2023</td>\n",
       "      <td>133861</td>\n",
       "      <td>108899.0</td>\n",
       "      <td>24962.0</td>\n",
       "      <td>4.36</td>\n",
       "    </tr>\n",
       "    <tr>\n",
       "      <th>1017</th>\n",
       "      <td>October 2023</td>\n",
       "      <td>134550</td>\n",
       "      <td>109513.0</td>\n",
       "      <td>25037.0</td>\n",
       "      <td>4.37</td>\n",
       "    </tr>\n",
       "    <tr>\n",
       "      <th>1018</th>\n",
       "      <td>November 2023</td>\n",
       "      <td>134881</td>\n",
       "      <td>109887.0</td>\n",
       "      <td>24994.0</td>\n",
       "      <td>4.40</td>\n",
       "    </tr>\n",
       "    <tr>\n",
       "      <th>1019</th>\n",
       "      <td>December 2023</td>\n",
       "      <td>134900</td>\n",
       "      <td>109756.0</td>\n",
       "      <td>25144.0</td>\n",
       "      <td>4.37</td>\n",
       "    </tr>\n",
       "    <tr>\n",
       "      <th>1020</th>\n",
       "      <td>January 2024</td>\n",
       "      <td>132650</td>\n",
       "      <td>107767.0</td>\n",
       "      <td>24883.0</td>\n",
       "      <td>4.33</td>\n",
       "    </tr>\n",
       "  </tbody>\n",
       "</table>\n",
       "</div>"
      ],
      "text/plain": [
       "                date  totalInThousands  prodInThousands  supInThousands  \\\n",
       "1016  September 2023            133861         108899.0         24962.0   \n",
       "1017    October 2023            134550         109513.0         25037.0   \n",
       "1018   November 2023            134881         109887.0         24994.0   \n",
       "1019   December 2023            134900         109756.0         25144.0   \n",
       "1020    January 2024            132650         107767.0         24883.0   \n",
       "\n",
       "      prod_sup_ratio  \n",
       "1016            4.36  \n",
       "1017            4.37  \n",
       "1018            4.40  \n",
       "1019            4.37  \n",
       "1020            4.33  "
      ]
     },
     "execution_count": 183,
     "metadata": {},
     "output_type": "execute_result"
    }
   ],
   "source": [
    "df_pro_sup_merge.tail()"
   ]
  },
  {
   "cell_type": "code",
   "execution_count": 184,
   "id": "ee490dfe-154d-44ed-bf94-0f1d8840ab99",
   "metadata": {},
   "outputs": [
    {
     "data": {
      "text/plain": [
       "date                 object\n",
       "totalInThousands      int64\n",
       "prodInThousands     float64\n",
       "supInThousands      float64\n",
       "prod_sup_ratio      float64\n",
       "dtype: object"
      ]
     },
     "execution_count": 184,
     "metadata": {},
     "output_type": "execute_result"
    }
   ],
   "source": [
    "df_pro_sup_merge.dtypes"
   ]
  },
  {
   "cell_type": "markdown",
   "id": "de86ffd6-8d00-40fa-afc2-095b54e0aff3",
   "metadata": {},
   "source": [
    "# Exploratory data analysis (EDA)"
   ]
  },
  {
   "cell_type": "markdown",
   "id": "56513eb7-7655-4080-9ae7-b02209d6001f",
   "metadata": {},
   "source": [
    "## Descriptive statistics"
   ]
  },
  {
   "cell_type": "code",
   "execution_count": 185,
   "id": "65e42c3a-9684-40e9-a07c-bdb635d94878",
   "metadata": {},
   "outputs": [
    {
     "data": {
      "text/html": [
       "<div>\n",
       "<style scoped>\n",
       "    .dataframe tbody tr th:only-of-type {\n",
       "        vertical-align: middle;\n",
       "    }\n",
       "\n",
       "    .dataframe tbody tr th {\n",
       "        vertical-align: top;\n",
       "    }\n",
       "\n",
       "    .dataframe thead th {\n",
       "        text-align: right;\n",
       "    }\n",
       "</style>\n",
       "<table border=\"1\" class=\"dataframe\">\n",
       "  <thead>\n",
       "    <tr style=\"text-align: right;\">\n",
       "      <th></th>\n",
       "      <th>womenInThousands</th>\n",
       "      <th>totalInThousands</th>\n",
       "      <th>wom_gov_ratio</th>\n",
       "    </tr>\n",
       "  </thead>\n",
       "  <tbody>\n",
       "    <tr>\n",
       "      <th>count</th>\n",
       "      <td>721.000000</td>\n",
       "      <td>721.000000</td>\n",
       "      <td>721.000000</td>\n",
       "    </tr>\n",
       "    <tr>\n",
       "      <th>mean</th>\n",
       "      <td>9758.671290</td>\n",
       "      <td>18323.237171</td>\n",
       "      <td>0.520527</td>\n",
       "    </tr>\n",
       "    <tr>\n",
       "      <th>std</th>\n",
       "      <td>2926.170499</td>\n",
       "      <td>3817.972104</td>\n",
       "      <td>0.060208</td>\n",
       "    </tr>\n",
       "    <tr>\n",
       "      <th>min</th>\n",
       "      <td>3506.000000</td>\n",
       "      <td>9342.000000</td>\n",
       "      <td>0.370000</td>\n",
       "    </tr>\n",
       "    <tr>\n",
       "      <th>25%</th>\n",
       "      <td>7447.000000</td>\n",
       "      <td>15594.000000</td>\n",
       "      <td>0.480000</td>\n",
       "    </tr>\n",
       "    <tr>\n",
       "      <th>50%</th>\n",
       "      <td>10386.000000</td>\n",
       "      <td>19093.000000</td>\n",
       "      <td>0.540000</td>\n",
       "    </tr>\n",
       "    <tr>\n",
       "      <th>75%</th>\n",
       "      <td>12586.000000</td>\n",
       "      <td>21957.000000</td>\n",
       "      <td>0.570000</td>\n",
       "    </tr>\n",
       "    <tr>\n",
       "      <th>max</th>\n",
       "      <td>13756.000000</td>\n",
       "      <td>23466.000000</td>\n",
       "      <td>0.590000</td>\n",
       "    </tr>\n",
       "  </tbody>\n",
       "</table>\n",
       "</div>"
      ],
      "text/plain": [
       "       womenInThousands  totalInThousands  wom_gov_ratio\n",
       "count        721.000000        721.000000     721.000000\n",
       "mean        9758.671290      18323.237171       0.520527\n",
       "std         2926.170499       3817.972104       0.060208\n",
       "min         3506.000000       9342.000000       0.370000\n",
       "25%         7447.000000      15594.000000       0.480000\n",
       "50%        10386.000000      19093.000000       0.540000\n",
       "75%        12586.000000      21957.000000       0.570000\n",
       "max        13756.000000      23466.000000       0.590000"
      ]
     },
     "execution_count": 185,
     "metadata": {},
     "output_type": "execute_result"
    }
   ],
   "source": [
    "df_gov_merge.describe()"
   ]
  },
  {
   "cell_type": "code",
   "execution_count": 186,
   "id": "1fe51812-57ec-4315-9928-72a969f7bee5",
   "metadata": {},
   "outputs": [
    {
     "data": {
      "text/html": [
       "<div>\n",
       "<style scoped>\n",
       "    .dataframe tbody tr th:only-of-type {\n",
       "        vertical-align: middle;\n",
       "    }\n",
       "\n",
       "    .dataframe tbody tr th {\n",
       "        vertical-align: top;\n",
       "    }\n",
       "\n",
       "    .dataframe thead th {\n",
       "        text-align: right;\n",
       "    }\n",
       "</style>\n",
       "<table border=\"1\" class=\"dataframe\">\n",
       "  <thead>\n",
       "    <tr style=\"text-align: right;\">\n",
       "      <th></th>\n",
       "      <th>totalInThousands</th>\n",
       "      <th>prodInThousands</th>\n",
       "      <th>supInThousands</th>\n",
       "      <th>prod_sup_ratio</th>\n",
       "    </tr>\n",
       "  </thead>\n",
       "  <tbody>\n",
       "    <tr>\n",
       "      <th>count</th>\n",
       "      <td>1021.00000</td>\n",
       "      <td>721.000000</td>\n",
       "      <td>721.000000</td>\n",
       "      <td>721.000000</td>\n",
       "    </tr>\n",
       "    <tr>\n",
       "      <th>mean</th>\n",
       "      <td>77039.91381</td>\n",
       "      <td>75677.768377</td>\n",
       "      <td>16841.059639</td>\n",
       "      <td>4.520000</td>\n",
       "    </tr>\n",
       "    <tr>\n",
       "      <th>std</th>\n",
       "      <td>31742.88163</td>\n",
       "      <td>19946.939445</td>\n",
       "      <td>4550.930734</td>\n",
       "      <td>0.243168</td>\n",
       "    </tr>\n",
       "    <tr>\n",
       "      <th>min</th>\n",
       "      <td>25338.00000</td>\n",
       "      <td>38888.000000</td>\n",
       "      <td>7991.000000</td>\n",
       "      <td>4.090000</td>\n",
       "    </tr>\n",
       "    <tr>\n",
       "      <th>25%</th>\n",
       "      <td>45769.00000</td>\n",
       "      <td>58912.000000</td>\n",
       "      <td>13161.000000</td>\n",
       "      <td>4.320000</td>\n",
       "    </tr>\n",
       "    <tr>\n",
       "      <th>50%</th>\n",
       "      <td>74297.00000</td>\n",
       "      <td>75872.000000</td>\n",
       "      <td>17469.000000</td>\n",
       "      <td>4.470000</td>\n",
       "    </tr>\n",
       "    <tr>\n",
       "      <th>75%</th>\n",
       "      <td>109089.00000</td>\n",
       "      <td>92059.000000</td>\n",
       "      <td>20619.000000</td>\n",
       "      <td>4.720000</td>\n",
       "    </tr>\n",
       "    <tr>\n",
       "      <th>max</th>\n",
       "      <td>134900.00000</td>\n",
       "      <td>109887.000000</td>\n",
       "      <td>25144.000000</td>\n",
       "      <td>5.140000</td>\n",
       "    </tr>\n",
       "  </tbody>\n",
       "</table>\n",
       "</div>"
      ],
      "text/plain": [
       "       totalInThousands  prodInThousands  supInThousands  prod_sup_ratio\n",
       "count        1021.00000       721.000000      721.000000      721.000000\n",
       "mean        77039.91381     75677.768377    16841.059639        4.520000\n",
       "std         31742.88163     19946.939445     4550.930734        0.243168\n",
       "min         25338.00000     38888.000000     7991.000000        4.090000\n",
       "25%         45769.00000     58912.000000    13161.000000        4.320000\n",
       "50%         74297.00000     75872.000000    17469.000000        4.470000\n",
       "75%        109089.00000     92059.000000    20619.000000        4.720000\n",
       "max        134900.00000    109887.000000    25144.000000        5.140000"
      ]
     },
     "execution_count": 186,
     "metadata": {},
     "output_type": "execute_result"
    }
   ],
   "source": [
    "df_pro_sup_merge.describe()"
   ]
  },
  {
   "cell_type": "markdown",
   "id": "0a4e78e1-cc6a-459c-8540-f025f11e13fe",
   "metadata": {},
   "source": [
    "## Ploting"
   ]
  },
  {
   "cell_type": "markdown",
   "id": "f86ceb2a-6ec1-4959-a8e9-2b24d039a9b4",
   "metadata": {},
   "source": [
    "### Women in government"
   ]
  },
  {
   "cell_type": "code",
   "execution_count": 187,
   "id": "194d65d8-6835-4471-85a9-6fd0eb0416d3",
   "metadata": {},
   "outputs": [
    {
     "data": {
      "image/png": "[encoded data removed]",
      "text/plain": [
       "<Figure size 1400x600 with 1 Axes>"
      ]
     },
     "metadata": {},
     "output_type": "display_data"
    }
   ],
   "source": [
    "df_gov_merge.plot(x='date', y='womenInThousands', kind='line', figsize=(14, 6))\n",
    "#plt.xlabel('X-axis label')\n",
    "#plt.ylabel('Y-axis label')\n",
    "plt.title('Woman in Government')\n",
    "plt.grid(True)\n",
    "plt.show()"
   ]
  },
  {
   "cell_type": "markdown",
   "id": "abe57e1e-1696-47b3-adb0-cc4a7d666db9",
   "metadata": {},
   "source": [
    "### Production / supervisory employees ratio"
   ]
  },
  {
   "cell_type": "code",
   "execution_count": 188,
   "id": "164e9792-81b3-48b2-a929-fd5c97389cbe",
   "metadata": {},
   "outputs": [
    {
     "data": {
      "image/png": "[encoded data removed]",
      "text/plain": [
       "<Figure size 1400x600 with 1 Axes>"
      ]
     },
     "metadata": {},
     "output_type": "display_data"
    }
   ],
   "source": [
    "df_pro_sup_merge.plot(x='date', y='prod_sup_ratio', kind='line', figsize=(14, 6))\n",
    "#plt.xlabel('X-axis label')\n",
    "#plt.ylabel('Y-axis label')\n",
    "plt.title('Production / supervisory employees ratio')\n",
    "plt.grid(True)\n",
    "plt.show()"
   ]
  },
  {
   "cell_type": "markdown",
   "id": "541e768e-7524-47e9-8a1c-93999bdc6bd1",
   "metadata": {},
   "source": [
    "# Uploading results to PostgreSQL"
   ]
  },
  {
   "cell_type": "markdown",
   "id": "5cdb5c8d-d045-447b-8dae-caefe76fb021",
   "metadata": {},
   "source": [
    "## Data preparation"
   ]
  },
  {
   "cell_type": "markdown",
   "id": "f85c479e-7255-43f0-bfcf-4ab96e79aafe",
   "metadata": {},
   "source": [
    "### Women in government"
   ]
  },
  {
   "cell_type": "code",
   "execution_count": 189,
   "id": "909511fc-8c28-4e49-bae4-e4fb100ae06e",
   "metadata": {},
   "outputs": [],
   "source": [
    "df_gov_merge_final = df_gov_merge"
   ]
  },
  {
   "cell_type": "code",
   "execution_count": 190,
   "id": "733ab6e1-ccd8-4e91-b737-2dbdba33c383",
   "metadata": {},
   "outputs": [
    {
     "data": {
      "text/html": [
       "<div>\n",
       "<style scoped>\n",
       "    .dataframe tbody tr th:only-of-type {\n",
       "        vertical-align: middle;\n",
       "    }\n",
       "\n",
       "    .dataframe tbody tr th {\n",
       "        vertical-align: top;\n",
       "    }\n",
       "\n",
       "    .dataframe thead th {\n",
       "        text-align: right;\n",
       "    }\n",
       "</style>\n",
       "<table border=\"1\" class=\"dataframe\">\n",
       "  <thead>\n",
       "    <tr style=\"text-align: right;\">\n",
       "      <th></th>\n",
       "      <th>date</th>\n",
       "      <th>womenInThousands</th>\n",
       "      <th>totalInThousands</th>\n",
       "      <th>wom_gov_ratio</th>\n",
       "    </tr>\n",
       "  </thead>\n",
       "  <tbody>\n",
       "    <tr>\n",
       "      <th>0</th>\n",
       "      <td>January 1964</td>\n",
       "      <td>3727</td>\n",
       "      <td>9581</td>\n",
       "      <td>0.39</td>\n",
       "    </tr>\n",
       "    <tr>\n",
       "      <th>1</th>\n",
       "      <td>February 1964</td>\n",
       "      <td>3776</td>\n",
       "      <td>9642</td>\n",
       "      <td>0.39</td>\n",
       "    </tr>\n",
       "    <tr>\n",
       "      <th>2</th>\n",
       "      <td>March 1964</td>\n",
       "      <td>3799</td>\n",
       "      <td>9689</td>\n",
       "      <td>0.39</td>\n",
       "    </tr>\n",
       "    <tr>\n",
       "      <th>3</th>\n",
       "      <td>April 1964</td>\n",
       "      <td>3815</td>\n",
       "      <td>9716</td>\n",
       "      <td>0.39</td>\n",
       "    </tr>\n",
       "    <tr>\n",
       "      <th>4</th>\n",
       "      <td>May 1964</td>\n",
       "      <td>3806</td>\n",
       "      <td>9722</td>\n",
       "      <td>0.39</td>\n",
       "    </tr>\n",
       "  </tbody>\n",
       "</table>\n",
       "</div>"
      ],
      "text/plain": [
       "            date  womenInThousands  totalInThousands  wom_gov_ratio\n",
       "0   January 1964              3727              9581           0.39\n",
       "1  February 1964              3776              9642           0.39\n",
       "2     March 1964              3799              9689           0.39\n",
       "3     April 1964              3815              9716           0.39\n",
       "4       May 1964              3806              9722           0.39"
      ]
     },
     "execution_count": 190,
     "metadata": {},
     "output_type": "execute_result"
    }
   ],
   "source": [
    "df_gov_merge_final.head()"
   ]
  },
  {
   "cell_type": "markdown",
   "id": "60263994-ba50-4943-8f48-3b971ed295cc",
   "metadata": {},
   "source": [
    "### Production / supervisory employees ratio"
   ]
  },
  {
   "cell_type": "code",
   "execution_count": 191,
   "id": "50deee48-a588-42c4-bc76-0f88cc35e09b",
   "metadata": {},
   "outputs": [],
   "source": [
    "#df_pro_sup_merge.head()"
   ]
  },
  {
   "cell_type": "code",
   "execution_count": 192,
   "id": "15805472-a524-413f-bd09-f21a3f69d5f1",
   "metadata": {},
   "outputs": [],
   "source": [
    "# Dropping ratio NaN's\n",
    "df_pro_sup_merge_final = df_pro_sup_merge.dropna(subset=['prod_sup_ratio'])"
   ]
  },
  {
   "cell_type": "code",
   "execution_count": 193,
   "id": "bdbac89d-bca9-4fe6-9755-28d32c7fadb9",
   "metadata": {},
   "outputs": [
    {
     "data": {
      "text/html": [
       "<div>\n",
       "<style scoped>\n",
       "    .dataframe tbody tr th:only-of-type {\n",
       "        vertical-align: middle;\n",
       "    }\n",
       "\n",
       "    .dataframe tbody tr th {\n",
       "        vertical-align: top;\n",
       "    }\n",
       "\n",
       "    .dataframe thead th {\n",
       "        text-align: right;\n",
       "    }\n",
       "</style>\n",
       "<table border=\"1\" class=\"dataframe\">\n",
       "  <thead>\n",
       "    <tr style=\"text-align: right;\">\n",
       "      <th></th>\n",
       "      <th>date</th>\n",
       "      <th>totalInThousands</th>\n",
       "      <th>prodInThousands</th>\n",
       "      <th>supInThousands</th>\n",
       "      <th>prod_sup_ratio</th>\n",
       "    </tr>\n",
       "  </thead>\n",
       "  <tbody>\n",
       "    <tr>\n",
       "      <th>300</th>\n",
       "      <td>January 1964</td>\n",
       "      <td>46879</td>\n",
       "      <td>38888.0</td>\n",
       "      <td>7991.0</td>\n",
       "      <td>4.87</td>\n",
       "    </tr>\n",
       "    <tr>\n",
       "      <th>301</th>\n",
       "      <td>February 1964</td>\n",
       "      <td>46959</td>\n",
       "      <td>38951.0</td>\n",
       "      <td>8008.0</td>\n",
       "      <td>4.86</td>\n",
       "    </tr>\n",
       "    <tr>\n",
       "      <th>302</th>\n",
       "      <td>March 1964</td>\n",
       "      <td>47275</td>\n",
       "      <td>39240.0</td>\n",
       "      <td>8035.0</td>\n",
       "      <td>4.88</td>\n",
       "    </tr>\n",
       "    <tr>\n",
       "      <th>303</th>\n",
       "      <td>April 1964</td>\n",
       "      <td>47812</td>\n",
       "      <td>39765.0</td>\n",
       "      <td>8047.0</td>\n",
       "      <td>4.94</td>\n",
       "    </tr>\n",
       "    <tr>\n",
       "      <th>304</th>\n",
       "      <td>May 1964</td>\n",
       "      <td>48326</td>\n",
       "      <td>40258.0</td>\n",
       "      <td>8068.0</td>\n",
       "      <td>4.99</td>\n",
       "    </tr>\n",
       "  </tbody>\n",
       "</table>\n",
       "</div>"
      ],
      "text/plain": [
       "              date  totalInThousands  prodInThousands  supInThousands  \\\n",
       "300   January 1964             46879          38888.0          7991.0   \n",
       "301  February 1964             46959          38951.0          8008.0   \n",
       "302     March 1964             47275          39240.0          8035.0   \n",
       "303     April 1964             47812          39765.0          8047.0   \n",
       "304       May 1964             48326          40258.0          8068.0   \n",
       "\n",
       "     prod_sup_ratio  \n",
       "300            4.87  \n",
       "301            4.86  \n",
       "302            4.88  \n",
       "303            4.94  \n",
       "304            4.99  "
      ]
     },
     "execution_count": 193,
     "metadata": {},
     "output_type": "execute_result"
    }
   ],
   "source": [
    "df_pro_sup_merge_final.head()"
   ]
  },
  {
   "cell_type": "markdown",
   "id": "a2381058-5510-477a-9f58-e796e3dd8915",
   "metadata": {},
   "source": [
    "## Uploading to PostgreSQL server"
   ]
  },
  {
   "cell_type": "code",
   "execution_count": 197,
   "id": "4e5a76a4-328a-4377-861f-ab6acd60ee5f",
   "metadata": {},
   "outputs": [],
   "source": [
    "# # SQLAlchemy engine\n",
    "# engine = create_engine(f'postgresql://{username}:{password}@{hostname}/{database}')\n",
    "\n",
    "# # Table name\n",
    "# table_name = 'woman_gov'\n",
    "\n",
    "# # Schema name\n",
    "# schema = 'nimble'\n",
    "\n",
    "# # Upload DataFrame to the database\n",
    "# df_gov_merge_final.to_sql(table_name, engine, schema=schema, if_exists='replace', index=False)\n",
    "\n",
    "# # Dispose of the engine\n",
    "# engine.dispose()"
   ]
  },
  {
   "cell_type": "code",
   "execution_count": 198,
   "id": "3390bb7c-49b3-4ada-8b0d-5f38755fa7a9",
   "metadata": {},
   "outputs": [],
   "source": [
    "# SQLAlchemy engine\n",
    "engine = create_engine(f'postgresql://{username}:{password}@{hostname}/{database}')\n",
    "\n",
    "# # Table name\n",
    "# table_name = 'woman_gov'\n",
    "\n",
    "# Schema name\n",
    "schema = 'nimble'\n",
    "\n",
    "# Upload DataFrame to the database\n",
    "df_gov_merge_final.to_sql('woman_gov', engine, schema=schema, if_exists='replace', index=False)\n",
    "df_pro_sup_merge_final.to_sql('pro_sup', engine, schema=schema, if_exists='replace', index=False)\n",
    "\n",
    "# Dispose of the engine\n",
    "engine.dispose()"
   ]
  }
 ],
 "metadata": {
  "kernelspec": {
   "display_name": "Python 3",
   "language": "python",
   "name": "python3"
  },
  "language_info": {
   "codemirror_mode": {
    "name": "ipython",
    "version": 3
   },
   "file_extension": ".py",
   "mimetype": "text/x-python",
   "name": "python",
   "nbconvert_exporter": "python",
   "pygments_lexer": "ipython3",
   "version": "3.7.16"
  }
 },
 "nbformat": 4,
 "nbformat_minor": 5
}
