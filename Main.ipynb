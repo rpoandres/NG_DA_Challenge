{
 "cells": [
  {
   "cell_type": "markdown",
   "id": "2bdf1fb1-ab78-4d07-99d5-c79de324273f",
   "metadata": {},
   "source": [
    "# Data Analyst Challenge\n",
    "\n",
    "Author: Andres Restrepo"
   ]
  },
  {
   "cell_type": "markdown",
   "id": "b4a43d68-8b92-4ccd-bab5-7863aff43756",
   "metadata": {},
   "source": [
    "## Libraries"
   ]
  },
  {
   "cell_type": "code",
   "execution_count": 163,
   "id": "bd2bebf5-7fa5-49b5-aeae-c5217a1a15d4",
   "metadata": {},
   "outputs": [],
   "source": [
    "#pip install psycopg2"
   ]
  },
  {
   "cell_type": "code",
   "execution_count": 164,
   "id": "5982a944-616e-42b8-a6ea-571801c1fa94",
   "metadata": {},
   "outputs": [],
   "source": [
    "import psycopg2\n",
    "import pandas as pd"
   ]
  },
  {
   "cell_type": "markdown",
   "id": "79b86910-06c7-4277-9452-9ed953b708d4",
   "metadata": {},
   "source": [
    "# Connecting to PostgreSQL"
   ]
  },
  {
   "cell_type": "code",
   "execution_count": 165,
   "id": "1d455e03-7dcf-495d-ba5f-fa5d56a7baac",
   "metadata": {},
   "outputs": [],
   "source": [
    "# Connection parameters\n",
    "hostname = 'localhost'\n",
    "username = 'postgres'\n",
    "password = 'Evolucion.2024'\n",
    "database = 'ces_usa'\n",
    "\n",
    "# Establish connection\n",
    "connection = psycopg2.connect(\n",
    "    host=hostname,\n",
    "    user=username,\n",
    "    password=password,\n",
    "    dbname=database\n",
    ")"
   ]
  },
  {
   "cell_type": "markdown",
   "id": "5baa40a1-21fb-4418-bb78-f8a24d79bf75",
   "metadata": {
    "tags": []
   },
   "source": [
    "## Reading Government data"
   ]
  },
  {
   "cell_type": "code",
   "execution_count": 166,
   "id": "4a5ba7cd-4dbe-44a0-bbe2-ec8345028e69",
   "metadata": {},
   "outputs": [],
   "source": [
    "# Define SQL query\n",
    "query_gov = \"SELECT * FROM nimble.ce_data_90a;\"\n",
    "\n",
    "# Execute query and fetch data into a pandas DataFrame\n",
    "df_gov = pd.read_sql_query(query_gov, connection)\n"
   ]
  },
  {
   "cell_type": "code",
   "execution_count": 167,
   "id": "d197d2d6-7a91-4bc3-84f3-0d24c8c8702f",
   "metadata": {},
   "outputs": [
    {
     "data": {
      "text/plain": [
       "series_id         object\n",
       "year               int64\n",
       "period            object\n",
       "value              int64\n",
       "footnote_codes    object\n",
       "dtype: object"
      ]
     },
     "execution_count": 167,
     "metadata": {},
     "output_type": "execute_result"
    }
   ],
   "source": [
    "df_gov.dtypes"
   ]
  },
  {
   "cell_type": "code",
   "execution_count": 168,
   "id": "0eda8e91-d9c6-4ff5-af51-9a072388bf89",
   "metadata": {},
   "outputs": [
    {
     "data": {
      "text/html": [
       "<div>\n",
       "<style scoped>\n",
       "    .dataframe tbody tr th:only-of-type {\n",
       "        vertical-align: middle;\n",
       "    }\n",
       "\n",
       "    .dataframe tbody tr th {\n",
       "        vertical-align: top;\n",
       "    }\n",
       "\n",
       "    .dataframe thead th {\n",
       "        text-align: right;\n",
       "    }\n",
       "</style>\n",
       "<table border=\"1\" class=\"dataframe\">\n",
       "  <thead>\n",
       "    <tr style=\"text-align: right;\">\n",
       "      <th></th>\n",
       "      <th>series_id</th>\n",
       "      <th>year</th>\n",
       "      <th>period</th>\n",
       "      <th>value</th>\n",
       "      <th>footnote_codes</th>\n",
       "    </tr>\n",
       "  </thead>\n",
       "  <tbody>\n",
       "    <tr>\n",
       "      <th>0</th>\n",
       "      <td>CES9000000001</td>\n",
       "      <td>1939</td>\n",
       "      <td>M01</td>\n",
       "      <td>3988</td>\n",
       "      <td>None</td>\n",
       "    </tr>\n",
       "    <tr>\n",
       "      <th>1</th>\n",
       "      <td>CES9000000001</td>\n",
       "      <td>1939</td>\n",
       "      <td>M02</td>\n",
       "      <td>4001</td>\n",
       "      <td>None</td>\n",
       "    </tr>\n",
       "    <tr>\n",
       "      <th>2</th>\n",
       "      <td>CES9000000001</td>\n",
       "      <td>1939</td>\n",
       "      <td>M03</td>\n",
       "      <td>4002</td>\n",
       "      <td>None</td>\n",
       "    </tr>\n",
       "    <tr>\n",
       "      <th>3</th>\n",
       "      <td>CES9000000001</td>\n",
       "      <td>1939</td>\n",
       "      <td>M04</td>\n",
       "      <td>4002</td>\n",
       "      <td>None</td>\n",
       "    </tr>\n",
       "    <tr>\n",
       "      <th>4</th>\n",
       "      <td>CES9000000001</td>\n",
       "      <td>1939</td>\n",
       "      <td>M05</td>\n",
       "      <td>4006</td>\n",
       "      <td>None</td>\n",
       "    </tr>\n",
       "  </tbody>\n",
       "</table>\n",
       "</div>"
      ],
      "text/plain": [
       "           series_id  year period  value footnote_codes\n",
       "0  CES9000000001      1939    M01   3988           None\n",
       "1  CES9000000001      1939    M02   4001           None\n",
       "2  CES9000000001      1939    M03   4002           None\n",
       "3  CES9000000001      1939    M04   4002           None\n",
       "4  CES9000000001      1939    M05   4006           None"
      ]
     },
     "execution_count": 168,
     "metadata": {},
     "output_type": "execute_result"
    }
   ],
   "source": [
    "df_gov.head()"
   ]
  },
  {
   "cell_type": "code",
   "execution_count": 169,
   "id": "2097010d-01e1-4f05-a156-d379b21b3ac3",
   "metadata": {},
   "outputs": [
    {
     "data": {
      "text/html": [
       "<div>\n",
       "<style scoped>\n",
       "    .dataframe tbody tr th:only-of-type {\n",
       "        vertical-align: middle;\n",
       "    }\n",
       "\n",
       "    .dataframe tbody tr th {\n",
       "        vertical-align: top;\n",
       "    }\n",
       "\n",
       "    .dataframe thead th {\n",
       "        text-align: right;\n",
       "    }\n",
       "</style>\n",
       "<table border=\"1\" class=\"dataframe\">\n",
       "  <thead>\n",
       "    <tr style=\"text-align: right;\">\n",
       "      <th></th>\n",
       "      <th>series_id</th>\n",
       "      <th>year</th>\n",
       "      <th>period</th>\n",
       "      <th>value</th>\n",
       "      <th>footnote_codes</th>\n",
       "    </tr>\n",
       "  </thead>\n",
       "  <tbody>\n",
       "    <tr>\n",
       "      <th>58434</th>\n",
       "      <td>CEU9093299910</td>\n",
       "      <td>2023</td>\n",
       "      <td>M09</td>\n",
       "      <td>6222</td>\n",
       "      <td>None</td>\n",
       "    </tr>\n",
       "    <tr>\n",
       "      <th>58435</th>\n",
       "      <td>CEU9093299910</td>\n",
       "      <td>2023</td>\n",
       "      <td>M10</td>\n",
       "      <td>6196</td>\n",
       "      <td>None</td>\n",
       "    </tr>\n",
       "    <tr>\n",
       "      <th>58436</th>\n",
       "      <td>CEU9093299910</td>\n",
       "      <td>2023</td>\n",
       "      <td>M11</td>\n",
       "      <td>6190</td>\n",
       "      <td>None</td>\n",
       "    </tr>\n",
       "    <tr>\n",
       "      <th>58437</th>\n",
       "      <td>CEU9093299910</td>\n",
       "      <td>2023</td>\n",
       "      <td>M12</td>\n",
       "      <td>6207</td>\n",
       "      <td>P</td>\n",
       "    </tr>\n",
       "    <tr>\n",
       "      <th>58438</th>\n",
       "      <td>CEU9093299910</td>\n",
       "      <td>2023</td>\n",
       "      <td>M13</td>\n",
       "      <td>6214</td>\n",
       "      <td>P</td>\n",
       "    </tr>\n",
       "  </tbody>\n",
       "</table>\n",
       "</div>"
      ],
      "text/plain": [
       "               series_id  year period  value footnote_codes\n",
       "58434  CEU9093299910      2023    M09   6222           None\n",
       "58435  CEU9093299910      2023    M10   6196           None\n",
       "58436  CEU9093299910      2023    M11   6190           None\n",
       "58437  CEU9093299910      2023    M12   6207              P\n",
       "58438  CEU9093299910      2023    M13   6214              P"
      ]
     },
     "execution_count": 169,
     "metadata": {},
     "output_type": "execute_result"
    }
   ],
   "source": [
    "df_gov.tail()"
   ]
  },
  {
   "cell_type": "code",
   "execution_count": 170,
   "id": "f9a1a607-1e64-4dc3-b1f8-e02f98fbd90b",
   "metadata": {},
   "outputs": [],
   "source": [
    "#df_gov.columns"
   ]
  },
  {
   "cell_type": "code",
   "execution_count": 171,
   "id": "a5fb3842-3022-4ae6-831a-b37cfea844f0",
   "metadata": {},
   "outputs": [
    {
     "data": {
      "text/plain": [
       "array(['CES9000000001    ', 'CES9000000010    ', 'CES9091000001    ',\n",
       "       'CES9091000010    ', 'CES9091100001    ', 'CES9091100010    ',\n",
       "       'CES9091622001    ', 'CES9091622010    ', 'CES9091911001    ',\n",
       "       'CES9091911010    ', 'CES9091912001    ', 'CES9091912010    ',\n",
       "       'CES9091999901    ', 'CES9091999910    ', 'CES9092000001    ',\n",
       "       'CES9092000010    ', 'CES9092161101    ', 'CES9092161110    ',\n",
       "       'CES9092200001    ', 'CES9092200010    ', 'CES9092262201    ',\n",
       "       'CES9092262210    ', 'CES9092292001    ', 'CES9092292010    ',\n",
       "       'CES9092299901    ', 'CES9092299910    ', 'CES9093000001    ',\n",
       "       'CES9093000010    ', 'CES9093161101    ', 'CES9093161110    ',\n",
       "       'CES9093200001    ', 'CES9093200010    ', 'CES9093222101    ',\n",
       "       'CES9093222110    ', 'CES9093248001    ', 'CES9093248010    ',\n",
       "       'CES9093262201    ', 'CES9093262210    ', 'CES9093292001    ',\n",
       "       'CES9093292010    ', 'CES9093299901    ', 'CES9093299910    ',\n",
       "       'CEU9000000001    ', 'CEU9000000010    ', 'CEU9091000001    ',\n",
       "       'CEU9091000010    ', 'CEU9091100001    ', 'CEU9091100010    ',\n",
       "       'CEU9091622001    ', 'CEU9091622010    ', 'CEU9091911001    ',\n",
       "       'CEU9091911010    ', 'CEU9091912001    ', 'CEU9091912010    ',\n",
       "       'CEU9091999901    ', 'CEU9091999910    ', 'CEU9092000001    ',\n",
       "       'CEU9092000010    ', 'CEU9092161101    ', 'CEU9092161110    ',\n",
       "       'CEU9092200001    ', 'CEU9092200010    ', 'CEU9092262201    ',\n",
       "       'CEU9092262210    ', 'CEU9092292001    ', 'CEU9092292010    ',\n",
       "       'CEU9092299901    ', 'CEU9092299910    ', 'CEU9093000001    ',\n",
       "       'CEU9093000010    ', 'CEU9093161101    ', 'CEU9093161110    ',\n",
       "       'CEU9093200001    ', 'CEU9093200010    ', 'CEU9093222101    ',\n",
       "       'CEU9093222110    ', 'CEU9093248001    ', 'CEU9093248010    ',\n",
       "       'CEU9093262201    ', 'CEU9093262210    ', 'CEU9093292001    ',\n",
       "       'CEU9093292010    ', 'CEU9093299901    ', 'CEU9093299910    '],\n",
       "      dtype=object)"
      ]
     },
     "execution_count": 171,
     "metadata": {},
     "output_type": "execute_result"
    }
   ],
   "source": [
    "df_gov['series_id'].unique()"
   ]
  },
  {
   "cell_type": "markdown",
   "id": "a1715487-2ccc-4bc2-ace6-74b0042e8c40",
   "metadata": {},
   "source": [
    "__There were blank spaces in series_id__"
   ]
  },
  {
   "cell_type": "markdown",
   "id": "e37d2ede-6749-43ee-98af-dc3648fc9e5d",
   "metadata": {},
   "source": [
    "### Data cleaning"
   ]
  },
  {
   "cell_type": "code",
   "execution_count": 172,
   "id": "10b34b20-2e79-408f-9723-c084891c4f64",
   "metadata": {},
   "outputs": [],
   "source": [
    "df_gov['series_id'] = df_gov['series_id'].str.strip()"
   ]
  },
  {
   "cell_type": "code",
   "execution_count": 173,
   "id": "8a43da32-74c3-49be-96ea-b4aae0c11169",
   "metadata": {},
   "outputs": [
    {
     "data": {
      "text/plain": [
       "array(['CES9000000001', 'CES9000000010', 'CES9091000001', 'CES9091000010',\n",
       "       'CES9091100001', 'CES9091100010', 'CES9091622001', 'CES9091622010',\n",
       "       'CES9091911001', 'CES9091911010', 'CES9091912001', 'CES9091912010',\n",
       "       'CES9091999901', 'CES9091999910', 'CES9092000001', 'CES9092000010',\n",
       "       'CES9092161101', 'CES9092161110', 'CES9092200001', 'CES9092200010',\n",
       "       'CES9092262201', 'CES9092262210', 'CES9092292001', 'CES9092292010',\n",
       "       'CES9092299901', 'CES9092299910', 'CES9093000001', 'CES9093000010',\n",
       "       'CES9093161101', 'CES9093161110', 'CES9093200001', 'CES9093200010',\n",
       "       'CES9093222101', 'CES9093222110', 'CES9093248001', 'CES9093248010',\n",
       "       'CES9093262201', 'CES9093262210', 'CES9093292001', 'CES9093292010',\n",
       "       'CES9093299901', 'CES9093299910', 'CEU9000000001', 'CEU9000000010',\n",
       "       'CEU9091000001', 'CEU9091000010', 'CEU9091100001', 'CEU9091100010',\n",
       "       'CEU9091622001', 'CEU9091622010', 'CEU9091911001', 'CEU9091911010',\n",
       "       'CEU9091912001', 'CEU9091912010', 'CEU9091999901', 'CEU9091999910',\n",
       "       'CEU9092000001', 'CEU9092000010', 'CEU9092161101', 'CEU9092161110',\n",
       "       'CEU9092200001', 'CEU9092200010', 'CEU9092262201', 'CEU9092262210',\n",
       "       'CEU9092292001', 'CEU9092292010', 'CEU9092299901', 'CEU9092299910',\n",
       "       'CEU9093000001', 'CEU9093000010', 'CEU9093161101', 'CEU9093161110',\n",
       "       'CEU9093200001', 'CEU9093200010', 'CEU9093222101', 'CEU9093222110',\n",
       "       'CEU9093248001', 'CEU9093248010', 'CEU9093262201', 'CEU9093262210',\n",
       "       'CEU9093292001', 'CEU9093292010', 'CEU9093299901', 'CEU9093299910'],\n",
       "      dtype=object)"
      ]
     },
     "execution_count": 173,
     "metadata": {},
     "output_type": "execute_result"
    }
   ],
   "source": [
    "df_gov['series_id'].unique()"
   ]
  },
  {
   "cell_type": "markdown",
   "id": "66916eec-b22b-4f9c-9268-e864480e1ee0",
   "metadata": {},
   "source": [
    "### Subsetting"
   ]
  },
  {
   "cell_type": "code",
   "execution_count": 174,
   "id": "c79bcd0d-2ed7-4d6a-a6b5-e1662b162af1",
   "metadata": {},
   "outputs": [],
   "source": [
    "# Subsetting series of interest\n",
    "# CEU9000000001: All employees, thousands, government, not seasonally adjusted\n",
    "# CEU9000000010: Women employees, thousands, government, not seasonally adjusted\n",
    "gov_series = (\"CEU9000000001\",\"CEU9000000010\")\n",
    "# df_gov_sub = df_gov[(df_gov.series_id == \"CEU9000000001\")]\n",
    "df_gov_sub = df_gov[df_gov['series_id'].isin(gov_series)]"
   ]
  },
  {
   "cell_type": "code",
   "execution_count": 175,
   "id": "2ff3cc5a-d120-48d6-afb4-896b441ea2c3",
   "metadata": {},
   "outputs": [
    {
     "data": {
      "text/plain": [
       "<bound method NDFrame.head of            series_id  year period  value footnote_codes\n",
       "28053  CEU9000000001  1939    M01   3958           None\n",
       "28054  CEU9000000001  1939    M02   3947           None\n",
       "28055  CEU9000000001  1939    M03   3971           None\n",
       "28056  CEU9000000001  1939    M04   3985           None\n",
       "28057  CEU9000000001  1939    M05   4032           None\n",
       "...              ...   ...    ...    ...            ...\n",
       "29935  CEU9000000010  2023    M10  13643           None\n",
       "29936  CEU9000000010  2023    M11  13756           None\n",
       "29937  CEU9000000010  2023    M12  13698              P\n",
       "29938  CEU9000000010  2023    M13  13285              P\n",
       "29939  CEU9000000010  2024    M01  13470              P\n",
       "\n",
       "[1887 rows x 5 columns]>"
      ]
     },
     "execution_count": 175,
     "metadata": {},
     "output_type": "execute_result"
    }
   ],
   "source": [
    "df_gov_sub.head"
   ]
  },
  {
   "cell_type": "code",
   "execution_count": 176,
   "id": "0df9bb83-28cc-47f8-b004-3c0bf0f08d86",
   "metadata": {
    "tags": []
   },
   "outputs": [
    {
     "data": {
      "text/plain": [
       "array(['CEU9000000001', 'CEU9000000010'], dtype=object)"
      ]
     },
     "execution_count": 176,
     "metadata": {},
     "output_type": "execute_result"
    }
   ],
   "source": [
    "df_gov_sub['series_id'].unique()"
   ]
  },
  {
   "cell_type": "markdown",
   "id": "83bb97b9-68f9-42bd-904c-3de46309cd46",
   "metadata": {},
   "source": [
    "## Reading production employees data"
   ]
  },
  {
   "cell_type": "code",
   "execution_count": 177,
   "id": "56642644-f727-4ba8-9a7b-4a4d99315549",
   "metadata": {},
   "outputs": [],
   "source": [
    "# Define SQL query\n",
    "query_pro_sup = \"SELECT * FROM nimble.ce_data_05a;\"\n",
    "\n",
    "# Execute query and fetch data into a pandas DataFrame\n",
    "df_pro_sup = pd.read_sql_query(query_pro_sup, connection)\n"
   ]
  },
  {
   "cell_type": "code",
   "execution_count": 178,
   "id": "097612e9-060b-42a8-b3bb-dcaa1b9584ca",
   "metadata": {},
   "outputs": [
    {
     "data": {
      "text/html": [
       "<div>\n",
       "<style scoped>\n",
       "    .dataframe tbody tr th:only-of-type {\n",
       "        vertical-align: middle;\n",
       "    }\n",
       "\n",
       "    .dataframe tbody tr th {\n",
       "        vertical-align: top;\n",
       "    }\n",
       "\n",
       "    .dataframe thead th {\n",
       "        text-align: right;\n",
       "    }\n",
       "</style>\n",
       "<table border=\"1\" class=\"dataframe\">\n",
       "  <thead>\n",
       "    <tr style=\"text-align: right;\">\n",
       "      <th></th>\n",
       "      <th>series_id</th>\n",
       "      <th>year</th>\n",
       "      <th>period</th>\n",
       "      <th>value</th>\n",
       "      <th>footnote_codes</th>\n",
       "    </tr>\n",
       "  </thead>\n",
       "  <tbody>\n",
       "    <tr>\n",
       "      <th>0</th>\n",
       "      <td>CES0500000001</td>\n",
       "      <td>1939</td>\n",
       "      <td>M01</td>\n",
       "      <td>25935</td>\n",
       "      <td>None</td>\n",
       "    </tr>\n",
       "    <tr>\n",
       "      <th>1</th>\n",
       "      <td>CES0500000001</td>\n",
       "      <td>1939</td>\n",
       "      <td>M02</td>\n",
       "      <td>26099</td>\n",
       "      <td>None</td>\n",
       "    </tr>\n",
       "    <tr>\n",
       "      <th>2</th>\n",
       "      <td>CES0500000001</td>\n",
       "      <td>1939</td>\n",
       "      <td>M03</td>\n",
       "      <td>26278</td>\n",
       "      <td>None</td>\n",
       "    </tr>\n",
       "    <tr>\n",
       "      <th>3</th>\n",
       "      <td>CES0500000001</td>\n",
       "      <td>1939</td>\n",
       "      <td>M04</td>\n",
       "      <td>26092</td>\n",
       "      <td>None</td>\n",
       "    </tr>\n",
       "    <tr>\n",
       "      <th>4</th>\n",
       "      <td>CES0500000001</td>\n",
       "      <td>1939</td>\n",
       "      <td>M05</td>\n",
       "      <td>26293</td>\n",
       "      <td>None</td>\n",
       "    </tr>\n",
       "  </tbody>\n",
       "</table>\n",
       "</div>"
      ],
      "text/plain": [
       "           series_id  year period  value footnote_codes\n",
       "0  CES0500000001      1939    M01  25935           None\n",
       "1  CES0500000001      1939    M02  26099           None\n",
       "2  CES0500000001      1939    M03  26278           None\n",
       "3  CES0500000001      1939    M04  26092           None\n",
       "4  CES0500000001      1939    M05  26293           None"
      ]
     },
     "execution_count": 178,
     "metadata": {},
     "output_type": "execute_result"
    }
   ],
   "source": [
    "df_pro_sup.head()"
   ]
  },
  {
   "cell_type": "code",
   "execution_count": 179,
   "id": "17eba6ee-9e16-4887-b92d-81777bd7d6ce",
   "metadata": {},
   "outputs": [
    {
     "data": {
      "text/html": [
       "<div>\n",
       "<style scoped>\n",
       "    .dataframe tbody tr th:only-of-type {\n",
       "        vertical-align: middle;\n",
       "    }\n",
       "\n",
       "    .dataframe tbody tr th {\n",
       "        vertical-align: top;\n",
       "    }\n",
       "\n",
       "    .dataframe thead th {\n",
       "        text-align: right;\n",
       "    }\n",
       "</style>\n",
       "<table border=\"1\" class=\"dataframe\">\n",
       "  <thead>\n",
       "    <tr style=\"text-align: right;\">\n",
       "      <th></th>\n",
       "      <th>series_id</th>\n",
       "      <th>year</th>\n",
       "      <th>period</th>\n",
       "      <th>value</th>\n",
       "      <th>footnote_codes</th>\n",
       "    </tr>\n",
       "  </thead>\n",
       "  <tbody>\n",
       "    <tr>\n",
       "      <th>23068</th>\n",
       "      <td>CEU0800000010</td>\n",
       "      <td>2023</td>\n",
       "      <td>M10</td>\n",
       "      <td>60027</td>\n",
       "      <td>None</td>\n",
       "    </tr>\n",
       "    <tr>\n",
       "      <th>23069</th>\n",
       "      <td>CEU0800000010</td>\n",
       "      <td>2023</td>\n",
       "      <td>M11</td>\n",
       "      <td>60282</td>\n",
       "      <td>None</td>\n",
       "    </tr>\n",
       "    <tr>\n",
       "      <th>23070</th>\n",
       "      <td>CEU0800000010</td>\n",
       "      <td>2023</td>\n",
       "      <td>M12</td>\n",
       "      <td>60354</td>\n",
       "      <td>P</td>\n",
       "    </tr>\n",
       "    <tr>\n",
       "      <th>23071</th>\n",
       "      <td>CEU0800000010</td>\n",
       "      <td>2023</td>\n",
       "      <td>M13</td>\n",
       "      <td>59464</td>\n",
       "      <td>P</td>\n",
       "    </tr>\n",
       "    <tr>\n",
       "      <th>23072</th>\n",
       "      <td>CEU0800000010</td>\n",
       "      <td>2024</td>\n",
       "      <td>M01</td>\n",
       "      <td>59435</td>\n",
       "      <td>P</td>\n",
       "    </tr>\n",
       "  </tbody>\n",
       "</table>\n",
       "</div>"
      ],
      "text/plain": [
       "               series_id  year period  value footnote_codes\n",
       "23068  CEU0800000010      2023    M10  60027           None\n",
       "23069  CEU0800000010      2023    M11  60282           None\n",
       "23070  CEU0800000010      2023    M12  60354              P\n",
       "23071  CEU0800000010      2023    M13  59464              P\n",
       "23072  CEU0800000010      2024    M01  59435              P"
      ]
     },
     "execution_count": 179,
     "metadata": {},
     "output_type": "execute_result"
    }
   ],
   "source": [
    "df_pro_sup.tail()"
   ]
  },
  {
   "cell_type": "code",
   "execution_count": 180,
   "id": "51ee7c79-6511-432a-bec2-e37499a0a889",
   "metadata": {},
   "outputs": [
    {
     "data": {
      "text/plain": [
       "array(['CES0500000001    ', 'CES0500000006    ', 'CES0500000010    ',\n",
       "       'CES0500000021    ', 'CES0500000022    ', 'CES0500000023    ',\n",
       "       'CES0500000025    ', 'CES0500000026    ', 'CES0600000001    ',\n",
       "       'CES0600000006    ', 'CES0600000010    ', 'CES0600000025    ',\n",
       "       'CES0700000001    ', 'CES0700000010    ', 'CES0700000025    ',\n",
       "       'CES0800000001    ', 'CES0800000006    ', 'CES0800000010    ',\n",
       "       'CEU0500000001    ', 'CEU0500000006    ', 'CEU0500000010    ',\n",
       "       'CEU0500000024    ', 'CEU0600000001    ', 'CEU0600000006    ',\n",
       "       'CEU0600000010    ', 'CEU0700000001    ', 'CEU0700000010    ',\n",
       "       'CEU0800000001    ', 'CEU0800000006    ', 'CEU0800000010    '],\n",
       "      dtype=object)"
      ]
     },
     "execution_count": 180,
     "metadata": {},
     "output_type": "execute_result"
    }
   ],
   "source": [
    "df_pro_sup['series_id'].unique()"
   ]
  },
  {
   "cell_type": "markdown",
   "id": "935e87ef-9e7d-48b2-a813-fc939b4857c7",
   "metadata": {},
   "source": [
    "__There were blank spaces in series_id__"
   ]
  },
  {
   "cell_type": "markdown",
   "id": "ffa7718d-b0e6-4c8e-b1ed-8fd7148b8860",
   "metadata": {},
   "source": [
    "### Data cleaning"
   ]
  },
  {
   "cell_type": "code",
   "execution_count": 181,
   "id": "a998013a-0590-4f25-bc9b-918ac3b819f9",
   "metadata": {},
   "outputs": [],
   "source": [
    "df_pro_sup['series_id'] = df_pro_sup['series_id'].str.strip()"
   ]
  },
  {
   "cell_type": "code",
   "execution_count": 182,
   "id": "8467853f-fb70-4019-ab63-a8c994a010f1",
   "metadata": {},
   "outputs": [
    {
     "data": {
      "text/plain": [
       "array(['CES0500000001', 'CES0500000006', 'CES0500000010', 'CES0500000021',\n",
       "       'CES0500000022', 'CES0500000023', 'CES0500000025', 'CES0500000026',\n",
       "       'CES0600000001', 'CES0600000006', 'CES0600000010', 'CES0600000025',\n",
       "       'CES0700000001', 'CES0700000010', 'CES0700000025', 'CES0800000001',\n",
       "       'CES0800000006', 'CES0800000010', 'CEU0500000001', 'CEU0500000006',\n",
       "       'CEU0500000010', 'CEU0500000024', 'CEU0600000001', 'CEU0600000006',\n",
       "       'CEU0600000010', 'CEU0700000001', 'CEU0700000010', 'CEU0800000001',\n",
       "       'CEU0800000006', 'CEU0800000010'], dtype=object)"
      ]
     },
     "execution_count": 182,
     "metadata": {},
     "output_type": "execute_result"
    }
   ],
   "source": [
    "df_pro_sup['series_id'].unique()"
   ]
  },
  {
   "cell_type": "code",
   "execution_count": null,
   "id": "557e7485-f93a-4aca-aebc-1104405784dc",
   "metadata": {},
   "outputs": [],
   "source": []
  },
  {
   "cell_type": "markdown",
   "id": "3188c5e2-8398-46d5-817b-02ee251b11cf",
   "metadata": {},
   "source": [
    "### Subsetting"
   ]
  },
  {
   "cell_type": "code",
   "execution_count": 183,
   "id": "caa3a819-7f45-4add-86d9-e42d6584ad65",
   "metadata": {},
   "outputs": [],
   "source": [
    "# Subsetting series of interest\n",
    "# CEU0500000006: Production and nonsupervisory employees, thousands, total private, not seasonally adjusted\n",
    "# CEU0500000001: All employees, thousands, total private, not seasonally adjusted\n",
    "pro_sup_series = (\"CEU0500000006\", \"CEU0500000001\")\n",
    "# df_pro_sup = df_pro_sup[(df_pro_sup.series_id == \"CEU0500000006\")]\n",
    "df_pro_sup = df_pro_sup[df_pro_sup['series_id'].isin(pro_sup_series)]"
   ]
  },
  {
   "cell_type": "code",
   "execution_count": 184,
   "id": "459d0b0f-858a-40ea-91f1-64d5084ecfb2",
   "metadata": {},
   "outputs": [
    {
     "data": {
      "text/plain": [
       "<bound method NDFrame.head of            series_id  year period   value footnote_codes\n",
       "12564  CEU0500000001  1939    M01   25338           None\n",
       "12565  CEU0500000001  1939    M02   25447           None\n",
       "12566  CEU0500000001  1939    M03   25833           None\n",
       "12567  CEU0500000001  1939    M04   25801           None\n",
       "12568  CEU0500000001  1939    M05   26113           None\n",
       "...              ...   ...    ...     ...            ...\n",
       "14446  CEU0500000006  2023    M10  109513           None\n",
       "14447  CEU0500000006  2023    M11  109887           None\n",
       "14448  CEU0500000006  2023    M12  109756              P\n",
       "14449  CEU0500000006  2023    M13  108425              P\n",
       "14450  CEU0500000006  2024    M01  107767              P\n",
       "\n",
       "[1887 rows x 5 columns]>"
      ]
     },
     "execution_count": 184,
     "metadata": {},
     "output_type": "execute_result"
    }
   ],
   "source": [
    "df_pro_sup.head"
   ]
  },
  {
   "cell_type": "code",
   "execution_count": 185,
   "id": "87ad1fb5-3c48-40a8-849a-cd2907787c39",
   "metadata": {
    "tags": []
   },
   "outputs": [
    {
     "data": {
      "text/plain": [
       "array(['CEU0500000001', 'CEU0500000006'], dtype=object)"
      ]
     },
     "execution_count": 185,
     "metadata": {},
     "output_type": "execute_result"
    }
   ],
   "source": [
    "df_pro_sup['series_id'].unique()"
   ]
  },
  {
   "cell_type": "markdown",
   "id": "bf85ffc9-4066-422d-b7a7-d46fc4dba9df",
   "metadata": {},
   "source": [
    "# Transforming data"
   ]
  },
  {
   "cell_type": "markdown",
   "id": "a280f73b-54f9-4967-ab3a-b7c21c2d4adc",
   "metadata": {},
   "source": [
    "## Month"
   ]
  },
  {
   "cell_type": "code",
   "execution_count": 186,
   "id": "a35e93ed-b584-49d6-9040-f7a47410a919",
   "metadata": {},
   "outputs": [],
   "source": [
    "# Month listing\n",
    "month_mapping = {\n",
    "    'M01': 'January',\n",
    "    'M02': 'February',\n",
    "    'M03': 'March',\n",
    "    'M04': 'April',\n",
    "    'M05': 'May',\n",
    "    'M06': 'June',\n",
    "    'M07': 'July',\n",
    "    'M08': 'August',\n",
    "    'M09': 'September',\n",
    "    'M10': 'October',\n",
    "    'M11': 'November',\n",
    "    'M12': 'December'\n",
    "}\n",
    "\n",
    "df_gov['month'] = df_gov['period'].map(month_mapping)\n",
    "df_pro_sup['month'] = df_pro_sup['period'].map(month_mapping)"
   ]
  },
  {
   "cell_type": "code",
   "execution_count": 187,
   "id": "df790ed0-6448-4526-8504-1f6b7bca36fd",
   "metadata": {},
   "outputs": [
    {
     "data": {
      "text/html": [
       "<div>\n",
       "<style scoped>\n",
       "    .dataframe tbody tr th:only-of-type {\n",
       "        vertical-align: middle;\n",
       "    }\n",
       "\n",
       "    .dataframe tbody tr th {\n",
       "        vertical-align: top;\n",
       "    }\n",
       "\n",
       "    .dataframe thead th {\n",
       "        text-align: right;\n",
       "    }\n",
       "</style>\n",
       "<table border=\"1\" class=\"dataframe\">\n",
       "  <thead>\n",
       "    <tr style=\"text-align: right;\">\n",
       "      <th></th>\n",
       "      <th>series_id</th>\n",
       "      <th>year</th>\n",
       "      <th>period</th>\n",
       "      <th>value</th>\n",
       "      <th>footnote_codes</th>\n",
       "      <th>month</th>\n",
       "    </tr>\n",
       "  </thead>\n",
       "  <tbody>\n",
       "    <tr>\n",
       "      <th>0</th>\n",
       "      <td>CES9000000001</td>\n",
       "      <td>1939</td>\n",
       "      <td>M01</td>\n",
       "      <td>3988</td>\n",
       "      <td>None</td>\n",
       "      <td>January</td>\n",
       "    </tr>\n",
       "    <tr>\n",
       "      <th>1</th>\n",
       "      <td>CES9000000001</td>\n",
       "      <td>1939</td>\n",
       "      <td>M02</td>\n",
       "      <td>4001</td>\n",
       "      <td>None</td>\n",
       "      <td>February</td>\n",
       "    </tr>\n",
       "    <tr>\n",
       "      <th>2</th>\n",
       "      <td>CES9000000001</td>\n",
       "      <td>1939</td>\n",
       "      <td>M03</td>\n",
       "      <td>4002</td>\n",
       "      <td>None</td>\n",
       "      <td>March</td>\n",
       "    </tr>\n",
       "    <tr>\n",
       "      <th>3</th>\n",
       "      <td>CES9000000001</td>\n",
       "      <td>1939</td>\n",
       "      <td>M04</td>\n",
       "      <td>4002</td>\n",
       "      <td>None</td>\n",
       "      <td>April</td>\n",
       "    </tr>\n",
       "    <tr>\n",
       "      <th>4</th>\n",
       "      <td>CES9000000001</td>\n",
       "      <td>1939</td>\n",
       "      <td>M05</td>\n",
       "      <td>4006</td>\n",
       "      <td>None</td>\n",
       "      <td>May</td>\n",
       "    </tr>\n",
       "  </tbody>\n",
       "</table>\n",
       "</div>"
      ],
      "text/plain": [
       "       series_id  year period  value footnote_codes     month\n",
       "0  CES9000000001  1939    M01   3988           None   January\n",
       "1  CES9000000001  1939    M02   4001           None  February\n",
       "2  CES9000000001  1939    M03   4002           None     March\n",
       "3  CES9000000001  1939    M04   4002           None     April\n",
       "4  CES9000000001  1939    M05   4006           None       May"
      ]
     },
     "execution_count": 187,
     "metadata": {},
     "output_type": "execute_result"
    }
   ],
   "source": [
    "df_gov.head()"
   ]
  },
  {
   "cell_type": "code",
   "execution_count": 188,
   "id": "6dda319b-de86-452a-8c1d-75b84a99f830",
   "metadata": {},
   "outputs": [
    {
     "data": {
      "text/html": [
       "<div>\n",
       "<style scoped>\n",
       "    .dataframe tbody tr th:only-of-type {\n",
       "        vertical-align: middle;\n",
       "    }\n",
       "\n",
       "    .dataframe tbody tr th {\n",
       "        vertical-align: top;\n",
       "    }\n",
       "\n",
       "    .dataframe thead th {\n",
       "        text-align: right;\n",
       "    }\n",
       "</style>\n",
       "<table border=\"1\" class=\"dataframe\">\n",
       "  <thead>\n",
       "    <tr style=\"text-align: right;\">\n",
       "      <th></th>\n",
       "      <th>series_id</th>\n",
       "      <th>year</th>\n",
       "      <th>period</th>\n",
       "      <th>value</th>\n",
       "      <th>footnote_codes</th>\n",
       "      <th>month</th>\n",
       "    </tr>\n",
       "  </thead>\n",
       "  <tbody>\n",
       "    <tr>\n",
       "      <th>12564</th>\n",
       "      <td>CEU0500000001</td>\n",
       "      <td>1939</td>\n",
       "      <td>M01</td>\n",
       "      <td>25338</td>\n",
       "      <td>None</td>\n",
       "      <td>January</td>\n",
       "    </tr>\n",
       "    <tr>\n",
       "      <th>12565</th>\n",
       "      <td>CEU0500000001</td>\n",
       "      <td>1939</td>\n",
       "      <td>M02</td>\n",
       "      <td>25447</td>\n",
       "      <td>None</td>\n",
       "      <td>February</td>\n",
       "    </tr>\n",
       "    <tr>\n",
       "      <th>12566</th>\n",
       "      <td>CEU0500000001</td>\n",
       "      <td>1939</td>\n",
       "      <td>M03</td>\n",
       "      <td>25833</td>\n",
       "      <td>None</td>\n",
       "      <td>March</td>\n",
       "    </tr>\n",
       "    <tr>\n",
       "      <th>12567</th>\n",
       "      <td>CEU0500000001</td>\n",
       "      <td>1939</td>\n",
       "      <td>M04</td>\n",
       "      <td>25801</td>\n",
       "      <td>None</td>\n",
       "      <td>April</td>\n",
       "    </tr>\n",
       "    <tr>\n",
       "      <th>12568</th>\n",
       "      <td>CEU0500000001</td>\n",
       "      <td>1939</td>\n",
       "      <td>M05</td>\n",
       "      <td>26113</td>\n",
       "      <td>None</td>\n",
       "      <td>May</td>\n",
       "    </tr>\n",
       "  </tbody>\n",
       "</table>\n",
       "</div>"
      ],
      "text/plain": [
       "           series_id  year period  value footnote_codes     month\n",
       "12564  CEU0500000001  1939    M01  25338           None   January\n",
       "12565  CEU0500000001  1939    M02  25447           None  February\n",
       "12566  CEU0500000001  1939    M03  25833           None     March\n",
       "12567  CEU0500000001  1939    M04  25801           None     April\n",
       "12568  CEU0500000001  1939    M05  26113           None       May"
      ]
     },
     "execution_count": 188,
     "metadata": {},
     "output_type": "execute_result"
    }
   ],
   "source": [
    "df_pro_sup.head()"
   ]
  },
  {
   "cell_type": "markdown",
   "id": "03be80ec-61b1-427c-a9b7-ca3e3707bf62",
   "metadata": {},
   "source": [
    "## Month year date column"
   ]
  },
  {
   "cell_type": "code",
   "execution_count": 189,
   "id": "0dda3b82-5036-4d2f-86f7-23d9529a5503",
   "metadata": {},
   "outputs": [],
   "source": [
    "# String year column\n",
    "df_gov['year_str'] = df_gov['year'].astype(str)\n",
    "df_pro_sup['year_str'] = df_pro_sup['year'].astype(str)\n",
    "# Merging month and year columns\n",
    "df_gov['date'] = df_gov['month'] + ' ' + df_gov['year_str']\n",
    "df_pro_sup['date'] = df_pro_sup['month'] + ' ' + df_pro_sup['year_str']"
   ]
  },
  {
   "cell_type": "code",
   "execution_count": 190,
   "id": "7008418c-6b33-4ad2-a7bc-89c1832c8280",
   "metadata": {},
   "outputs": [
    {
     "data": {
      "text/html": [
       "<div>\n",
       "<style scoped>\n",
       "    .dataframe tbody tr th:only-of-type {\n",
       "        vertical-align: middle;\n",
       "    }\n",
       "\n",
       "    .dataframe tbody tr th {\n",
       "        vertical-align: top;\n",
       "    }\n",
       "\n",
       "    .dataframe thead th {\n",
       "        text-align: right;\n",
       "    }\n",
       "</style>\n",
       "<table border=\"1\" class=\"dataframe\">\n",
       "  <thead>\n",
       "    <tr style=\"text-align: right;\">\n",
       "      <th></th>\n",
       "      <th>series_id</th>\n",
       "      <th>year</th>\n",
       "      <th>period</th>\n",
       "      <th>value</th>\n",
       "      <th>footnote_codes</th>\n",
       "      <th>month</th>\n",
       "      <th>year_str</th>\n",
       "      <th>date</th>\n",
       "    </tr>\n",
       "  </thead>\n",
       "  <tbody>\n",
       "    <tr>\n",
       "      <th>0</th>\n",
       "      <td>CES9000000001</td>\n",
       "      <td>1939</td>\n",
       "      <td>M01</td>\n",
       "      <td>3988</td>\n",
       "      <td>None</td>\n",
       "      <td>January</td>\n",
       "      <td>1939</td>\n",
       "      <td>January 1939</td>\n",
       "    </tr>\n",
       "    <tr>\n",
       "      <th>1</th>\n",
       "      <td>CES9000000001</td>\n",
       "      <td>1939</td>\n",
       "      <td>M02</td>\n",
       "      <td>4001</td>\n",
       "      <td>None</td>\n",
       "      <td>February</td>\n",
       "      <td>1939</td>\n",
       "      <td>February 1939</td>\n",
       "    </tr>\n",
       "    <tr>\n",
       "      <th>2</th>\n",
       "      <td>CES9000000001</td>\n",
       "      <td>1939</td>\n",
       "      <td>M03</td>\n",
       "      <td>4002</td>\n",
       "      <td>None</td>\n",
       "      <td>March</td>\n",
       "      <td>1939</td>\n",
       "      <td>March 1939</td>\n",
       "    </tr>\n",
       "    <tr>\n",
       "      <th>3</th>\n",
       "      <td>CES9000000001</td>\n",
       "      <td>1939</td>\n",
       "      <td>M04</td>\n",
       "      <td>4002</td>\n",
       "      <td>None</td>\n",
       "      <td>April</td>\n",
       "      <td>1939</td>\n",
       "      <td>April 1939</td>\n",
       "    </tr>\n",
       "    <tr>\n",
       "      <th>4</th>\n",
       "      <td>CES9000000001</td>\n",
       "      <td>1939</td>\n",
       "      <td>M05</td>\n",
       "      <td>4006</td>\n",
       "      <td>None</td>\n",
       "      <td>May</td>\n",
       "      <td>1939</td>\n",
       "      <td>May 1939</td>\n",
       "    </tr>\n",
       "  </tbody>\n",
       "</table>\n",
       "</div>"
      ],
      "text/plain": [
       "       series_id  year period  value footnote_codes     month year_str  \\\n",
       "0  CES9000000001  1939    M01   3988           None   January     1939   \n",
       "1  CES9000000001  1939    M02   4001           None  February     1939   \n",
       "2  CES9000000001  1939    M03   4002           None     March     1939   \n",
       "3  CES9000000001  1939    M04   4002           None     April     1939   \n",
       "4  CES9000000001  1939    M05   4006           None       May     1939   \n",
       "\n",
       "            date  \n",
       "0   January 1939  \n",
       "1  February 1939  \n",
       "2     March 1939  \n",
       "3     April 1939  \n",
       "4       May 1939  "
      ]
     },
     "execution_count": 190,
     "metadata": {},
     "output_type": "execute_result"
    }
   ],
   "source": [
    "df_gov.head()"
   ]
  },
  {
   "cell_type": "code",
   "execution_count": 191,
   "id": "d25c5c75-614c-42da-b625-5491fcfec284",
   "metadata": {},
   "outputs": [
    {
     "data": {
      "text/html": [
       "<div>\n",
       "<style scoped>\n",
       "    .dataframe tbody tr th:only-of-type {\n",
       "        vertical-align: middle;\n",
       "    }\n",
       "\n",
       "    .dataframe tbody tr th {\n",
       "        vertical-align: top;\n",
       "    }\n",
       "\n",
       "    .dataframe thead th {\n",
       "        text-align: right;\n",
       "    }\n",
       "</style>\n",
       "<table border=\"1\" class=\"dataframe\">\n",
       "  <thead>\n",
       "    <tr style=\"text-align: right;\">\n",
       "      <th></th>\n",
       "      <th>series_id</th>\n",
       "      <th>year</th>\n",
       "      <th>period</th>\n",
       "      <th>value</th>\n",
       "      <th>footnote_codes</th>\n",
       "      <th>month</th>\n",
       "      <th>year_str</th>\n",
       "      <th>date</th>\n",
       "    </tr>\n",
       "  </thead>\n",
       "  <tbody>\n",
       "    <tr>\n",
       "      <th>12564</th>\n",
       "      <td>CEU0500000001</td>\n",
       "      <td>1939</td>\n",
       "      <td>M01</td>\n",
       "      <td>25338</td>\n",
       "      <td>None</td>\n",
       "      <td>January</td>\n",
       "      <td>1939</td>\n",
       "      <td>January 1939</td>\n",
       "    </tr>\n",
       "    <tr>\n",
       "      <th>12565</th>\n",
       "      <td>CEU0500000001</td>\n",
       "      <td>1939</td>\n",
       "      <td>M02</td>\n",
       "      <td>25447</td>\n",
       "      <td>None</td>\n",
       "      <td>February</td>\n",
       "      <td>1939</td>\n",
       "      <td>February 1939</td>\n",
       "    </tr>\n",
       "    <tr>\n",
       "      <th>12566</th>\n",
       "      <td>CEU0500000001</td>\n",
       "      <td>1939</td>\n",
       "      <td>M03</td>\n",
       "      <td>25833</td>\n",
       "      <td>None</td>\n",
       "      <td>March</td>\n",
       "      <td>1939</td>\n",
       "      <td>March 1939</td>\n",
       "    </tr>\n",
       "    <tr>\n",
       "      <th>12567</th>\n",
       "      <td>CEU0500000001</td>\n",
       "      <td>1939</td>\n",
       "      <td>M04</td>\n",
       "      <td>25801</td>\n",
       "      <td>None</td>\n",
       "      <td>April</td>\n",
       "      <td>1939</td>\n",
       "      <td>April 1939</td>\n",
       "    </tr>\n",
       "    <tr>\n",
       "      <th>12568</th>\n",
       "      <td>CEU0500000001</td>\n",
       "      <td>1939</td>\n",
       "      <td>M05</td>\n",
       "      <td>26113</td>\n",
       "      <td>None</td>\n",
       "      <td>May</td>\n",
       "      <td>1939</td>\n",
       "      <td>May 1939</td>\n",
       "    </tr>\n",
       "  </tbody>\n",
       "</table>\n",
       "</div>"
      ],
      "text/plain": [
       "           series_id  year period  value footnote_codes     month year_str  \\\n",
       "12564  CEU0500000001  1939    M01  25338           None   January     1939   \n",
       "12565  CEU0500000001  1939    M02  25447           None  February     1939   \n",
       "12566  CEU0500000001  1939    M03  25833           None     March     1939   \n",
       "12567  CEU0500000001  1939    M04  25801           None     April     1939   \n",
       "12568  CEU0500000001  1939    M05  26113           None       May     1939   \n",
       "\n",
       "                date  \n",
       "12564   January 1939  \n",
       "12565  February 1939  \n",
       "12566     March 1939  \n",
       "12567     April 1939  \n",
       "12568       May 1939  "
      ]
     },
     "execution_count": 191,
     "metadata": {},
     "output_type": "execute_result"
    }
   ],
   "source": [
    "df_pro_sup.head()"
   ]
  },
  {
   "cell_type": "code",
   "execution_count": 192,
   "id": "c90343db-6df0-43da-9a76-1ac956864099",
   "metadata": {},
   "outputs": [
    {
     "data": {
      "text/html": [
       "<div>\n",
       "<style scoped>\n",
       "    .dataframe tbody tr th:only-of-type {\n",
       "        vertical-align: middle;\n",
       "    }\n",
       "\n",
       "    .dataframe tbody tr th {\n",
       "        vertical-align: top;\n",
       "    }\n",
       "\n",
       "    .dataframe thead th {\n",
       "        text-align: right;\n",
       "    }\n",
       "</style>\n",
       "<table border=\"1\" class=\"dataframe\">\n",
       "  <thead>\n",
       "    <tr style=\"text-align: right;\">\n",
       "      <th></th>\n",
       "      <th>series_id</th>\n",
       "      <th>year</th>\n",
       "      <th>period</th>\n",
       "      <th>value</th>\n",
       "      <th>footnote_codes</th>\n",
       "      <th>month</th>\n",
       "      <th>year_str</th>\n",
       "      <th>date</th>\n",
       "    </tr>\n",
       "  </thead>\n",
       "  <tbody>\n",
       "    <tr>\n",
       "      <th>0</th>\n",
       "      <td>CES9000000001</td>\n",
       "      <td>1939</td>\n",
       "      <td>M01</td>\n",
       "      <td>3988</td>\n",
       "      <td>None</td>\n",
       "      <td>January</td>\n",
       "      <td>1939</td>\n",
       "      <td>January 1939</td>\n",
       "    </tr>\n",
       "    <tr>\n",
       "      <th>1</th>\n",
       "      <td>CES9000000001</td>\n",
       "      <td>1939</td>\n",
       "      <td>M02</td>\n",
       "      <td>4001</td>\n",
       "      <td>None</td>\n",
       "      <td>February</td>\n",
       "      <td>1939</td>\n",
       "      <td>February 1939</td>\n",
       "    </tr>\n",
       "    <tr>\n",
       "      <th>2</th>\n",
       "      <td>CES9000000001</td>\n",
       "      <td>1939</td>\n",
       "      <td>M03</td>\n",
       "      <td>4002</td>\n",
       "      <td>None</td>\n",
       "      <td>March</td>\n",
       "      <td>1939</td>\n",
       "      <td>March 1939</td>\n",
       "    </tr>\n",
       "    <tr>\n",
       "      <th>3</th>\n",
       "      <td>CES9000000001</td>\n",
       "      <td>1939</td>\n",
       "      <td>M04</td>\n",
       "      <td>4002</td>\n",
       "      <td>None</td>\n",
       "      <td>April</td>\n",
       "      <td>1939</td>\n",
       "      <td>April 1939</td>\n",
       "    </tr>\n",
       "    <tr>\n",
       "      <th>4</th>\n",
       "      <td>CES9000000001</td>\n",
       "      <td>1939</td>\n",
       "      <td>M05</td>\n",
       "      <td>4006</td>\n",
       "      <td>None</td>\n",
       "      <td>May</td>\n",
       "      <td>1939</td>\n",
       "      <td>May 1939</td>\n",
       "    </tr>\n",
       "  </tbody>\n",
       "</table>\n",
       "</div>"
      ],
      "text/plain": [
       "       series_id  year period  value footnote_codes     month year_str  \\\n",
       "0  CES9000000001  1939    M01   3988           None   January     1939   \n",
       "1  CES9000000001  1939    M02   4001           None  February     1939   \n",
       "2  CES9000000001  1939    M03   4002           None     March     1939   \n",
       "3  CES9000000001  1939    M04   4002           None     April     1939   \n",
       "4  CES9000000001  1939    M05   4006           None       May     1939   \n",
       "\n",
       "            date  \n",
       "0   January 1939  \n",
       "1  February 1939  \n",
       "2     March 1939  \n",
       "3     April 1939  \n",
       "4       May 1939  "
      ]
     },
     "execution_count": 192,
     "metadata": {},
     "output_type": "execute_result"
    }
   ],
   "source": [
    "df_gov.head()"
   ]
  },
  {
   "cell_type": "code",
   "execution_count": 193,
   "id": "0e1c8a32-9369-4f99-9ea0-dad5dc4c394a",
   "metadata": {},
   "outputs": [
    {
     "data": {
      "text/html": [
       "<div>\n",
       "<style scoped>\n",
       "    .dataframe tbody tr th:only-of-type {\n",
       "        vertical-align: middle;\n",
       "    }\n",
       "\n",
       "    .dataframe tbody tr th {\n",
       "        vertical-align: top;\n",
       "    }\n",
       "\n",
       "    .dataframe thead th {\n",
       "        text-align: right;\n",
       "    }\n",
       "</style>\n",
       "<table border=\"1\" class=\"dataframe\">\n",
       "  <thead>\n",
       "    <tr style=\"text-align: right;\">\n",
       "      <th></th>\n",
       "      <th>series_id</th>\n",
       "      <th>year</th>\n",
       "      <th>period</th>\n",
       "      <th>value</th>\n",
       "      <th>footnote_codes</th>\n",
       "      <th>month</th>\n",
       "      <th>year_str</th>\n",
       "      <th>date</th>\n",
       "    </tr>\n",
       "  </thead>\n",
       "  <tbody>\n",
       "    <tr>\n",
       "      <th>12564</th>\n",
       "      <td>CEU0500000001</td>\n",
       "      <td>1939</td>\n",
       "      <td>M01</td>\n",
       "      <td>25338</td>\n",
       "      <td>None</td>\n",
       "      <td>January</td>\n",
       "      <td>1939</td>\n",
       "      <td>January 1939</td>\n",
       "    </tr>\n",
       "    <tr>\n",
       "      <th>12565</th>\n",
       "      <td>CEU0500000001</td>\n",
       "      <td>1939</td>\n",
       "      <td>M02</td>\n",
       "      <td>25447</td>\n",
       "      <td>None</td>\n",
       "      <td>February</td>\n",
       "      <td>1939</td>\n",
       "      <td>February 1939</td>\n",
       "    </tr>\n",
       "    <tr>\n",
       "      <th>12566</th>\n",
       "      <td>CEU0500000001</td>\n",
       "      <td>1939</td>\n",
       "      <td>M03</td>\n",
       "      <td>25833</td>\n",
       "      <td>None</td>\n",
       "      <td>March</td>\n",
       "      <td>1939</td>\n",
       "      <td>March 1939</td>\n",
       "    </tr>\n",
       "    <tr>\n",
       "      <th>12567</th>\n",
       "      <td>CEU0500000001</td>\n",
       "      <td>1939</td>\n",
       "      <td>M04</td>\n",
       "      <td>25801</td>\n",
       "      <td>None</td>\n",
       "      <td>April</td>\n",
       "      <td>1939</td>\n",
       "      <td>April 1939</td>\n",
       "    </tr>\n",
       "    <tr>\n",
       "      <th>12568</th>\n",
       "      <td>CEU0500000001</td>\n",
       "      <td>1939</td>\n",
       "      <td>M05</td>\n",
       "      <td>26113</td>\n",
       "      <td>None</td>\n",
       "      <td>May</td>\n",
       "      <td>1939</td>\n",
       "      <td>May 1939</td>\n",
       "    </tr>\n",
       "  </tbody>\n",
       "</table>\n",
       "</div>"
      ],
      "text/plain": [
       "           series_id  year period  value footnote_codes     month year_str  \\\n",
       "12564  CEU0500000001  1939    M01  25338           None   January     1939   \n",
       "12565  CEU0500000001  1939    M02  25447           None  February     1939   \n",
       "12566  CEU0500000001  1939    M03  25833           None     March     1939   \n",
       "12567  CEU0500000001  1939    M04  25801           None     April     1939   \n",
       "12568  CEU0500000001  1939    M05  26113           None       May     1939   \n",
       "\n",
       "                date  \n",
       "12564   January 1939  \n",
       "12565  February 1939  \n",
       "12566     March 1939  \n",
       "12567     April 1939  \n",
       "12568       May 1939  "
      ]
     },
     "execution_count": 193,
     "metadata": {},
     "output_type": "execute_result"
    }
   ],
   "source": [
    "df_pro_sup.head()"
   ]
  },
  {
   "cell_type": "markdown",
   "id": "0ac51403-6ef9-410a-8e50-a04af8943eda",
   "metadata": {},
   "source": [
    "## Data frame by series"
   ]
  },
  {
   "cell_type": "markdown",
   "id": "72d9bae5-5997-4736-891a-97734372436a",
   "metadata": {},
   "source": [
    "### Government data"
   ]
  },
  {
   "cell_type": "code",
   "execution_count": 194,
   "id": "0b392e07-2efd-4f1f-a654-0147d90593a9",
   "metadata": {},
   "outputs": [],
   "source": [
    "# CEU9000000010: Women employees, thousands, government, not seasonally adjusted\n",
    "df_gov_w = df_gov[(df_gov.series_id == \"CEU9000000010\")]\n",
    "# CEU9000000001: All employees, thousands, government, not seasonally adjusted\n",
    "df_gov_t = df_gov[(df_gov.series_id == \"CEU9000000001\")]"
   ]
  },
  {
   "cell_type": "code",
   "execution_count": 195,
   "id": "195cebbf-114b-4352-9b80-69860a73e93c",
   "metadata": {},
   "outputs": [
    {
     "data": {
      "text/plain": [
       "array(['CEU9000000010'], dtype=object)"
      ]
     },
     "execution_count": 195,
     "metadata": {},
     "output_type": "execute_result"
    }
   ],
   "source": [
    "df_gov_w['series_id'].unique()"
   ]
  },
  {
   "cell_type": "code",
   "execution_count": 196,
   "id": "2799f35b-a1da-42bf-ab41-c71df16bda16",
   "metadata": {},
   "outputs": [
    {
     "data": {
      "text/plain": [
       "array(['CEU9000000001'], dtype=object)"
      ]
     },
     "execution_count": 196,
     "metadata": {},
     "output_type": "execute_result"
    }
   ],
   "source": [
    "df_gov_t['series_id'].unique()"
   ]
  },
  {
   "cell_type": "code",
   "execution_count": 197,
   "id": "558d13c8-ab1d-4c8c-86e6-ac1727379d6a",
   "metadata": {},
   "outputs": [],
   "source": [
    "# Column names\n",
    "df_gov_w = df_gov_w.rename(columns={'value': 'womenInThousands'})\n",
    "df_gov_t = df_gov_t.rename(columns={'value': 'totalInThousands'})"
   ]
  },
  {
   "cell_type": "code",
   "execution_count": 198,
   "id": "7d8caffa-d383-4f29-ac7a-60156f4aefe4",
   "metadata": {},
   "outputs": [
    {
     "data": {
      "text/html": [
       "<div>\n",
       "<style scoped>\n",
       "    .dataframe tbody tr th:only-of-type {\n",
       "        vertical-align: middle;\n",
       "    }\n",
       "\n",
       "    .dataframe tbody tr th {\n",
       "        vertical-align: top;\n",
       "    }\n",
       "\n",
       "    .dataframe thead th {\n",
       "        text-align: right;\n",
       "    }\n",
       "</style>\n",
       "<table border=\"1\" class=\"dataframe\">\n",
       "  <thead>\n",
       "    <tr style=\"text-align: right;\">\n",
       "      <th></th>\n",
       "      <th>series_id</th>\n",
       "      <th>year</th>\n",
       "      <th>period</th>\n",
       "      <th>womenInThousands</th>\n",
       "      <th>footnote_codes</th>\n",
       "      <th>month</th>\n",
       "      <th>year_str</th>\n",
       "      <th>date</th>\n",
       "    </tr>\n",
       "  </thead>\n",
       "  <tbody>\n",
       "    <tr>\n",
       "      <th>29159</th>\n",
       "      <td>CEU9000000010</td>\n",
       "      <td>1964</td>\n",
       "      <td>M01</td>\n",
       "      <td>3727</td>\n",
       "      <td>None</td>\n",
       "      <td>January</td>\n",
       "      <td>1964</td>\n",
       "      <td>January 1964</td>\n",
       "    </tr>\n",
       "    <tr>\n",
       "      <th>29160</th>\n",
       "      <td>CEU9000000010</td>\n",
       "      <td>1964</td>\n",
       "      <td>M02</td>\n",
       "      <td>3776</td>\n",
       "      <td>None</td>\n",
       "      <td>February</td>\n",
       "      <td>1964</td>\n",
       "      <td>February 1964</td>\n",
       "    </tr>\n",
       "    <tr>\n",
       "      <th>29161</th>\n",
       "      <td>CEU9000000010</td>\n",
       "      <td>1964</td>\n",
       "      <td>M03</td>\n",
       "      <td>3799</td>\n",
       "      <td>None</td>\n",
       "      <td>March</td>\n",
       "      <td>1964</td>\n",
       "      <td>March 1964</td>\n",
       "    </tr>\n",
       "    <tr>\n",
       "      <th>29162</th>\n",
       "      <td>CEU9000000010</td>\n",
       "      <td>1964</td>\n",
       "      <td>M04</td>\n",
       "      <td>3815</td>\n",
       "      <td>None</td>\n",
       "      <td>April</td>\n",
       "      <td>1964</td>\n",
       "      <td>April 1964</td>\n",
       "    </tr>\n",
       "    <tr>\n",
       "      <th>29163</th>\n",
       "      <td>CEU9000000010</td>\n",
       "      <td>1964</td>\n",
       "      <td>M05</td>\n",
       "      <td>3806</td>\n",
       "      <td>None</td>\n",
       "      <td>May</td>\n",
       "      <td>1964</td>\n",
       "      <td>May 1964</td>\n",
       "    </tr>\n",
       "  </tbody>\n",
       "</table>\n",
       "</div>"
      ],
      "text/plain": [
       "           series_id  year period  womenInThousands footnote_codes     month  \\\n",
       "29159  CEU9000000010  1964    M01              3727           None   January   \n",
       "29160  CEU9000000010  1964    M02              3776           None  February   \n",
       "29161  CEU9000000010  1964    M03              3799           None     March   \n",
       "29162  CEU9000000010  1964    M04              3815           None     April   \n",
       "29163  CEU9000000010  1964    M05              3806           None       May   \n",
       "\n",
       "      year_str           date  \n",
       "29159     1964   January 1964  \n",
       "29160     1964  February 1964  \n",
       "29161     1964     March 1964  \n",
       "29162     1964     April 1964  \n",
       "29163     1964       May 1964  "
      ]
     },
     "execution_count": 198,
     "metadata": {},
     "output_type": "execute_result"
    }
   ],
   "source": [
    "df_gov_w.head()"
   ]
  },
  {
   "cell_type": "code",
   "execution_count": 199,
   "id": "39be89dd-c981-49ab-a2fd-909f6825b8b5",
   "metadata": {},
   "outputs": [],
   "source": [
    "# Merge series of government data\n",
    "df_gov_merge = pd.merge(df_gov_w[['date','womenInThousands']], df_gov_t[['date','totalInThousands']], on='date', how='left')"
   ]
  },
  {
   "cell_type": "code",
   "execution_count": 200,
   "id": "9a240493-55ed-4a4b-be0c-2154e5659d9b",
   "metadata": {},
   "outputs": [
    {
     "data": {
      "text/html": [
       "<div>\n",
       "<style scoped>\n",
       "    .dataframe tbody tr th:only-of-type {\n",
       "        vertical-align: middle;\n",
       "    }\n",
       "\n",
       "    .dataframe tbody tr th {\n",
       "        vertical-align: top;\n",
       "    }\n",
       "\n",
       "    .dataframe thead th {\n",
       "        text-align: right;\n",
       "    }\n",
       "</style>\n",
       "<table border=\"1\" class=\"dataframe\">\n",
       "  <thead>\n",
       "    <tr style=\"text-align: right;\">\n",
       "      <th></th>\n",
       "      <th>date</th>\n",
       "      <th>womenInThousands</th>\n",
       "      <th>totalInThousands</th>\n",
       "    </tr>\n",
       "  </thead>\n",
       "  <tbody>\n",
       "    <tr>\n",
       "      <th>0</th>\n",
       "      <td>January 1964</td>\n",
       "      <td>3727</td>\n",
       "      <td>9581</td>\n",
       "    </tr>\n",
       "    <tr>\n",
       "      <th>1</th>\n",
       "      <td>February 1964</td>\n",
       "      <td>3776</td>\n",
       "      <td>9642</td>\n",
       "    </tr>\n",
       "    <tr>\n",
       "      <th>2</th>\n",
       "      <td>March 1964</td>\n",
       "      <td>3799</td>\n",
       "      <td>9689</td>\n",
       "    </tr>\n",
       "    <tr>\n",
       "      <th>3</th>\n",
       "      <td>April 1964</td>\n",
       "      <td>3815</td>\n",
       "      <td>9716</td>\n",
       "    </tr>\n",
       "    <tr>\n",
       "      <th>4</th>\n",
       "      <td>May 1964</td>\n",
       "      <td>3806</td>\n",
       "      <td>9722</td>\n",
       "    </tr>\n",
       "  </tbody>\n",
       "</table>\n",
       "</div>"
      ],
      "text/plain": [
       "            date  womenInThousands  totalInThousands\n",
       "0   January 1964              3727              9581\n",
       "1  February 1964              3776              9642\n",
       "2     March 1964              3799              9689\n",
       "3     April 1964              3815              9716\n",
       "4       May 1964              3806              9722"
      ]
     },
     "execution_count": 200,
     "metadata": {},
     "output_type": "execute_result"
    }
   ],
   "source": [
    "df_gov_merge.head()"
   ]
  },
  {
   "cell_type": "code",
   "execution_count": 201,
   "id": "df882b01-5a90-4909-92c0-1cc1e088e592",
   "metadata": {},
   "outputs": [],
   "source": [
    "# Women ratio in government\n",
    "df_gov_merge['wom_gov_ratio'] = round(df_gov_merge['womenInThousands']/df_gov_merge['totalInThousands'],2)"
   ]
  },
  {
   "cell_type": "code",
   "execution_count": 202,
   "id": "d45f04d3-5acc-4c7a-a31a-13bc48ed7083",
   "metadata": {},
   "outputs": [
    {
     "data": {
      "text/html": [
       "<div>\n",
       "<style scoped>\n",
       "    .dataframe tbody tr th:only-of-type {\n",
       "        vertical-align: middle;\n",
       "    }\n",
       "\n",
       "    .dataframe tbody tr th {\n",
       "        vertical-align: top;\n",
       "    }\n",
       "\n",
       "    .dataframe thead th {\n",
       "        text-align: right;\n",
       "    }\n",
       "</style>\n",
       "<table border=\"1\" class=\"dataframe\">\n",
       "  <thead>\n",
       "    <tr style=\"text-align: right;\">\n",
       "      <th></th>\n",
       "      <th>date</th>\n",
       "      <th>womenInThousands</th>\n",
       "      <th>totalInThousands</th>\n",
       "      <th>wom_gov_ratio</th>\n",
       "    </tr>\n",
       "  </thead>\n",
       "  <tbody>\n",
       "    <tr>\n",
       "      <th>0</th>\n",
       "      <td>January 1964</td>\n",
       "      <td>3727</td>\n",
       "      <td>9581</td>\n",
       "      <td>0.39</td>\n",
       "    </tr>\n",
       "    <tr>\n",
       "      <th>1</th>\n",
       "      <td>February 1964</td>\n",
       "      <td>3776</td>\n",
       "      <td>9642</td>\n",
       "      <td>0.39</td>\n",
       "    </tr>\n",
       "    <tr>\n",
       "      <th>2</th>\n",
       "      <td>March 1964</td>\n",
       "      <td>3799</td>\n",
       "      <td>9689</td>\n",
       "      <td>0.39</td>\n",
       "    </tr>\n",
       "    <tr>\n",
       "      <th>3</th>\n",
       "      <td>April 1964</td>\n",
       "      <td>3815</td>\n",
       "      <td>9716</td>\n",
       "      <td>0.39</td>\n",
       "    </tr>\n",
       "    <tr>\n",
       "      <th>4</th>\n",
       "      <td>May 1964</td>\n",
       "      <td>3806</td>\n",
       "      <td>9722</td>\n",
       "      <td>0.39</td>\n",
       "    </tr>\n",
       "  </tbody>\n",
       "</table>\n",
       "</div>"
      ],
      "text/plain": [
       "            date  womenInThousands  totalInThousands  wom_gov_ratio\n",
       "0   January 1964              3727              9581           0.39\n",
       "1  February 1964              3776              9642           0.39\n",
       "2     March 1964              3799              9689           0.39\n",
       "3     April 1964              3815              9716           0.39\n",
       "4       May 1964              3806              9722           0.39"
      ]
     },
     "execution_count": 202,
     "metadata": {},
     "output_type": "execute_result"
    }
   ],
   "source": [
    "df_gov_merge.head()"
   ]
  },
  {
   "cell_type": "markdown",
   "id": "0e742369-4201-43cc-beab-5c227a3516e3",
   "metadata": {},
   "source": [
    "### Production employees data"
   ]
  },
  {
   "cell_type": "code",
   "execution_count": 203,
   "id": "3ab0e9c7-47b8-4bde-b79d-95a7006ec13d",
   "metadata": {},
   "outputs": [],
   "source": [
    "# CEU0500000006: Production and nonsupervisory employees, thousands, total private, not seasonally adjusted\n",
    "df_pro_sup_p = df_pro_sup[(df_pro_sup.series_id == \"CEU0500000006\")]\n",
    "# CEU0500000001: All employees, thousands, total private, not seasonally adjusted\n",
    "df_pro_sup_t = df_pro_sup[(df_pro_sup.series_id == \"CEU0500000001\")]"
   ]
  },
  {
   "cell_type": "code",
   "execution_count": 204,
   "id": "3be6697b-12c2-4bca-940b-9df9a96343c9",
   "metadata": {},
   "outputs": [
    {
     "data": {
      "text/plain": [
       "array(['CEU0500000006'], dtype=object)"
      ]
     },
     "execution_count": 204,
     "metadata": {},
     "output_type": "execute_result"
    }
   ],
   "source": [
    "df_pro_sup_p['series_id'].unique()"
   ]
  },
  {
   "cell_type": "code",
   "execution_count": 205,
   "id": "ae0ca9f3-2eb9-4485-bdd0-951c3e6e50f3",
   "metadata": {},
   "outputs": [
    {
     "data": {
      "text/plain": [
       "array(['CEU0500000001'], dtype=object)"
      ]
     },
     "execution_count": 205,
     "metadata": {},
     "output_type": "execute_result"
    }
   ],
   "source": [
    "df_pro_sup_t['series_id'].unique()"
   ]
  },
  {
   "cell_type": "code",
   "execution_count": 206,
   "id": "6006d4c3-953b-4374-8267-95c1489e42a1",
   "metadata": {},
   "outputs": [],
   "source": [
    "# Column names\n",
    "df_pro_sup_p = df_pro_sup_p.rename(columns={'value': 'prodInThousands'})\n",
    "df_pro_sup_t = df_pro_sup_t.rename(columns={'value': 'totalInThousands'})"
   ]
  },
  {
   "cell_type": "code",
   "execution_count": 207,
   "id": "d8c7e93c-7b6a-40b4-895e-f3e5b2d9f0ce",
   "metadata": {},
   "outputs": [
    {
     "data": {
      "text/html": [
       "<div>\n",
       "<style scoped>\n",
       "    .dataframe tbody tr th:only-of-type {\n",
       "        vertical-align: middle;\n",
       "    }\n",
       "\n",
       "    .dataframe tbody tr th {\n",
       "        vertical-align: top;\n",
       "    }\n",
       "\n",
       "    .dataframe thead th {\n",
       "        text-align: right;\n",
       "    }\n",
       "</style>\n",
       "<table border=\"1\" class=\"dataframe\">\n",
       "  <thead>\n",
       "    <tr style=\"text-align: right;\">\n",
       "      <th></th>\n",
       "      <th>series_id</th>\n",
       "      <th>year</th>\n",
       "      <th>period</th>\n",
       "      <th>prodInThousands</th>\n",
       "      <th>footnote_codes</th>\n",
       "      <th>month</th>\n",
       "      <th>year_str</th>\n",
       "      <th>date</th>\n",
       "    </tr>\n",
       "  </thead>\n",
       "  <tbody>\n",
       "    <tr>\n",
       "      <th>13670</th>\n",
       "      <td>CEU0500000006</td>\n",
       "      <td>1964</td>\n",
       "      <td>M01</td>\n",
       "      <td>38888</td>\n",
       "      <td>None</td>\n",
       "      <td>January</td>\n",
       "      <td>1964</td>\n",
       "      <td>January 1964</td>\n",
       "    </tr>\n",
       "    <tr>\n",
       "      <th>13671</th>\n",
       "      <td>CEU0500000006</td>\n",
       "      <td>1964</td>\n",
       "      <td>M02</td>\n",
       "      <td>38951</td>\n",
       "      <td>None</td>\n",
       "      <td>February</td>\n",
       "      <td>1964</td>\n",
       "      <td>February 1964</td>\n",
       "    </tr>\n",
       "    <tr>\n",
       "      <th>13672</th>\n",
       "      <td>CEU0500000006</td>\n",
       "      <td>1964</td>\n",
       "      <td>M03</td>\n",
       "      <td>39240</td>\n",
       "      <td>None</td>\n",
       "      <td>March</td>\n",
       "      <td>1964</td>\n",
       "      <td>March 1964</td>\n",
       "    </tr>\n",
       "    <tr>\n",
       "      <th>13673</th>\n",
       "      <td>CEU0500000006</td>\n",
       "      <td>1964</td>\n",
       "      <td>M04</td>\n",
       "      <td>39765</td>\n",
       "      <td>None</td>\n",
       "      <td>April</td>\n",
       "      <td>1964</td>\n",
       "      <td>April 1964</td>\n",
       "    </tr>\n",
       "    <tr>\n",
       "      <th>13674</th>\n",
       "      <td>CEU0500000006</td>\n",
       "      <td>1964</td>\n",
       "      <td>M05</td>\n",
       "      <td>40258</td>\n",
       "      <td>None</td>\n",
       "      <td>May</td>\n",
       "      <td>1964</td>\n",
       "      <td>May 1964</td>\n",
       "    </tr>\n",
       "  </tbody>\n",
       "</table>\n",
       "</div>"
      ],
      "text/plain": [
       "           series_id  year period  prodInThousands footnote_codes     month  \\\n",
       "13670  CEU0500000006  1964    M01            38888           None   January   \n",
       "13671  CEU0500000006  1964    M02            38951           None  February   \n",
       "13672  CEU0500000006  1964    M03            39240           None     March   \n",
       "13673  CEU0500000006  1964    M04            39765           None     April   \n",
       "13674  CEU0500000006  1964    M05            40258           None       May   \n",
       "\n",
       "      year_str           date  \n",
       "13670     1964   January 1964  \n",
       "13671     1964  February 1964  \n",
       "13672     1964     March 1964  \n",
       "13673     1964     April 1964  \n",
       "13674     1964       May 1964  "
      ]
     },
     "execution_count": 207,
     "metadata": {},
     "output_type": "execute_result"
    }
   ],
   "source": [
    "df_pro_sup_p.head()"
   ]
  },
  {
   "cell_type": "code",
   "execution_count": 208,
   "id": "afb84a2d-535b-40de-b856-6855db2a3ae8",
   "metadata": {},
   "outputs": [
    {
     "data": {
      "text/html": [
       "<div>\n",
       "<style scoped>\n",
       "    .dataframe tbody tr th:only-of-type {\n",
       "        vertical-align: middle;\n",
       "    }\n",
       "\n",
       "    .dataframe tbody tr th {\n",
       "        vertical-align: top;\n",
       "    }\n",
       "\n",
       "    .dataframe thead th {\n",
       "        text-align: right;\n",
       "    }\n",
       "</style>\n",
       "<table border=\"1\" class=\"dataframe\">\n",
       "  <thead>\n",
       "    <tr style=\"text-align: right;\">\n",
       "      <th></th>\n",
       "      <th>series_id</th>\n",
       "      <th>year</th>\n",
       "      <th>period</th>\n",
       "      <th>totalInThousands</th>\n",
       "      <th>footnote_codes</th>\n",
       "      <th>month</th>\n",
       "      <th>year_str</th>\n",
       "      <th>date</th>\n",
       "    </tr>\n",
       "  </thead>\n",
       "  <tbody>\n",
       "    <tr>\n",
       "      <th>12564</th>\n",
       "      <td>CEU0500000001</td>\n",
       "      <td>1939</td>\n",
       "      <td>M01</td>\n",
       "      <td>25338</td>\n",
       "      <td>None</td>\n",
       "      <td>January</td>\n",
       "      <td>1939</td>\n",
       "      <td>January 1939</td>\n",
       "    </tr>\n",
       "    <tr>\n",
       "      <th>12565</th>\n",
       "      <td>CEU0500000001</td>\n",
       "      <td>1939</td>\n",
       "      <td>M02</td>\n",
       "      <td>25447</td>\n",
       "      <td>None</td>\n",
       "      <td>February</td>\n",
       "      <td>1939</td>\n",
       "      <td>February 1939</td>\n",
       "    </tr>\n",
       "    <tr>\n",
       "      <th>12566</th>\n",
       "      <td>CEU0500000001</td>\n",
       "      <td>1939</td>\n",
       "      <td>M03</td>\n",
       "      <td>25833</td>\n",
       "      <td>None</td>\n",
       "      <td>March</td>\n",
       "      <td>1939</td>\n",
       "      <td>March 1939</td>\n",
       "    </tr>\n",
       "    <tr>\n",
       "      <th>12567</th>\n",
       "      <td>CEU0500000001</td>\n",
       "      <td>1939</td>\n",
       "      <td>M04</td>\n",
       "      <td>25801</td>\n",
       "      <td>None</td>\n",
       "      <td>April</td>\n",
       "      <td>1939</td>\n",
       "      <td>April 1939</td>\n",
       "    </tr>\n",
       "    <tr>\n",
       "      <th>12568</th>\n",
       "      <td>CEU0500000001</td>\n",
       "      <td>1939</td>\n",
       "      <td>M05</td>\n",
       "      <td>26113</td>\n",
       "      <td>None</td>\n",
       "      <td>May</td>\n",
       "      <td>1939</td>\n",
       "      <td>May 1939</td>\n",
       "    </tr>\n",
       "  </tbody>\n",
       "</table>\n",
       "</div>"
      ],
      "text/plain": [
       "           series_id  year period  totalInThousands footnote_codes     month  \\\n",
       "12564  CEU0500000001  1939    M01             25338           None   January   \n",
       "12565  CEU0500000001  1939    M02             25447           None  February   \n",
       "12566  CEU0500000001  1939    M03             25833           None     March   \n",
       "12567  CEU0500000001  1939    M04             25801           None     April   \n",
       "12568  CEU0500000001  1939    M05             26113           None       May   \n",
       "\n",
       "      year_str           date  \n",
       "12564     1939   January 1939  \n",
       "12565     1939  February 1939  \n",
       "12566     1939     March 1939  \n",
       "12567     1939     April 1939  \n",
       "12568     1939       May 1939  "
      ]
     },
     "execution_count": 208,
     "metadata": {},
     "output_type": "execute_result"
    }
   ],
   "source": [
    "df_pro_sup_t.head()"
   ]
  },
  {
   "cell_type": "markdown",
   "id": "fd827906-1aa8-48f8-b227-64a385bebf1c",
   "metadata": {},
   "source": [
    "__The start date between the series differ, however it is possible to calculate the ratio from 1964__"
   ]
  },
  {
   "cell_type": "code",
   "execution_count": 209,
   "id": "744bb195-e205-4b31-845d-9be09a5265a8",
   "metadata": {},
   "outputs": [],
   "source": [
    "# Merge series of government data\n",
    "df_pro_sup_merge = pd.merge(df_pro_sup_t[['date','totalInThousands']], df_pro_sup_p[['date','prodInThousands']], on='date', how='left')"
   ]
  },
  {
   "cell_type": "code",
   "execution_count": 210,
   "id": "c7ec2332-0f56-4157-a491-73772da81351",
   "metadata": {},
   "outputs": [
    {
     "data": {
      "text/html": [
       "<div>\n",
       "<style scoped>\n",
       "    .dataframe tbody tr th:only-of-type {\n",
       "        vertical-align: middle;\n",
       "    }\n",
       "\n",
       "    .dataframe tbody tr th {\n",
       "        vertical-align: top;\n",
       "    }\n",
       "\n",
       "    .dataframe thead th {\n",
       "        text-align: right;\n",
       "    }\n",
       "</style>\n",
       "<table border=\"1\" class=\"dataframe\">\n",
       "  <thead>\n",
       "    <tr style=\"text-align: right;\">\n",
       "      <th></th>\n",
       "      <th>date</th>\n",
       "      <th>totalInThousands</th>\n",
       "      <th>prodInThousands</th>\n",
       "    </tr>\n",
       "  </thead>\n",
       "  <tbody>\n",
       "    <tr>\n",
       "      <th>0</th>\n",
       "      <td>January 1939</td>\n",
       "      <td>25338</td>\n",
       "      <td>NaN</td>\n",
       "    </tr>\n",
       "    <tr>\n",
       "      <th>1</th>\n",
       "      <td>February 1939</td>\n",
       "      <td>25447</td>\n",
       "      <td>NaN</td>\n",
       "    </tr>\n",
       "    <tr>\n",
       "      <th>2</th>\n",
       "      <td>March 1939</td>\n",
       "      <td>25833</td>\n",
       "      <td>NaN</td>\n",
       "    </tr>\n",
       "    <tr>\n",
       "      <th>3</th>\n",
       "      <td>April 1939</td>\n",
       "      <td>25801</td>\n",
       "      <td>NaN</td>\n",
       "    </tr>\n",
       "    <tr>\n",
       "      <th>4</th>\n",
       "      <td>May 1939</td>\n",
       "      <td>26113</td>\n",
       "      <td>NaN</td>\n",
       "    </tr>\n",
       "  </tbody>\n",
       "</table>\n",
       "</div>"
      ],
      "text/plain": [
       "            date  totalInThousands  prodInThousands\n",
       "0   January 1939             25338              NaN\n",
       "1  February 1939             25447              NaN\n",
       "2     March 1939             25833              NaN\n",
       "3     April 1939             25801              NaN\n",
       "4       May 1939             26113              NaN"
      ]
     },
     "execution_count": 210,
     "metadata": {},
     "output_type": "execute_result"
    }
   ],
   "source": [
    "df_pro_sup_merge.head()"
   ]
  },
  {
   "cell_type": "code",
   "execution_count": 211,
   "id": "10dbf50b-0af4-4b1c-b9f2-b78afd33f981",
   "metadata": {},
   "outputs": [
    {
     "data": {
      "text/html": [
       "<div>\n",
       "<style scoped>\n",
       "    .dataframe tbody tr th:only-of-type {\n",
       "        vertical-align: middle;\n",
       "    }\n",
       "\n",
       "    .dataframe tbody tr th {\n",
       "        vertical-align: top;\n",
       "    }\n",
       "\n",
       "    .dataframe thead th {\n",
       "        text-align: right;\n",
       "    }\n",
       "</style>\n",
       "<table border=\"1\" class=\"dataframe\">\n",
       "  <thead>\n",
       "    <tr style=\"text-align: right;\">\n",
       "      <th></th>\n",
       "      <th>date</th>\n",
       "      <th>totalInThousands</th>\n",
       "      <th>prodInThousands</th>\n",
       "    </tr>\n",
       "  </thead>\n",
       "  <tbody>\n",
       "    <tr>\n",
       "      <th>6116</th>\n",
       "      <td>NaN</td>\n",
       "      <td>133269</td>\n",
       "      <td>97900.0</td>\n",
       "    </tr>\n",
       "    <tr>\n",
       "      <th>6117</th>\n",
       "      <td>NaN</td>\n",
       "      <td>133269</td>\n",
       "      <td>101233.0</td>\n",
       "    </tr>\n",
       "    <tr>\n",
       "      <th>6118</th>\n",
       "      <td>NaN</td>\n",
       "      <td>133269</td>\n",
       "      <td>106164.0</td>\n",
       "    </tr>\n",
       "    <tr>\n",
       "      <th>6119</th>\n",
       "      <td>NaN</td>\n",
       "      <td>133269</td>\n",
       "      <td>108425.0</td>\n",
       "    </tr>\n",
       "    <tr>\n",
       "      <th>6120</th>\n",
       "      <td>January 2024</td>\n",
       "      <td>132650</td>\n",
       "      <td>107767.0</td>\n",
       "    </tr>\n",
       "  </tbody>\n",
       "</table>\n",
       "</div>"
      ],
      "text/plain": [
       "              date  totalInThousands  prodInThousands\n",
       "6116           NaN            133269          97900.0\n",
       "6117           NaN            133269         101233.0\n",
       "6118           NaN            133269         106164.0\n",
       "6119           NaN            133269         108425.0\n",
       "6120  January 2024            132650         107767.0"
      ]
     },
     "execution_count": 211,
     "metadata": {},
     "output_type": "execute_result"
    }
   ],
   "source": [
    "df_pro_sup_merge.tail()"
   ]
  },
  {
   "cell_type": "code",
   "execution_count": 212,
   "id": "0e15bfae-01da-4a76-b581-de3bb89a795b",
   "metadata": {},
   "outputs": [],
   "source": [
    "# Supervisory employees\n",
    "df_pro_sup_merge['supInThousands'] = df_pro_sup_merge['totalInThousands']-df_pro_sup_merge['prodInThousands']\n",
    "# Production employees / supervisory employees Ratio\n",
    "df_pro_sup_merge['prod_sup_ratio'] = round(df_pro_sup_merge['prodInThousands']/df_pro_sup_merge['supInThousands'],2)"
   ]
  },
  {
   "cell_type": "code",
   "execution_count": 213,
   "id": "5c83cf7e-7146-4ece-9c57-794b6c586718",
   "metadata": {},
   "outputs": [
    {
     "data": {
      "text/html": [
       "<div>\n",
       "<style scoped>\n",
       "    .dataframe tbody tr th:only-of-type {\n",
       "        vertical-align: middle;\n",
       "    }\n",
       "\n",
       "    .dataframe tbody tr th {\n",
       "        vertical-align: top;\n",
       "    }\n",
       "\n",
       "    .dataframe thead th {\n",
       "        text-align: right;\n",
       "    }\n",
       "</style>\n",
       "<table border=\"1\" class=\"dataframe\">\n",
       "  <thead>\n",
       "    <tr style=\"text-align: right;\">\n",
       "      <th></th>\n",
       "      <th>date</th>\n",
       "      <th>totalInThousands</th>\n",
       "      <th>prodInThousands</th>\n",
       "      <th>supInThousands</th>\n",
       "      <th>prod_sup_ratio</th>\n",
       "    </tr>\n",
       "  </thead>\n",
       "  <tbody>\n",
       "    <tr>\n",
       "      <th>6116</th>\n",
       "      <td>NaN</td>\n",
       "      <td>133269</td>\n",
       "      <td>97900.0</td>\n",
       "      <td>35369.0</td>\n",
       "      <td>2.77</td>\n",
       "    </tr>\n",
       "    <tr>\n",
       "      <th>6117</th>\n",
       "      <td>NaN</td>\n",
       "      <td>133269</td>\n",
       "      <td>101233.0</td>\n",
       "      <td>32036.0</td>\n",
       "      <td>3.16</td>\n",
       "    </tr>\n",
       "    <tr>\n",
       "      <th>6118</th>\n",
       "      <td>NaN</td>\n",
       "      <td>133269</td>\n",
       "      <td>106164.0</td>\n",
       "      <td>27105.0</td>\n",
       "      <td>3.92</td>\n",
       "    </tr>\n",
       "    <tr>\n",
       "      <th>6119</th>\n",
       "      <td>NaN</td>\n",
       "      <td>133269</td>\n",
       "      <td>108425.0</td>\n",
       "      <td>24844.0</td>\n",
       "      <td>4.36</td>\n",
       "    </tr>\n",
       "    <tr>\n",
       "      <th>6120</th>\n",
       "      <td>January 2024</td>\n",
       "      <td>132650</td>\n",
       "      <td>107767.0</td>\n",
       "      <td>24883.0</td>\n",
       "      <td>4.33</td>\n",
       "    </tr>\n",
       "  </tbody>\n",
       "</table>\n",
       "</div>"
      ],
      "text/plain": [
       "              date  totalInThousands  prodInThousands  supInThousands  \\\n",
       "6116           NaN            133269          97900.0         35369.0   \n",
       "6117           NaN            133269         101233.0         32036.0   \n",
       "6118           NaN            133269         106164.0         27105.0   \n",
       "6119           NaN            133269         108425.0         24844.0   \n",
       "6120  January 2024            132650         107767.0         24883.0   \n",
       "\n",
       "      prod_sup_ratio  \n",
       "6116            2.77  \n",
       "6117            3.16  \n",
       "6118            3.92  \n",
       "6119            4.36  \n",
       "6120            4.33  "
      ]
     },
     "execution_count": 213,
     "metadata": {},
     "output_type": "execute_result"
    }
   ],
   "source": [
    "df_pro_sup_merge.tail()"
   ]
  },
  {
   "cell_type": "markdown",
   "id": "7dd346c4-f574-4bb0-a9a9-d59ac1eee7fc",
   "metadata": {},
   "source": [
    "__Review date results__"
   ]
  }
 ],
 "metadata": {
  "kernelspec": {
   "display_name": "Python 3",
   "language": "python",
   "name": "python3"
  },
  "language_info": {
   "codemirror_mode": {
    "name": "ipython",
    "version": 3
   },
   "file_extension": ".py",
   "mimetype": "text/x-python",
   "name": "python",
   "nbconvert_exporter": "python",
   "pygments_lexer": "ipython3",
   "version": "3.7.9"
  }
 },
 "nbformat": 4,
 "nbformat_minor": 5
}
