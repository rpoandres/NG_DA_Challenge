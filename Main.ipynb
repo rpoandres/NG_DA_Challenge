{
 "cells": [
  {
   "cell_type": "markdown",
   "id": "2bdf1fb1-ab78-4d07-99d5-c79de324273f",
   "metadata": {},
   "source": [
    "# Data Analyst Challenge\n",
    "\n",
    "Author: Andres Restrepo"
   ]
  },
  {
   "cell_type": "markdown",
   "id": "b4a43d68-8b92-4ccd-bab5-7863aff43756",
   "metadata": {},
   "source": [
    "## Libraries"
   ]
  },
  {
   "cell_type": "code",
   "execution_count": 1,
   "id": "bd2bebf5-7fa5-49b5-aeae-c5217a1a15d4",
   "metadata": {},
   "outputs": [
    {
     "name": "stdout",
     "output_type": "stream",
     "text": [
      "Collecting psycopg2\n",
      "  Downloading psycopg2-2.9.9-cp37-cp37m-win_amd64.whl (1.2 MB)\n",
      "Installing collected packages: psycopg2\n",
      "Successfully installed psycopg2-2.9.9\n",
      "Note: you may need to restart the kernel to use updated packages.\n"
     ]
    }
   ],
   "source": [
    "#pip install psycopg2"
   ]
  },
  {
   "cell_type": "code",
   "execution_count": 1,
   "id": "5982a944-616e-42b8-a6ea-571801c1fa94",
   "metadata": {},
   "outputs": [],
   "source": [
    "import psycopg2\n",
    "import pandas as pd"
   ]
  },
  {
   "cell_type": "markdown",
   "id": "79b86910-06c7-4277-9452-9ed953b708d4",
   "metadata": {},
   "source": [
    "# Connecting to PostgreSQL"
   ]
  },
  {
   "cell_type": "code",
   "execution_count": 2,
   "id": "1d455e03-7dcf-495d-ba5f-fa5d56a7baac",
   "metadata": {},
   "outputs": [],
   "source": [
    "# Connection parameters\n",
    "hostname = 'localhost'\n",
    "username = 'postgres'\n",
    "password = 'Evolucion.2024'\n",
    "database = 'ces_usa'\n",
    "\n",
    "# Establish connection\n",
    "connection = psycopg2.connect(\n",
    "    host=hostname,\n",
    "    user=username,\n",
    "    password=password,\n",
    "    dbname=database\n",
    ")"
   ]
  },
  {
   "cell_type": "markdown",
   "id": "5baa40a1-21fb-4418-bb78-f8a24d79bf75",
   "metadata": {
    "tags": []
   },
   "source": [
    "## Reading Government data"
   ]
  },
  {
   "cell_type": "code",
   "execution_count": 3,
   "id": "4a5ba7cd-4dbe-44a0-bbe2-ec8345028e69",
   "metadata": {},
   "outputs": [],
   "source": [
    "# Define SQL query\n",
    "query_gov = \"SELECT * FROM nimble.ce_data_90a;\"\n",
    "\n",
    "# Execute query and fetch data into a pandas DataFrame\n",
    "df_gov = pd.read_sql_query(query_gov, connection)\n"
   ]
  },
  {
   "cell_type": "code",
   "execution_count": 4,
   "id": "d197d2d6-7a91-4bc3-84f3-0d24c8c8702f",
   "metadata": {},
   "outputs": [
    {
     "data": {
      "text/plain": [
       "series_id         object\n",
       "year               int64\n",
       "period            object\n",
       "value              int64\n",
       "footnote_codes    object\n",
       "dtype: object"
      ]
     },
     "execution_count": 4,
     "metadata": {},
     "output_type": "execute_result"
    }
   ],
   "source": [
    "df_gov.dtypes"
   ]
  },
  {
   "cell_type": "code",
   "execution_count": 5,
   "id": "0eda8e91-d9c6-4ff5-af51-9a072388bf89",
   "metadata": {},
   "outputs": [
    {
     "data": {
      "text/html": [
       "<div>\n",
       "<style scoped>\n",
       "    .dataframe tbody tr th:only-of-type {\n",
       "        vertical-align: middle;\n",
       "    }\n",
       "\n",
       "    .dataframe tbody tr th {\n",
       "        vertical-align: top;\n",
       "    }\n",
       "\n",
       "    .dataframe thead th {\n",
       "        text-align: right;\n",
       "    }\n",
       "</style>\n",
       "<table border=\"1\" class=\"dataframe\">\n",
       "  <thead>\n",
       "    <tr style=\"text-align: right;\">\n",
       "      <th></th>\n",
       "      <th>series_id</th>\n",
       "      <th>year</th>\n",
       "      <th>period</th>\n",
       "      <th>value</th>\n",
       "      <th>footnote_codes</th>\n",
       "    </tr>\n",
       "  </thead>\n",
       "  <tbody>\n",
       "    <tr>\n",
       "      <th>0</th>\n",
       "      <td>CES9000000001</td>\n",
       "      <td>1939</td>\n",
       "      <td>M01</td>\n",
       "      <td>3988</td>\n",
       "      <td>None</td>\n",
       "    </tr>\n",
       "    <tr>\n",
       "      <th>1</th>\n",
       "      <td>CES9000000001</td>\n",
       "      <td>1939</td>\n",
       "      <td>M02</td>\n",
       "      <td>4001</td>\n",
       "      <td>None</td>\n",
       "    </tr>\n",
       "    <tr>\n",
       "      <th>2</th>\n",
       "      <td>CES9000000001</td>\n",
       "      <td>1939</td>\n",
       "      <td>M03</td>\n",
       "      <td>4002</td>\n",
       "      <td>None</td>\n",
       "    </tr>\n",
       "    <tr>\n",
       "      <th>3</th>\n",
       "      <td>CES9000000001</td>\n",
       "      <td>1939</td>\n",
       "      <td>M04</td>\n",
       "      <td>4002</td>\n",
       "      <td>None</td>\n",
       "    </tr>\n",
       "    <tr>\n",
       "      <th>4</th>\n",
       "      <td>CES9000000001</td>\n",
       "      <td>1939</td>\n",
       "      <td>M05</td>\n",
       "      <td>4006</td>\n",
       "      <td>None</td>\n",
       "    </tr>\n",
       "  </tbody>\n",
       "</table>\n",
       "</div>"
      ],
      "text/plain": [
       "           series_id  year period  value footnote_codes\n",
       "0  CES9000000001      1939    M01   3988           None\n",
       "1  CES9000000001      1939    M02   4001           None\n",
       "2  CES9000000001      1939    M03   4002           None\n",
       "3  CES9000000001      1939    M04   4002           None\n",
       "4  CES9000000001      1939    M05   4006           None"
      ]
     },
     "execution_count": 5,
     "metadata": {},
     "output_type": "execute_result"
    }
   ],
   "source": [
    "df_gov.head()"
   ]
  },
  {
   "cell_type": "code",
   "execution_count": 6,
   "id": "2097010d-01e1-4f05-a156-d379b21b3ac3",
   "metadata": {},
   "outputs": [
    {
     "data": {
      "text/html": [
       "<div>\n",
       "<style scoped>\n",
       "    .dataframe tbody tr th:only-of-type {\n",
       "        vertical-align: middle;\n",
       "    }\n",
       "\n",
       "    .dataframe tbody tr th {\n",
       "        vertical-align: top;\n",
       "    }\n",
       "\n",
       "    .dataframe thead th {\n",
       "        text-align: right;\n",
       "    }\n",
       "</style>\n",
       "<table border=\"1\" class=\"dataframe\">\n",
       "  <thead>\n",
       "    <tr style=\"text-align: right;\">\n",
       "      <th></th>\n",
       "      <th>series_id</th>\n",
       "      <th>year</th>\n",
       "      <th>period</th>\n",
       "      <th>value</th>\n",
       "      <th>footnote_codes</th>\n",
       "    </tr>\n",
       "  </thead>\n",
       "  <tbody>\n",
       "    <tr>\n",
       "      <th>58434</th>\n",
       "      <td>CEU9093299910</td>\n",
       "      <td>2023</td>\n",
       "      <td>M09</td>\n",
       "      <td>6222</td>\n",
       "      <td>None</td>\n",
       "    </tr>\n",
       "    <tr>\n",
       "      <th>58435</th>\n",
       "      <td>CEU9093299910</td>\n",
       "      <td>2023</td>\n",
       "      <td>M10</td>\n",
       "      <td>6196</td>\n",
       "      <td>None</td>\n",
       "    </tr>\n",
       "    <tr>\n",
       "      <th>58436</th>\n",
       "      <td>CEU9093299910</td>\n",
       "      <td>2023</td>\n",
       "      <td>M11</td>\n",
       "      <td>6190</td>\n",
       "      <td>None</td>\n",
       "    </tr>\n",
       "    <tr>\n",
       "      <th>58437</th>\n",
       "      <td>CEU9093299910</td>\n",
       "      <td>2023</td>\n",
       "      <td>M12</td>\n",
       "      <td>6207</td>\n",
       "      <td>P</td>\n",
       "    </tr>\n",
       "    <tr>\n",
       "      <th>58438</th>\n",
       "      <td>CEU9093299910</td>\n",
       "      <td>2023</td>\n",
       "      <td>M13</td>\n",
       "      <td>6214</td>\n",
       "      <td>P</td>\n",
       "    </tr>\n",
       "  </tbody>\n",
       "</table>\n",
       "</div>"
      ],
      "text/plain": [
       "               series_id  year period  value footnote_codes\n",
       "58434  CEU9093299910      2023    M09   6222           None\n",
       "58435  CEU9093299910      2023    M10   6196           None\n",
       "58436  CEU9093299910      2023    M11   6190           None\n",
       "58437  CEU9093299910      2023    M12   6207              P\n",
       "58438  CEU9093299910      2023    M13   6214              P"
      ]
     },
     "execution_count": 6,
     "metadata": {},
     "output_type": "execute_result"
    }
   ],
   "source": [
    "df_gov.tail()"
   ]
  },
  {
   "cell_type": "code",
   "execution_count": 7,
   "id": "f9a1a607-1e64-4dc3-b1f8-e02f98fbd90b",
   "metadata": {},
   "outputs": [
    {
     "data": {
      "text/plain": [
       "Index(['series_id', 'year', 'period', 'value', 'footnote_codes'], dtype='object')"
      ]
     },
     "execution_count": 7,
     "metadata": {},
     "output_type": "execute_result"
    }
   ],
   "source": [
    "#df_gov.columns"
   ]
  },
  {
   "cell_type": "code",
   "execution_count": 8,
   "id": "a5fb3842-3022-4ae6-831a-b37cfea844f0",
   "metadata": {},
   "outputs": [
    {
     "data": {
      "text/plain": [
       "array(['CES9000000001    ', 'CES9000000010    ', 'CES9091000001    ',\n",
       "       'CES9091000010    ', 'CES9091100001    ', 'CES9091100010    ',\n",
       "       'CES9091622001    ', 'CES9091622010    ', 'CES9091911001    ',\n",
       "       'CES9091911010    ', 'CES9091912001    ', 'CES9091912010    ',\n",
       "       'CES9091999901    ', 'CES9091999910    ', 'CES9092000001    ',\n",
       "       'CES9092000010    ', 'CES9092161101    ', 'CES9092161110    ',\n",
       "       'CES9092200001    ', 'CES9092200010    ', 'CES9092262201    ',\n",
       "       'CES9092262210    ', 'CES9092292001    ', 'CES9092292010    ',\n",
       "       'CES9092299901    ', 'CES9092299910    ', 'CES9093000001    ',\n",
       "       'CES9093000010    ', 'CES9093161101    ', 'CES9093161110    ',\n",
       "       'CES9093200001    ', 'CES9093200010    ', 'CES9093222101    ',\n",
       "       'CES9093222110    ', 'CES9093248001    ', 'CES9093248010    ',\n",
       "       'CES9093262201    ', 'CES9093262210    ', 'CES9093292001    ',\n",
       "       'CES9093292010    ', 'CES9093299901    ', 'CES9093299910    ',\n",
       "       'CEU9000000001    ', 'CEU9000000010    ', 'CEU9091000001    ',\n",
       "       'CEU9091000010    ', 'CEU9091100001    ', 'CEU9091100010    ',\n",
       "       'CEU9091622001    ', 'CEU9091622010    ', 'CEU9091911001    ',\n",
       "       'CEU9091911010    ', 'CEU9091912001    ', 'CEU9091912010    ',\n",
       "       'CEU9091999901    ', 'CEU9091999910    ', 'CEU9092000001    ',\n",
       "       'CEU9092000010    ', 'CEU9092161101    ', 'CEU9092161110    ',\n",
       "       'CEU9092200001    ', 'CEU9092200010    ', 'CEU9092262201    ',\n",
       "       'CEU9092262210    ', 'CEU9092292001    ', 'CEU9092292010    ',\n",
       "       'CEU9092299901    ', 'CEU9092299910    ', 'CEU9093000001    ',\n",
       "       'CEU9093000010    ', 'CEU9093161101    ', 'CEU9093161110    ',\n",
       "       'CEU9093200001    ', 'CEU9093200010    ', 'CEU9093222101    ',\n",
       "       'CEU9093222110    ', 'CEU9093248001    ', 'CEU9093248010    ',\n",
       "       'CEU9093262201    ', 'CEU9093262210    ', 'CEU9093292001    ',\n",
       "       'CEU9093292010    ', 'CEU9093299901    ', 'CEU9093299910    '],\n",
       "      dtype=object)"
      ]
     },
     "execution_count": 8,
     "metadata": {},
     "output_type": "execute_result"
    }
   ],
   "source": [
    "df_gov['series_id'].unique()"
   ]
  },
  {
   "cell_type": "markdown",
   "id": "a1715487-2ccc-4bc2-ace6-74b0042e8c40",
   "metadata": {},
   "source": [
    "__There were blank spaces in series_id__"
   ]
  },
  {
   "cell_type": "markdown",
   "id": "e37d2ede-6749-43ee-98af-dc3648fc9e5d",
   "metadata": {},
   "source": [
    "### Data cleaning"
   ]
  },
  {
   "cell_type": "code",
   "execution_count": 9,
   "id": "10b34b20-2e79-408f-9723-c084891c4f64",
   "metadata": {},
   "outputs": [],
   "source": [
    "df_gov['series_id'] = df_gov['series_id'].str.strip()"
   ]
  },
  {
   "cell_type": "code",
   "execution_count": 10,
   "id": "8a43da32-74c3-49be-96ea-b4aae0c11169",
   "metadata": {},
   "outputs": [
    {
     "data": {
      "text/plain": [
       "array(['CES9000000001', 'CES9000000010', 'CES9091000001', 'CES9091000010',\n",
       "       'CES9091100001', 'CES9091100010', 'CES9091622001', 'CES9091622010',\n",
       "       'CES9091911001', 'CES9091911010', 'CES9091912001', 'CES9091912010',\n",
       "       'CES9091999901', 'CES9091999910', 'CES9092000001', 'CES9092000010',\n",
       "       'CES9092161101', 'CES9092161110', 'CES9092200001', 'CES9092200010',\n",
       "       'CES9092262201', 'CES9092262210', 'CES9092292001', 'CES9092292010',\n",
       "       'CES9092299901', 'CES9092299910', 'CES9093000001', 'CES9093000010',\n",
       "       'CES9093161101', 'CES9093161110', 'CES9093200001', 'CES9093200010',\n",
       "       'CES9093222101', 'CES9093222110', 'CES9093248001', 'CES9093248010',\n",
       "       'CES9093262201', 'CES9093262210', 'CES9093292001', 'CES9093292010',\n",
       "       'CES9093299901', 'CES9093299910', 'CEU9000000001', 'CEU9000000010',\n",
       "       'CEU9091000001', 'CEU9091000010', 'CEU9091100001', 'CEU9091100010',\n",
       "       'CEU9091622001', 'CEU9091622010', 'CEU9091911001', 'CEU9091911010',\n",
       "       'CEU9091912001', 'CEU9091912010', 'CEU9091999901', 'CEU9091999910',\n",
       "       'CEU9092000001', 'CEU9092000010', 'CEU9092161101', 'CEU9092161110',\n",
       "       'CEU9092200001', 'CEU9092200010', 'CEU9092262201', 'CEU9092262210',\n",
       "       'CEU9092292001', 'CEU9092292010', 'CEU9092299901', 'CEU9092299910',\n",
       "       'CEU9093000001', 'CEU9093000010', 'CEU9093161101', 'CEU9093161110',\n",
       "       'CEU9093200001', 'CEU9093200010', 'CEU9093222101', 'CEU9093222110',\n",
       "       'CEU9093248001', 'CEU9093248010', 'CEU9093262201', 'CEU9093262210',\n",
       "       'CEU9093292001', 'CEU9093292010', 'CEU9093299901', 'CEU9093299910'],\n",
       "      dtype=object)"
      ]
     },
     "execution_count": 10,
     "metadata": {},
     "output_type": "execute_result"
    }
   ],
   "source": [
    "df_gov['series_id'].unique()"
   ]
  },
  {
   "cell_type": "markdown",
   "id": "66916eec-b22b-4f9c-9268-e864480e1ee0",
   "metadata": {},
   "source": [
    "### Subsetting"
   ]
  },
  {
   "cell_type": "code",
   "execution_count": 11,
   "id": "c79bcd0d-2ed7-4d6a-a6b5-e1662b162af1",
   "metadata": {},
   "outputs": [],
   "source": [
    "# Subsetting series of interest\n",
    "# CEU9000000001: All employees, thousands, government, not seasonally adjusted\n",
    "# CEU9000000010: Women employees, thousands, government, not seasonally adjusted\n",
    "gov_series = (\"CEU9000000001\",\"CEU9000000010\")\n",
    "# df_gov_sub = df_gov[(df_gov.series_id == \"CEU9000000001\")]\n",
    "df_gov_sub = df_gov[df_gov['series_id'].isin(gov_series)]"
   ]
  },
  {
   "cell_type": "code",
   "execution_count": 12,
   "id": "2ff3cc5a-d120-48d6-afb4-896b441ea2c3",
   "metadata": {},
   "outputs": [
    {
     "data": {
      "text/plain": [
       "<bound method NDFrame.head of            series_id  year period  value footnote_codes\n",
       "28053  CEU9000000001  1939    M01   3958           None\n",
       "28054  CEU9000000001  1939    M02   3947           None\n",
       "28055  CEU9000000001  1939    M03   3971           None\n",
       "28056  CEU9000000001  1939    M04   3985           None\n",
       "28057  CEU9000000001  1939    M05   4032           None\n",
       "...              ...   ...    ...    ...            ...\n",
       "29935  CEU9000000010  2023    M10  13643           None\n",
       "29936  CEU9000000010  2023    M11  13756           None\n",
       "29937  CEU9000000010  2023    M12  13698              P\n",
       "29938  CEU9000000010  2023    M13  13285              P\n",
       "29939  CEU9000000010  2024    M01  13470              P\n",
       "\n",
       "[1887 rows x 5 columns]>"
      ]
     },
     "execution_count": 12,
     "metadata": {},
     "output_type": "execute_result"
    }
   ],
   "source": [
    "df_gov_sub.head"
   ]
  },
  {
   "cell_type": "code",
   "execution_count": 13,
   "id": "0df9bb83-28cc-47f8-b004-3c0bf0f08d86",
   "metadata": {
    "tags": []
   },
   "outputs": [
    {
     "data": {
      "text/plain": [
       "array(['CEU9000000001', 'CEU9000000010'], dtype=object)"
      ]
     },
     "execution_count": 13,
     "metadata": {},
     "output_type": "execute_result"
    }
   ],
   "source": [
    "df_gov_sub['series_id'].unique()"
   ]
  },
  {
   "cell_type": "markdown",
   "id": "83bb97b9-68f9-42bd-904c-3de46309cd46",
   "metadata": {},
   "source": [
    "## Reading production and supervisory employees data"
   ]
  },
  {
   "cell_type": "code",
   "execution_count": 35,
   "id": "56642644-f727-4ba8-9a7b-4a4d99315549",
   "metadata": {},
   "outputs": [],
   "source": [
    "# Define SQL query\n",
    "query_pro_sup = \"SELECT * FROM nimble.ce_data_05a;\"\n",
    "\n",
    "# Execute query and fetch data into a pandas DataFrame\n",
    "df_pro_sup = pd.read_sql_query(query_pro_sup, connection)\n"
   ]
  },
  {
   "cell_type": "code",
   "execution_count": 36,
   "id": "097612e9-060b-42a8-b3bb-dcaa1b9584ca",
   "metadata": {},
   "outputs": [
    {
     "data": {
      "text/html": [
       "<div>\n",
       "<style scoped>\n",
       "    .dataframe tbody tr th:only-of-type {\n",
       "        vertical-align: middle;\n",
       "    }\n",
       "\n",
       "    .dataframe tbody tr th {\n",
       "        vertical-align: top;\n",
       "    }\n",
       "\n",
       "    .dataframe thead th {\n",
       "        text-align: right;\n",
       "    }\n",
       "</style>\n",
       "<table border=\"1\" class=\"dataframe\">\n",
       "  <thead>\n",
       "    <tr style=\"text-align: right;\">\n",
       "      <th></th>\n",
       "      <th>series_id</th>\n",
       "      <th>year</th>\n",
       "      <th>period</th>\n",
       "      <th>value</th>\n",
       "      <th>footnote_codes</th>\n",
       "    </tr>\n",
       "  </thead>\n",
       "  <tbody>\n",
       "    <tr>\n",
       "      <th>0</th>\n",
       "      <td>CES0500000001</td>\n",
       "      <td>1939</td>\n",
       "      <td>M01</td>\n",
       "      <td>25935</td>\n",
       "      <td>None</td>\n",
       "    </tr>\n",
       "    <tr>\n",
       "      <th>1</th>\n",
       "      <td>CES0500000001</td>\n",
       "      <td>1939</td>\n",
       "      <td>M02</td>\n",
       "      <td>26099</td>\n",
       "      <td>None</td>\n",
       "    </tr>\n",
       "    <tr>\n",
       "      <th>2</th>\n",
       "      <td>CES0500000001</td>\n",
       "      <td>1939</td>\n",
       "      <td>M03</td>\n",
       "      <td>26278</td>\n",
       "      <td>None</td>\n",
       "    </tr>\n",
       "    <tr>\n",
       "      <th>3</th>\n",
       "      <td>CES0500000001</td>\n",
       "      <td>1939</td>\n",
       "      <td>M04</td>\n",
       "      <td>26092</td>\n",
       "      <td>None</td>\n",
       "    </tr>\n",
       "    <tr>\n",
       "      <th>4</th>\n",
       "      <td>CES0500000001</td>\n",
       "      <td>1939</td>\n",
       "      <td>M05</td>\n",
       "      <td>26293</td>\n",
       "      <td>None</td>\n",
       "    </tr>\n",
       "  </tbody>\n",
       "</table>\n",
       "</div>"
      ],
      "text/plain": [
       "           series_id  year period  value footnote_codes\n",
       "0  CES0500000001      1939    M01  25935           None\n",
       "1  CES0500000001      1939    M02  26099           None\n",
       "2  CES0500000001      1939    M03  26278           None\n",
       "3  CES0500000001      1939    M04  26092           None\n",
       "4  CES0500000001      1939    M05  26293           None"
      ]
     },
     "execution_count": 36,
     "metadata": {},
     "output_type": "execute_result"
    }
   ],
   "source": [
    "df_pro_sup.head()"
   ]
  },
  {
   "cell_type": "code",
   "execution_count": 37,
   "id": "17eba6ee-9e16-4887-b92d-81777bd7d6ce",
   "metadata": {},
   "outputs": [
    {
     "data": {
      "text/html": [
       "<div>\n",
       "<style scoped>\n",
       "    .dataframe tbody tr th:only-of-type {\n",
       "        vertical-align: middle;\n",
       "    }\n",
       "\n",
       "    .dataframe tbody tr th {\n",
       "        vertical-align: top;\n",
       "    }\n",
       "\n",
       "    .dataframe thead th {\n",
       "        text-align: right;\n",
       "    }\n",
       "</style>\n",
       "<table border=\"1\" class=\"dataframe\">\n",
       "  <thead>\n",
       "    <tr style=\"text-align: right;\">\n",
       "      <th></th>\n",
       "      <th>series_id</th>\n",
       "      <th>year</th>\n",
       "      <th>period</th>\n",
       "      <th>value</th>\n",
       "      <th>footnote_codes</th>\n",
       "    </tr>\n",
       "  </thead>\n",
       "  <tbody>\n",
       "    <tr>\n",
       "      <th>23068</th>\n",
       "      <td>CEU0800000010</td>\n",
       "      <td>2023</td>\n",
       "      <td>M10</td>\n",
       "      <td>60027</td>\n",
       "      <td>None</td>\n",
       "    </tr>\n",
       "    <tr>\n",
       "      <th>23069</th>\n",
       "      <td>CEU0800000010</td>\n",
       "      <td>2023</td>\n",
       "      <td>M11</td>\n",
       "      <td>60282</td>\n",
       "      <td>None</td>\n",
       "    </tr>\n",
       "    <tr>\n",
       "      <th>23070</th>\n",
       "      <td>CEU0800000010</td>\n",
       "      <td>2023</td>\n",
       "      <td>M12</td>\n",
       "      <td>60354</td>\n",
       "      <td>P</td>\n",
       "    </tr>\n",
       "    <tr>\n",
       "      <th>23071</th>\n",
       "      <td>CEU0800000010</td>\n",
       "      <td>2023</td>\n",
       "      <td>M13</td>\n",
       "      <td>59464</td>\n",
       "      <td>P</td>\n",
       "    </tr>\n",
       "    <tr>\n",
       "      <th>23072</th>\n",
       "      <td>CEU0800000010</td>\n",
       "      <td>2024</td>\n",
       "      <td>M01</td>\n",
       "      <td>59435</td>\n",
       "      <td>P</td>\n",
       "    </tr>\n",
       "  </tbody>\n",
       "</table>\n",
       "</div>"
      ],
      "text/plain": [
       "               series_id  year period  value footnote_codes\n",
       "23068  CEU0800000010      2023    M10  60027           None\n",
       "23069  CEU0800000010      2023    M11  60282           None\n",
       "23070  CEU0800000010      2023    M12  60354              P\n",
       "23071  CEU0800000010      2023    M13  59464              P\n",
       "23072  CEU0800000010      2024    M01  59435              P"
      ]
     },
     "execution_count": 37,
     "metadata": {},
     "output_type": "execute_result"
    }
   ],
   "source": [
    "df_pro_sup.tail()"
   ]
  },
  {
   "cell_type": "code",
   "execution_count": 38,
   "id": "51ee7c79-6511-432a-bec2-e37499a0a889",
   "metadata": {},
   "outputs": [
    {
     "data": {
      "text/plain": [
       "array(['CES0500000001    ', 'CES0500000006    ', 'CES0500000010    ',\n",
       "       'CES0500000021    ', 'CES0500000022    ', 'CES0500000023    ',\n",
       "       'CES0500000025    ', 'CES0500000026    ', 'CES0600000001    ',\n",
       "       'CES0600000006    ', 'CES0600000010    ', 'CES0600000025    ',\n",
       "       'CES0700000001    ', 'CES0700000010    ', 'CES0700000025    ',\n",
       "       'CES0800000001    ', 'CES0800000006    ', 'CES0800000010    ',\n",
       "       'CEU0500000001    ', 'CEU0500000006    ', 'CEU0500000010    ',\n",
       "       'CEU0500000024    ', 'CEU0600000001    ', 'CEU0600000006    ',\n",
       "       'CEU0600000010    ', 'CEU0700000001    ', 'CEU0700000010    ',\n",
       "       'CEU0800000001    ', 'CEU0800000006    ', 'CEU0800000010    '],\n",
       "      dtype=object)"
      ]
     },
     "execution_count": 38,
     "metadata": {},
     "output_type": "execute_result"
    }
   ],
   "source": [
    "df_pro_sup['series_id'].unique()"
   ]
  },
  {
   "cell_type": "markdown",
   "id": "935e87ef-9e7d-48b2-a813-fc939b4857c7",
   "metadata": {},
   "source": [
    "__There were blank spaces in series_id__"
   ]
  },
  {
   "cell_type": "markdown",
   "id": "ffa7718d-b0e6-4c8e-b1ed-8fd7148b8860",
   "metadata": {},
   "source": [
    "### Data cleaning"
   ]
  },
  {
   "cell_type": "code",
   "execution_count": 39,
   "id": "a998013a-0590-4f25-bc9b-918ac3b819f9",
   "metadata": {},
   "outputs": [],
   "source": [
    "df_pro_sup['series_id'] = df_pro_sup['series_id'].str.strip()"
   ]
  },
  {
   "cell_type": "code",
   "execution_count": 40,
   "id": "8467853f-fb70-4019-ab63-a8c994a010f1",
   "metadata": {},
   "outputs": [
    {
     "data": {
      "text/plain": [
       "array(['CES0500000001', 'CES0500000006', 'CES0500000010', 'CES0500000021',\n",
       "       'CES0500000022', 'CES0500000023', 'CES0500000025', 'CES0500000026',\n",
       "       'CES0600000001', 'CES0600000006', 'CES0600000010', 'CES0600000025',\n",
       "       'CES0700000001', 'CES0700000010', 'CES0700000025', 'CES0800000001',\n",
       "       'CES0800000006', 'CES0800000010', 'CEU0500000001', 'CEU0500000006',\n",
       "       'CEU0500000010', 'CEU0500000024', 'CEU0600000001', 'CEU0600000006',\n",
       "       'CEU0600000010', 'CEU0700000001', 'CEU0700000010', 'CEU0800000001',\n",
       "       'CEU0800000006', 'CEU0800000010'], dtype=object)"
      ]
     },
     "execution_count": 40,
     "metadata": {},
     "output_type": "execute_result"
    }
   ],
   "source": [
    "df_pro_sup['series_id'].unique()"
   ]
  },
  {
   "cell_type": "code",
   "execution_count": null,
   "id": "557e7485-f93a-4aca-aebc-1104405784dc",
   "metadata": {},
   "outputs": [],
   "source": []
  },
  {
   "cell_type": "markdown",
   "id": "3188c5e2-8398-46d5-817b-02ee251b11cf",
   "metadata": {},
   "source": [
    "### Subsetting"
   ]
  },
  {
   "cell_type": "code",
   "execution_count": 41,
   "id": "caa3a819-7f45-4add-86d9-e42d6584ad65",
   "metadata": {},
   "outputs": [],
   "source": [
    "# Subsetting series of interest\n",
    "# CEU0500000006: Production and nonsupervisory employees, thousands, total private, not seasonally adjusted\n",
    "pro_sup_series = (\"CEU0500000006\", \"CEU0500000001\")\n",
    "# df_pro_sup = df_pro_sup[(df_pro_sup.series_id == \"CEU0500000006\")]\n",
    "df_pro_sup = df_pro_sup[df_pro_sup['series_id'].isin(pro_sup_series)]"
   ]
  },
  {
   "cell_type": "code",
   "execution_count": 42,
   "id": "459d0b0f-858a-40ea-91f1-64d5084ecfb2",
   "metadata": {},
   "outputs": [
    {
     "data": {
      "text/plain": [
       "<bound method NDFrame.head of            series_id  year period   value footnote_codes\n",
       "12564  CEU0500000001  1939    M01   25338           None\n",
       "12565  CEU0500000001  1939    M02   25447           None\n",
       "12566  CEU0500000001  1939    M03   25833           None\n",
       "12567  CEU0500000001  1939    M04   25801           None\n",
       "12568  CEU0500000001  1939    M05   26113           None\n",
       "...              ...   ...    ...     ...            ...\n",
       "14446  CEU0500000006  2023    M10  109513           None\n",
       "14447  CEU0500000006  2023    M11  109887           None\n",
       "14448  CEU0500000006  2023    M12  109756              P\n",
       "14449  CEU0500000006  2023    M13  108425              P\n",
       "14450  CEU0500000006  2024    M01  107767              P\n",
       "\n",
       "[1887 rows x 5 columns]>"
      ]
     },
     "execution_count": 42,
     "metadata": {},
     "output_type": "execute_result"
    }
   ],
   "source": [
    "df_pro_sup.head"
   ]
  },
  {
   "cell_type": "code",
   "execution_count": 43,
   "id": "87ad1fb5-3c48-40a8-849a-cd2907787c39",
   "metadata": {
    "tags": []
   },
   "outputs": [
    {
     "data": {
      "text/plain": [
       "array(['CEU0500000001', 'CEU0500000006'], dtype=object)"
      ]
     },
     "execution_count": 43,
     "metadata": {},
     "output_type": "execute_result"
    }
   ],
   "source": [
    "df_pro_sup['series_id'].unique()"
   ]
  },
  {
   "cell_type": "markdown",
   "id": "bf85ffc9-4066-422d-b7a7-d46fc4dba9df",
   "metadata": {},
   "source": [
    "# Transforming data"
   ]
  },
  {
   "cell_type": "markdown",
   "id": "a280f73b-54f9-4967-ab3a-b7c21c2d4adc",
   "metadata": {},
   "source": [
    "## Month"
   ]
  },
  {
   "cell_type": "code",
   "execution_count": 44,
   "id": "a35e93ed-b584-49d6-9040-f7a47410a919",
   "metadata": {},
   "outputs": [],
   "source": [
    "# Month listing\n",
    "month_mapping = {\n",
    "    'M01': 'January',\n",
    "    'M02': 'February',\n",
    "    'M03': 'March',\n",
    "    'M04': 'April',\n",
    "    'M05': 'May',\n",
    "    'M06': 'June',\n",
    "    'M07': 'July',\n",
    "    'M08': 'August',\n",
    "    'M09': 'September',\n",
    "    'M10': 'October',\n",
    "    'M11': 'November',\n",
    "    'M12': 'December'\n",
    "}\n",
    "\n",
    "df_gov['month'] = df_gov['period'].map(month_mapping)\n",
    "df_pro_sup['month'] = df_pro_sup['period'].map(month_mapping)"
   ]
  },
  {
   "cell_type": "code",
   "execution_count": 45,
   "id": "df790ed0-6448-4526-8504-1f6b7bca36fd",
   "metadata": {},
   "outputs": [
    {
     "data": {
      "text/html": [
       "<div>\n",
       "<style scoped>\n",
       "    .dataframe tbody tr th:only-of-type {\n",
       "        vertical-align: middle;\n",
       "    }\n",
       "\n",
       "    .dataframe tbody tr th {\n",
       "        vertical-align: top;\n",
       "    }\n",
       "\n",
       "    .dataframe thead th {\n",
       "        text-align: right;\n",
       "    }\n",
       "</style>\n",
       "<table border=\"1\" class=\"dataframe\">\n",
       "  <thead>\n",
       "    <tr style=\"text-align: right;\">\n",
       "      <th></th>\n",
       "      <th>series_id</th>\n",
       "      <th>year</th>\n",
       "      <th>period</th>\n",
       "      <th>valueInThousands</th>\n",
       "      <th>footnote_codes</th>\n",
       "      <th>month</th>\n",
       "      <th>year_str</th>\n",
       "      <th>date</th>\n",
       "    </tr>\n",
       "  </thead>\n",
       "  <tbody>\n",
       "    <tr>\n",
       "      <th>0</th>\n",
       "      <td>CES9000000001</td>\n",
       "      <td>1939</td>\n",
       "      <td>M01</td>\n",
       "      <td>3988</td>\n",
       "      <td>None</td>\n",
       "      <td>January</td>\n",
       "      <td>1939</td>\n",
       "      <td>January 1939</td>\n",
       "    </tr>\n",
       "    <tr>\n",
       "      <th>1</th>\n",
       "      <td>CES9000000001</td>\n",
       "      <td>1939</td>\n",
       "      <td>M02</td>\n",
       "      <td>4001</td>\n",
       "      <td>None</td>\n",
       "      <td>February</td>\n",
       "      <td>1939</td>\n",
       "      <td>February 1939</td>\n",
       "    </tr>\n",
       "    <tr>\n",
       "      <th>2</th>\n",
       "      <td>CES9000000001</td>\n",
       "      <td>1939</td>\n",
       "      <td>M03</td>\n",
       "      <td>4002</td>\n",
       "      <td>None</td>\n",
       "      <td>March</td>\n",
       "      <td>1939</td>\n",
       "      <td>March 1939</td>\n",
       "    </tr>\n",
       "    <tr>\n",
       "      <th>3</th>\n",
       "      <td>CES9000000001</td>\n",
       "      <td>1939</td>\n",
       "      <td>M04</td>\n",
       "      <td>4002</td>\n",
       "      <td>None</td>\n",
       "      <td>April</td>\n",
       "      <td>1939</td>\n",
       "      <td>April 1939</td>\n",
       "    </tr>\n",
       "    <tr>\n",
       "      <th>4</th>\n",
       "      <td>CES9000000001</td>\n",
       "      <td>1939</td>\n",
       "      <td>M05</td>\n",
       "      <td>4006</td>\n",
       "      <td>None</td>\n",
       "      <td>May</td>\n",
       "      <td>1939</td>\n",
       "      <td>May 1939</td>\n",
       "    </tr>\n",
       "  </tbody>\n",
       "</table>\n",
       "</div>"
      ],
      "text/plain": [
       "       series_id  year period  valueInThousands footnote_codes     month  \\\n",
       "0  CES9000000001  1939    M01              3988           None   January   \n",
       "1  CES9000000001  1939    M02              4001           None  February   \n",
       "2  CES9000000001  1939    M03              4002           None     March   \n",
       "3  CES9000000001  1939    M04              4002           None     April   \n",
       "4  CES9000000001  1939    M05              4006           None       May   \n",
       "\n",
       "  year_str           date  \n",
       "0     1939   January 1939  \n",
       "1     1939  February 1939  \n",
       "2     1939     March 1939  \n",
       "3     1939     April 1939  \n",
       "4     1939       May 1939  "
      ]
     },
     "execution_count": 45,
     "metadata": {},
     "output_type": "execute_result"
    }
   ],
   "source": [
    "df_gov.head()"
   ]
  },
  {
   "cell_type": "code",
   "execution_count": 46,
   "id": "6dda319b-de86-452a-8c1d-75b84a99f830",
   "metadata": {},
   "outputs": [
    {
     "data": {
      "text/html": [
       "<div>\n",
       "<style scoped>\n",
       "    .dataframe tbody tr th:only-of-type {\n",
       "        vertical-align: middle;\n",
       "    }\n",
       "\n",
       "    .dataframe tbody tr th {\n",
       "        vertical-align: top;\n",
       "    }\n",
       "\n",
       "    .dataframe thead th {\n",
       "        text-align: right;\n",
       "    }\n",
       "</style>\n",
       "<table border=\"1\" class=\"dataframe\">\n",
       "  <thead>\n",
       "    <tr style=\"text-align: right;\">\n",
       "      <th></th>\n",
       "      <th>series_id</th>\n",
       "      <th>year</th>\n",
       "      <th>period</th>\n",
       "      <th>value</th>\n",
       "      <th>footnote_codes</th>\n",
       "      <th>month</th>\n",
       "    </tr>\n",
       "  </thead>\n",
       "  <tbody>\n",
       "    <tr>\n",
       "      <th>12564</th>\n",
       "      <td>CEU0500000001</td>\n",
       "      <td>1939</td>\n",
       "      <td>M01</td>\n",
       "      <td>25338</td>\n",
       "      <td>None</td>\n",
       "      <td>January</td>\n",
       "    </tr>\n",
       "    <tr>\n",
       "      <th>12565</th>\n",
       "      <td>CEU0500000001</td>\n",
       "      <td>1939</td>\n",
       "      <td>M02</td>\n",
       "      <td>25447</td>\n",
       "      <td>None</td>\n",
       "      <td>February</td>\n",
       "    </tr>\n",
       "    <tr>\n",
       "      <th>12566</th>\n",
       "      <td>CEU0500000001</td>\n",
       "      <td>1939</td>\n",
       "      <td>M03</td>\n",
       "      <td>25833</td>\n",
       "      <td>None</td>\n",
       "      <td>March</td>\n",
       "    </tr>\n",
       "    <tr>\n",
       "      <th>12567</th>\n",
       "      <td>CEU0500000001</td>\n",
       "      <td>1939</td>\n",
       "      <td>M04</td>\n",
       "      <td>25801</td>\n",
       "      <td>None</td>\n",
       "      <td>April</td>\n",
       "    </tr>\n",
       "    <tr>\n",
       "      <th>12568</th>\n",
       "      <td>CEU0500000001</td>\n",
       "      <td>1939</td>\n",
       "      <td>M05</td>\n",
       "      <td>26113</td>\n",
       "      <td>None</td>\n",
       "      <td>May</td>\n",
       "    </tr>\n",
       "  </tbody>\n",
       "</table>\n",
       "</div>"
      ],
      "text/plain": [
       "           series_id  year period  value footnote_codes     month\n",
       "12564  CEU0500000001  1939    M01  25338           None   January\n",
       "12565  CEU0500000001  1939    M02  25447           None  February\n",
       "12566  CEU0500000001  1939    M03  25833           None     March\n",
       "12567  CEU0500000001  1939    M04  25801           None     April\n",
       "12568  CEU0500000001  1939    M05  26113           None       May"
      ]
     },
     "execution_count": 46,
     "metadata": {},
     "output_type": "execute_result"
    }
   ],
   "source": [
    "df_pro_sup.head()"
   ]
  },
  {
   "cell_type": "markdown",
   "id": "03be80ec-61b1-427c-a9b7-ca3e3707bf62",
   "metadata": {},
   "source": [
    "## Month year date column"
   ]
  },
  {
   "cell_type": "code",
   "execution_count": 47,
   "id": "0dda3b82-5036-4d2f-86f7-23d9529a5503",
   "metadata": {},
   "outputs": [],
   "source": [
    "# String year column\n",
    "df_gov['year_str'] = df_gov['year'].astype(str)\n",
    "df_pro_sup['year_str'] = df_pro_sup['year'].astype(str)\n",
    "# Merging month and year columns\n",
    "df_gov['date'] = df_gov['month'] + ' ' + df_gov['year_str']\n",
    "df_pro_sup['date'] = df_pro_sup['month'] + ' ' + df_pro_sup['year_str']"
   ]
  },
  {
   "cell_type": "code",
   "execution_count": 48,
   "id": "7008418c-6b33-4ad2-a7bc-89c1832c8280",
   "metadata": {},
   "outputs": [
    {
     "data": {
      "text/html": [
       "<div>\n",
       "<style scoped>\n",
       "    .dataframe tbody tr th:only-of-type {\n",
       "        vertical-align: middle;\n",
       "    }\n",
       "\n",
       "    .dataframe tbody tr th {\n",
       "        vertical-align: top;\n",
       "    }\n",
       "\n",
       "    .dataframe thead th {\n",
       "        text-align: right;\n",
       "    }\n",
       "</style>\n",
       "<table border=\"1\" class=\"dataframe\">\n",
       "  <thead>\n",
       "    <tr style=\"text-align: right;\">\n",
       "      <th></th>\n",
       "      <th>series_id</th>\n",
       "      <th>year</th>\n",
       "      <th>period</th>\n",
       "      <th>valueInThousands</th>\n",
       "      <th>footnote_codes</th>\n",
       "      <th>month</th>\n",
       "      <th>year_str</th>\n",
       "      <th>date</th>\n",
       "    </tr>\n",
       "  </thead>\n",
       "  <tbody>\n",
       "    <tr>\n",
       "      <th>0</th>\n",
       "      <td>CES9000000001</td>\n",
       "      <td>1939</td>\n",
       "      <td>M01</td>\n",
       "      <td>3988</td>\n",
       "      <td>None</td>\n",
       "      <td>January</td>\n",
       "      <td>1939</td>\n",
       "      <td>January 1939</td>\n",
       "    </tr>\n",
       "    <tr>\n",
       "      <th>1</th>\n",
       "      <td>CES9000000001</td>\n",
       "      <td>1939</td>\n",
       "      <td>M02</td>\n",
       "      <td>4001</td>\n",
       "      <td>None</td>\n",
       "      <td>February</td>\n",
       "      <td>1939</td>\n",
       "      <td>February 1939</td>\n",
       "    </tr>\n",
       "    <tr>\n",
       "      <th>2</th>\n",
       "      <td>CES9000000001</td>\n",
       "      <td>1939</td>\n",
       "      <td>M03</td>\n",
       "      <td>4002</td>\n",
       "      <td>None</td>\n",
       "      <td>March</td>\n",
       "      <td>1939</td>\n",
       "      <td>March 1939</td>\n",
       "    </tr>\n",
       "    <tr>\n",
       "      <th>3</th>\n",
       "      <td>CES9000000001</td>\n",
       "      <td>1939</td>\n",
       "      <td>M04</td>\n",
       "      <td>4002</td>\n",
       "      <td>None</td>\n",
       "      <td>April</td>\n",
       "      <td>1939</td>\n",
       "      <td>April 1939</td>\n",
       "    </tr>\n",
       "    <tr>\n",
       "      <th>4</th>\n",
       "      <td>CES9000000001</td>\n",
       "      <td>1939</td>\n",
       "      <td>M05</td>\n",
       "      <td>4006</td>\n",
       "      <td>None</td>\n",
       "      <td>May</td>\n",
       "      <td>1939</td>\n",
       "      <td>May 1939</td>\n",
       "    </tr>\n",
       "  </tbody>\n",
       "</table>\n",
       "</div>"
      ],
      "text/plain": [
       "       series_id  year period  valueInThousands footnote_codes     month  \\\n",
       "0  CES9000000001  1939    M01              3988           None   January   \n",
       "1  CES9000000001  1939    M02              4001           None  February   \n",
       "2  CES9000000001  1939    M03              4002           None     March   \n",
       "3  CES9000000001  1939    M04              4002           None     April   \n",
       "4  CES9000000001  1939    M05              4006           None       May   \n",
       "\n",
       "  year_str           date  \n",
       "0     1939   January 1939  \n",
       "1     1939  February 1939  \n",
       "2     1939     March 1939  \n",
       "3     1939     April 1939  \n",
       "4     1939       May 1939  "
      ]
     },
     "execution_count": 48,
     "metadata": {},
     "output_type": "execute_result"
    }
   ],
   "source": [
    "df_gov.head()"
   ]
  },
  {
   "cell_type": "code",
   "execution_count": 49,
   "id": "d25c5c75-614c-42da-b625-5491fcfec284",
   "metadata": {},
   "outputs": [
    {
     "data": {
      "text/html": [
       "<div>\n",
       "<style scoped>\n",
       "    .dataframe tbody tr th:only-of-type {\n",
       "        vertical-align: middle;\n",
       "    }\n",
       "\n",
       "    .dataframe tbody tr th {\n",
       "        vertical-align: top;\n",
       "    }\n",
       "\n",
       "    .dataframe thead th {\n",
       "        text-align: right;\n",
       "    }\n",
       "</style>\n",
       "<table border=\"1\" class=\"dataframe\">\n",
       "  <thead>\n",
       "    <tr style=\"text-align: right;\">\n",
       "      <th></th>\n",
       "      <th>series_id</th>\n",
       "      <th>year</th>\n",
       "      <th>period</th>\n",
       "      <th>value</th>\n",
       "      <th>footnote_codes</th>\n",
       "      <th>month</th>\n",
       "      <th>year_str</th>\n",
       "      <th>date</th>\n",
       "    </tr>\n",
       "  </thead>\n",
       "  <tbody>\n",
       "    <tr>\n",
       "      <th>12564</th>\n",
       "      <td>CEU0500000001</td>\n",
       "      <td>1939</td>\n",
       "      <td>M01</td>\n",
       "      <td>25338</td>\n",
       "      <td>None</td>\n",
       "      <td>January</td>\n",
       "      <td>1939</td>\n",
       "      <td>January 1939</td>\n",
       "    </tr>\n",
       "    <tr>\n",
       "      <th>12565</th>\n",
       "      <td>CEU0500000001</td>\n",
       "      <td>1939</td>\n",
       "      <td>M02</td>\n",
       "      <td>25447</td>\n",
       "      <td>None</td>\n",
       "      <td>February</td>\n",
       "      <td>1939</td>\n",
       "      <td>February 1939</td>\n",
       "    </tr>\n",
       "    <tr>\n",
       "      <th>12566</th>\n",
       "      <td>CEU0500000001</td>\n",
       "      <td>1939</td>\n",
       "      <td>M03</td>\n",
       "      <td>25833</td>\n",
       "      <td>None</td>\n",
       "      <td>March</td>\n",
       "      <td>1939</td>\n",
       "      <td>March 1939</td>\n",
       "    </tr>\n",
       "    <tr>\n",
       "      <th>12567</th>\n",
       "      <td>CEU0500000001</td>\n",
       "      <td>1939</td>\n",
       "      <td>M04</td>\n",
       "      <td>25801</td>\n",
       "      <td>None</td>\n",
       "      <td>April</td>\n",
       "      <td>1939</td>\n",
       "      <td>April 1939</td>\n",
       "    </tr>\n",
       "    <tr>\n",
       "      <th>12568</th>\n",
       "      <td>CEU0500000001</td>\n",
       "      <td>1939</td>\n",
       "      <td>M05</td>\n",
       "      <td>26113</td>\n",
       "      <td>None</td>\n",
       "      <td>May</td>\n",
       "      <td>1939</td>\n",
       "      <td>May 1939</td>\n",
       "    </tr>\n",
       "  </tbody>\n",
       "</table>\n",
       "</div>"
      ],
      "text/plain": [
       "           series_id  year period  value footnote_codes     month year_str  \\\n",
       "12564  CEU0500000001  1939    M01  25338           None   January     1939   \n",
       "12565  CEU0500000001  1939    M02  25447           None  February     1939   \n",
       "12566  CEU0500000001  1939    M03  25833           None     March     1939   \n",
       "12567  CEU0500000001  1939    M04  25801           None     April     1939   \n",
       "12568  CEU0500000001  1939    M05  26113           None       May     1939   \n",
       "\n",
       "                date  \n",
       "12564   January 1939  \n",
       "12565  February 1939  \n",
       "12566     March 1939  \n",
       "12567     April 1939  \n",
       "12568       May 1939  "
      ]
     },
     "execution_count": 49,
     "metadata": {},
     "output_type": "execute_result"
    }
   ],
   "source": [
    "df_pro_sup.head()"
   ]
  },
  {
   "cell_type": "markdown",
   "id": "e5d7d072-588b-4e6f-96c6-7a229a2200b4",
   "metadata": {},
   "source": [
    "## Value in thousends column"
   ]
  },
  {
   "cell_type": "code",
   "execution_count": 50,
   "id": "bab993ca-3ec4-4620-8bfa-a7e0ead42268",
   "metadata": {},
   "outputs": [],
   "source": [
    "# Rename value column\n",
    "df_gov = df_gov.rename(columns={'value': 'valueInThousands'})\n",
    "df_pro_sup = df_pro_sup.rename(columns={'value': 'valueInThousands'})"
   ]
  },
  {
   "cell_type": "code",
   "execution_count": 51,
   "id": "c90343db-6df0-43da-9a76-1ac956864099",
   "metadata": {},
   "outputs": [
    {
     "data": {
      "text/html": [
       "<div>\n",
       "<style scoped>\n",
       "    .dataframe tbody tr th:only-of-type {\n",
       "        vertical-align: middle;\n",
       "    }\n",
       "\n",
       "    .dataframe tbody tr th {\n",
       "        vertical-align: top;\n",
       "    }\n",
       "\n",
       "    .dataframe thead th {\n",
       "        text-align: right;\n",
       "    }\n",
       "</style>\n",
       "<table border=\"1\" class=\"dataframe\">\n",
       "  <thead>\n",
       "    <tr style=\"text-align: right;\">\n",
       "      <th></th>\n",
       "      <th>series_id</th>\n",
       "      <th>year</th>\n",
       "      <th>period</th>\n",
       "      <th>valueInThousands</th>\n",
       "      <th>footnote_codes</th>\n",
       "      <th>month</th>\n",
       "      <th>year_str</th>\n",
       "      <th>date</th>\n",
       "    </tr>\n",
       "  </thead>\n",
       "  <tbody>\n",
       "    <tr>\n",
       "      <th>0</th>\n",
       "      <td>CES9000000001</td>\n",
       "      <td>1939</td>\n",
       "      <td>M01</td>\n",
       "      <td>3988</td>\n",
       "      <td>None</td>\n",
       "      <td>January</td>\n",
       "      <td>1939</td>\n",
       "      <td>January 1939</td>\n",
       "    </tr>\n",
       "    <tr>\n",
       "      <th>1</th>\n",
       "      <td>CES9000000001</td>\n",
       "      <td>1939</td>\n",
       "      <td>M02</td>\n",
       "      <td>4001</td>\n",
       "      <td>None</td>\n",
       "      <td>February</td>\n",
       "      <td>1939</td>\n",
       "      <td>February 1939</td>\n",
       "    </tr>\n",
       "    <tr>\n",
       "      <th>2</th>\n",
       "      <td>CES9000000001</td>\n",
       "      <td>1939</td>\n",
       "      <td>M03</td>\n",
       "      <td>4002</td>\n",
       "      <td>None</td>\n",
       "      <td>March</td>\n",
       "      <td>1939</td>\n",
       "      <td>March 1939</td>\n",
       "    </tr>\n",
       "    <tr>\n",
       "      <th>3</th>\n",
       "      <td>CES9000000001</td>\n",
       "      <td>1939</td>\n",
       "      <td>M04</td>\n",
       "      <td>4002</td>\n",
       "      <td>None</td>\n",
       "      <td>April</td>\n",
       "      <td>1939</td>\n",
       "      <td>April 1939</td>\n",
       "    </tr>\n",
       "    <tr>\n",
       "      <th>4</th>\n",
       "      <td>CES9000000001</td>\n",
       "      <td>1939</td>\n",
       "      <td>M05</td>\n",
       "      <td>4006</td>\n",
       "      <td>None</td>\n",
       "      <td>May</td>\n",
       "      <td>1939</td>\n",
       "      <td>May 1939</td>\n",
       "    </tr>\n",
       "  </tbody>\n",
       "</table>\n",
       "</div>"
      ],
      "text/plain": [
       "       series_id  year period  valueInThousands footnote_codes     month  \\\n",
       "0  CES9000000001  1939    M01              3988           None   January   \n",
       "1  CES9000000001  1939    M02              4001           None  February   \n",
       "2  CES9000000001  1939    M03              4002           None     March   \n",
       "3  CES9000000001  1939    M04              4002           None     April   \n",
       "4  CES9000000001  1939    M05              4006           None       May   \n",
       "\n",
       "  year_str           date  \n",
       "0     1939   January 1939  \n",
       "1     1939  February 1939  \n",
       "2     1939     March 1939  \n",
       "3     1939     April 1939  \n",
       "4     1939       May 1939  "
      ]
     },
     "execution_count": 51,
     "metadata": {},
     "output_type": "execute_result"
    }
   ],
   "source": [
    "df_gov.head()"
   ]
  },
  {
   "cell_type": "code",
   "execution_count": 52,
   "id": "0e1c8a32-9369-4f99-9ea0-dad5dc4c394a",
   "metadata": {},
   "outputs": [
    {
     "data": {
      "text/html": [
       "<div>\n",
       "<style scoped>\n",
       "    .dataframe tbody tr th:only-of-type {\n",
       "        vertical-align: middle;\n",
       "    }\n",
       "\n",
       "    .dataframe tbody tr th {\n",
       "        vertical-align: top;\n",
       "    }\n",
       "\n",
       "    .dataframe thead th {\n",
       "        text-align: right;\n",
       "    }\n",
       "</style>\n",
       "<table border=\"1\" class=\"dataframe\">\n",
       "  <thead>\n",
       "    <tr style=\"text-align: right;\">\n",
       "      <th></th>\n",
       "      <th>series_id</th>\n",
       "      <th>year</th>\n",
       "      <th>period</th>\n",
       "      <th>valueInThousands</th>\n",
       "      <th>footnote_codes</th>\n",
       "      <th>month</th>\n",
       "      <th>year_str</th>\n",
       "      <th>date</th>\n",
       "    </tr>\n",
       "  </thead>\n",
       "  <tbody>\n",
       "    <tr>\n",
       "      <th>12564</th>\n",
       "      <td>CEU0500000001</td>\n",
       "      <td>1939</td>\n",
       "      <td>M01</td>\n",
       "      <td>25338</td>\n",
       "      <td>None</td>\n",
       "      <td>January</td>\n",
       "      <td>1939</td>\n",
       "      <td>January 1939</td>\n",
       "    </tr>\n",
       "    <tr>\n",
       "      <th>12565</th>\n",
       "      <td>CEU0500000001</td>\n",
       "      <td>1939</td>\n",
       "      <td>M02</td>\n",
       "      <td>25447</td>\n",
       "      <td>None</td>\n",
       "      <td>February</td>\n",
       "      <td>1939</td>\n",
       "      <td>February 1939</td>\n",
       "    </tr>\n",
       "    <tr>\n",
       "      <th>12566</th>\n",
       "      <td>CEU0500000001</td>\n",
       "      <td>1939</td>\n",
       "      <td>M03</td>\n",
       "      <td>25833</td>\n",
       "      <td>None</td>\n",
       "      <td>March</td>\n",
       "      <td>1939</td>\n",
       "      <td>March 1939</td>\n",
       "    </tr>\n",
       "    <tr>\n",
       "      <th>12567</th>\n",
       "      <td>CEU0500000001</td>\n",
       "      <td>1939</td>\n",
       "      <td>M04</td>\n",
       "      <td>25801</td>\n",
       "      <td>None</td>\n",
       "      <td>April</td>\n",
       "      <td>1939</td>\n",
       "      <td>April 1939</td>\n",
       "    </tr>\n",
       "    <tr>\n",
       "      <th>12568</th>\n",
       "      <td>CEU0500000001</td>\n",
       "      <td>1939</td>\n",
       "      <td>M05</td>\n",
       "      <td>26113</td>\n",
       "      <td>None</td>\n",
       "      <td>May</td>\n",
       "      <td>1939</td>\n",
       "      <td>May 1939</td>\n",
       "    </tr>\n",
       "  </tbody>\n",
       "</table>\n",
       "</div>"
      ],
      "text/plain": [
       "           series_id  year period  valueInThousands footnote_codes     month  \\\n",
       "12564  CEU0500000001  1939    M01             25338           None   January   \n",
       "12565  CEU0500000001  1939    M02             25447           None  February   \n",
       "12566  CEU0500000001  1939    M03             25833           None     March   \n",
       "12567  CEU0500000001  1939    M04             25801           None     April   \n",
       "12568  CEU0500000001  1939    M05             26113           None       May   \n",
       "\n",
       "      year_str           date  \n",
       "12564     1939   January 1939  \n",
       "12565     1939  February 1939  \n",
       "12566     1939     March 1939  \n",
       "12567     1939     April 1939  \n",
       "12568     1939       May 1939  "
      ]
     },
     "execution_count": 52,
     "metadata": {},
     "output_type": "execute_result"
    }
   ],
   "source": [
    "df_pro_sup.head()"
   ]
  },
  {
   "cell_type": "code",
   "execution_count": null,
   "id": "2749c6d2-c777-4350-b731-381fc6278575",
   "metadata": {},
   "outputs": [],
   "source": []
  }
 ],
 "metadata": {
  "kernelspec": {
   "display_name": "Python 3",
   "language": "python",
   "name": "python3"
  },
  "language_info": {
   "codemirror_mode": {
    "name": "ipython",
    "version": 3
   },
   "file_extension": ".py",
   "mimetype": "text/x-python",
   "name": "python",
   "nbconvert_exporter": "python",
   "pygments_lexer": "ipython3",
   "version": "3.7.9"
  }
 },
 "nbformat": 4,
 "nbformat_minor": 5
}
