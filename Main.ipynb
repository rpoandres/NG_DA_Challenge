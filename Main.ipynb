{
 "cells": [
  {
   "cell_type": "markdown",
   "id": "2bdf1fb1-ab78-4d07-99d5-c79de324273f",
   "metadata": {},
   "source": [
    "# Data Analyst Challenge\n",
    "\n",
    "Author: Andres Restrepo"
   ]
  },
  {
   "cell_type": "markdown",
   "id": "b4a43d68-8b92-4ccd-bab5-7863aff43756",
   "metadata": {},
   "source": [
    "## Libraries"
   ]
  },
  {
   "cell_type": "code",
   "execution_count": 2,
   "id": "bd2bebf5-7fa5-49b5-aeae-c5217a1a15d4",
   "metadata": {},
   "outputs": [],
   "source": [
    "#pip install psycopg2"
   ]
  },
  {
   "cell_type": "code",
   "execution_count": 3,
   "id": "9e85d18f-a8d1-46f9-91ae-7ba3129f3adc",
   "metadata": {},
   "outputs": [],
   "source": [
    "#pip install ydata-profiling"
   ]
  },
  {
   "cell_type": "code",
   "execution_count": 4,
   "id": "e48e693a-d90d-404b-9133-ef191c1724a0",
   "metadata": {},
   "outputs": [],
   "source": [
    "#pip install --upgrade ydata-profiling"
   ]
  },
  {
   "cell_type": "code",
   "execution_count": 5,
   "id": "babbb6dd-77fb-417b-8a6e-5afc69ab7c73",
   "metadata": {},
   "outputs": [],
   "source": [
    "#pip install wordcloud"
   ]
  },
  {
   "cell_type": "code",
   "execution_count": 6,
   "id": "c2c04189-399d-49d7-a2f3-9a2bcfb5aa8c",
   "metadata": {},
   "outputs": [],
   "source": [
    "#pip install matplotlib"
   ]
  },
  {
   "cell_type": "code",
   "execution_count": 7,
   "id": "7b8d3506-9b43-492e-b913-66054ec465ae",
   "metadata": {},
   "outputs": [],
   "source": [
    "#pip install --upgrade matplotlib"
   ]
  },
  {
   "cell_type": "code",
   "execution_count": 8,
   "id": "6fa2023a-05ce-4172-87f0-0ca4a447fcc0",
   "metadata": {},
   "outputs": [],
   "source": [
    "#pip show matplotlib"
   ]
  },
  {
   "cell_type": "code",
   "execution_count": 9,
   "id": "789d4b39-18cb-4ae2-a9aa-c82cbfe252e6",
   "metadata": {},
   "outputs": [],
   "source": [
    "#conda install --update matplotlib"
   ]
  },
  {
   "cell_type": "code",
   "execution_count": 10,
   "id": "285ac80b-38cd-4e18-bdb7-070323728199",
   "metadata": {},
   "outputs": [],
   "source": [
    "#conda update --all"
   ]
  },
  {
   "cell_type": "code",
   "execution_count": 11,
   "id": "f660e547-e13d-4c64-a408-d3132fc4deef",
   "metadata": {},
   "outputs": [],
   "source": [
    "#pip install --upgrade pydantic"
   ]
  },
  {
   "cell_type": "code",
   "execution_count": 12,
   "id": "46a687ef-1d5f-4912-a306-0842a96feaae",
   "metadata": {},
   "outputs": [],
   "source": [
    "#pip install pydantic"
   ]
  },
  {
   "cell_type": "code",
   "execution_count": 13,
   "id": "d56185c5-eaf2-4a26-996e-cdb9960755e5",
   "metadata": {},
   "outputs": [],
   "source": [
    "#pip install pydantic-settings"
   ]
  },
  {
   "cell_type": "code",
   "execution_count": 14,
   "id": "ebcb3c4b-a9ed-4cba-9d3f-921293fbcb96",
   "metadata": {},
   "outputs": [],
   "source": [
    "#pip uninstall pydantic"
   ]
  },
  {
   "cell_type": "code",
   "execution_count": 15,
   "id": "01fceb93-5ab1-4940-83b7-ff81daeb3635",
   "metadata": {},
   "outputs": [],
   "source": [
    "#pip install ydata-profiling==4.0.0"
   ]
  },
  {
   "cell_type": "code",
   "execution_count": 16,
   "id": "5982a944-616e-42b8-a6ea-571801c1fa94",
   "metadata": {
    "tags": []
   },
   "outputs": [],
   "source": [
    "import psycopg2\n",
    "import pandas as pd\n",
    "#import pydantic\n",
    "#from pydantic.version import version_short\n",
    "#from pydantic_settings import BaseSettings\n",
    "#from ydata_profiling import ProfileReport\n",
    "#from pandas_profiling import ProfileReport\n",
    "#from wordcloud import WordCloud\n",
    "import matplotlib\n",
    "import matplotlib.pyplot as plt"
   ]
  },
  {
   "cell_type": "code",
   "execution_count": 17,
   "id": "8aaa8bf8-88cc-4e74-9fed-cc8684f96381",
   "metadata": {},
   "outputs": [],
   "source": [
    "# plt.rcParams['font.family'] = 'Arial'  # Specify the font family you want to use\n",
    "# matplotlib.use('Agg')  # Use the Agg backend (for PNGs)"
   ]
  },
  {
   "cell_type": "markdown",
   "id": "79b86910-06c7-4277-9452-9ed953b708d4",
   "metadata": {},
   "source": [
    "# Connecting to PostgreSQL"
   ]
  },
  {
   "cell_type": "code",
   "execution_count": 18,
   "id": "1d455e03-7dcf-495d-ba5f-fa5d56a7baac",
   "metadata": {},
   "outputs": [],
   "source": [
    "# Connection parameters\n",
    "hostname = 'localhost'\n",
    "username = 'postgres'\n",
    "password = 'Evolucion.2024'\n",
    "database = 'ces_usa'\n",
    "\n",
    "# Establish connection\n",
    "connection = psycopg2.connect(\n",
    "    host=hostname,\n",
    "    user=username,\n",
    "    password=password,\n",
    "    dbname=database\n",
    ")"
   ]
  },
  {
   "cell_type": "markdown",
   "id": "5baa40a1-21fb-4418-bb78-f8a24d79bf75",
   "metadata": {
    "tags": []
   },
   "source": [
    "## Reading Government data"
   ]
  },
  {
   "cell_type": "code",
   "execution_count": 19,
   "id": "4a5ba7cd-4dbe-44a0-bbe2-ec8345028e69",
   "metadata": {},
   "outputs": [],
   "source": [
    "# Define SQL query\n",
    "query_gov = \"SELECT * FROM nimble.ce_data_90a;\"\n",
    "\n",
    "# Execute query and fetch data into a pandas DataFrame\n",
    "df_gov = pd.read_sql_query(query_gov, connection)\n"
   ]
  },
  {
   "cell_type": "code",
   "execution_count": 20,
   "id": "d197d2d6-7a91-4bc3-84f3-0d24c8c8702f",
   "metadata": {},
   "outputs": [
    {
     "data": {
      "text/plain": [
       "series_id         object\n",
       "year               int64\n",
       "period            object\n",
       "value              int64\n",
       "footnote_codes    object\n",
       "dtype: object"
      ]
     },
     "execution_count": 20,
     "metadata": {},
     "output_type": "execute_result"
    }
   ],
   "source": [
    "df_gov.dtypes"
   ]
  },
  {
   "cell_type": "code",
   "execution_count": 21,
   "id": "0eda8e91-d9c6-4ff5-af51-9a072388bf89",
   "metadata": {},
   "outputs": [
    {
     "data": {
      "text/html": [
       "<div>\n",
       "<style scoped>\n",
       "    .dataframe tbody tr th:only-of-type {\n",
       "        vertical-align: middle;\n",
       "    }\n",
       "\n",
       "    .dataframe tbody tr th {\n",
       "        vertical-align: top;\n",
       "    }\n",
       "\n",
       "    .dataframe thead th {\n",
       "        text-align: right;\n",
       "    }\n",
       "</style>\n",
       "<table border=\"1\" class=\"dataframe\">\n",
       "  <thead>\n",
       "    <tr style=\"text-align: right;\">\n",
       "      <th></th>\n",
       "      <th>series_id</th>\n",
       "      <th>year</th>\n",
       "      <th>period</th>\n",
       "      <th>value</th>\n",
       "      <th>footnote_codes</th>\n",
       "    </tr>\n",
       "  </thead>\n",
       "  <tbody>\n",
       "    <tr>\n",
       "      <th>0</th>\n",
       "      <td>CES9000000001</td>\n",
       "      <td>1939</td>\n",
       "      <td>M01</td>\n",
       "      <td>3988</td>\n",
       "      <td>None</td>\n",
       "    </tr>\n",
       "    <tr>\n",
       "      <th>1</th>\n",
       "      <td>CES9000000001</td>\n",
       "      <td>1939</td>\n",
       "      <td>M02</td>\n",
       "      <td>4001</td>\n",
       "      <td>None</td>\n",
       "    </tr>\n",
       "    <tr>\n",
       "      <th>2</th>\n",
       "      <td>CES9000000001</td>\n",
       "      <td>1939</td>\n",
       "      <td>M03</td>\n",
       "      <td>4002</td>\n",
       "      <td>None</td>\n",
       "    </tr>\n",
       "    <tr>\n",
       "      <th>3</th>\n",
       "      <td>CES9000000001</td>\n",
       "      <td>1939</td>\n",
       "      <td>M04</td>\n",
       "      <td>4002</td>\n",
       "      <td>None</td>\n",
       "    </tr>\n",
       "    <tr>\n",
       "      <th>4</th>\n",
       "      <td>CES9000000001</td>\n",
       "      <td>1939</td>\n",
       "      <td>M05</td>\n",
       "      <td>4006</td>\n",
       "      <td>None</td>\n",
       "    </tr>\n",
       "    <tr>\n",
       "      <th>5</th>\n",
       "      <td>CES9000000001</td>\n",
       "      <td>1939</td>\n",
       "      <td>M06</td>\n",
       "      <td>4003</td>\n",
       "      <td>None</td>\n",
       "    </tr>\n",
       "    <tr>\n",
       "      <th>6</th>\n",
       "      <td>CES9000000001</td>\n",
       "      <td>1939</td>\n",
       "      <td>M07</td>\n",
       "      <td>4019</td>\n",
       "      <td>None</td>\n",
       "    </tr>\n",
       "    <tr>\n",
       "      <th>7</th>\n",
       "      <td>CES9000000001</td>\n",
       "      <td>1939</td>\n",
       "      <td>M08</td>\n",
       "      <td>4046</td>\n",
       "      <td>None</td>\n",
       "    </tr>\n",
       "    <tr>\n",
       "      <th>8</th>\n",
       "      <td>CES9000000001</td>\n",
       "      <td>1939</td>\n",
       "      <td>M09</td>\n",
       "      <td>4076</td>\n",
       "      <td>None</td>\n",
       "    </tr>\n",
       "    <tr>\n",
       "      <th>9</th>\n",
       "      <td>CES9000000001</td>\n",
       "      <td>1939</td>\n",
       "      <td>M10</td>\n",
       "      <td>4089</td>\n",
       "      <td>None</td>\n",
       "    </tr>\n",
       "    <tr>\n",
       "      <th>10</th>\n",
       "      <td>CES9000000001</td>\n",
       "      <td>1939</td>\n",
       "      <td>M11</td>\n",
       "      <td>4109</td>\n",
       "      <td>None</td>\n",
       "    </tr>\n",
       "    <tr>\n",
       "      <th>11</th>\n",
       "      <td>CES9000000001</td>\n",
       "      <td>1939</td>\n",
       "      <td>M12</td>\n",
       "      <td>4134</td>\n",
       "      <td>None</td>\n",
       "    </tr>\n",
       "    <tr>\n",
       "      <th>12</th>\n",
       "      <td>CES9000000001</td>\n",
       "      <td>1940</td>\n",
       "      <td>M01</td>\n",
       "      <td>4150</td>\n",
       "      <td>None</td>\n",
       "    </tr>\n",
       "    <tr>\n",
       "      <th>13</th>\n",
       "      <td>CES9000000001</td>\n",
       "      <td>1940</td>\n",
       "      <td>M02</td>\n",
       "      <td>4150</td>\n",
       "      <td>None</td>\n",
       "    </tr>\n",
       "    <tr>\n",
       "      <th>14</th>\n",
       "      <td>CES9000000001</td>\n",
       "      <td>1940</td>\n",
       "      <td>M03</td>\n",
       "      <td>4151</td>\n",
       "      <td>None</td>\n",
       "    </tr>\n",
       "  </tbody>\n",
       "</table>\n",
       "</div>"
      ],
      "text/plain": [
       "            series_id  year period  value footnote_codes\n",
       "0   CES9000000001      1939    M01   3988           None\n",
       "1   CES9000000001      1939    M02   4001           None\n",
       "2   CES9000000001      1939    M03   4002           None\n",
       "3   CES9000000001      1939    M04   4002           None\n",
       "4   CES9000000001      1939    M05   4006           None\n",
       "5   CES9000000001      1939    M06   4003           None\n",
       "6   CES9000000001      1939    M07   4019           None\n",
       "7   CES9000000001      1939    M08   4046           None\n",
       "8   CES9000000001      1939    M09   4076           None\n",
       "9   CES9000000001      1939    M10   4089           None\n",
       "10  CES9000000001      1939    M11   4109           None\n",
       "11  CES9000000001      1939    M12   4134           None\n",
       "12  CES9000000001      1940    M01   4150           None\n",
       "13  CES9000000001      1940    M02   4150           None\n",
       "14  CES9000000001      1940    M03   4151           None"
      ]
     },
     "execution_count": 21,
     "metadata": {},
     "output_type": "execute_result"
    }
   ],
   "source": [
    "df_gov.head(15)"
   ]
  },
  {
   "cell_type": "code",
   "execution_count": 22,
   "id": "2097010d-01e1-4f05-a156-d379b21b3ac3",
   "metadata": {},
   "outputs": [
    {
     "data": {
      "text/html": [
       "<div>\n",
       "<style scoped>\n",
       "    .dataframe tbody tr th:only-of-type {\n",
       "        vertical-align: middle;\n",
       "    }\n",
       "\n",
       "    .dataframe tbody tr th {\n",
       "        vertical-align: top;\n",
       "    }\n",
       "\n",
       "    .dataframe thead th {\n",
       "        text-align: right;\n",
       "    }\n",
       "</style>\n",
       "<table border=\"1\" class=\"dataframe\">\n",
       "  <thead>\n",
       "    <tr style=\"text-align: right;\">\n",
       "      <th></th>\n",
       "      <th>series_id</th>\n",
       "      <th>year</th>\n",
       "      <th>period</th>\n",
       "      <th>value</th>\n",
       "      <th>footnote_codes</th>\n",
       "    </tr>\n",
       "  </thead>\n",
       "  <tbody>\n",
       "    <tr>\n",
       "      <th>58434</th>\n",
       "      <td>CEU9093299910</td>\n",
       "      <td>2023</td>\n",
       "      <td>M09</td>\n",
       "      <td>6222</td>\n",
       "      <td>None</td>\n",
       "    </tr>\n",
       "    <tr>\n",
       "      <th>58435</th>\n",
       "      <td>CEU9093299910</td>\n",
       "      <td>2023</td>\n",
       "      <td>M10</td>\n",
       "      <td>6196</td>\n",
       "      <td>None</td>\n",
       "    </tr>\n",
       "    <tr>\n",
       "      <th>58436</th>\n",
       "      <td>CEU9093299910</td>\n",
       "      <td>2023</td>\n",
       "      <td>M11</td>\n",
       "      <td>6190</td>\n",
       "      <td>None</td>\n",
       "    </tr>\n",
       "    <tr>\n",
       "      <th>58437</th>\n",
       "      <td>CEU9093299910</td>\n",
       "      <td>2023</td>\n",
       "      <td>M12</td>\n",
       "      <td>6207</td>\n",
       "      <td>P</td>\n",
       "    </tr>\n",
       "    <tr>\n",
       "      <th>58438</th>\n",
       "      <td>CEU9093299910</td>\n",
       "      <td>2023</td>\n",
       "      <td>M13</td>\n",
       "      <td>6214</td>\n",
       "      <td>P</td>\n",
       "    </tr>\n",
       "  </tbody>\n",
       "</table>\n",
       "</div>"
      ],
      "text/plain": [
       "               series_id  year period  value footnote_codes\n",
       "58434  CEU9093299910      2023    M09   6222           None\n",
       "58435  CEU9093299910      2023    M10   6196           None\n",
       "58436  CEU9093299910      2023    M11   6190           None\n",
       "58437  CEU9093299910      2023    M12   6207              P\n",
       "58438  CEU9093299910      2023    M13   6214              P"
      ]
     },
     "execution_count": 22,
     "metadata": {},
     "output_type": "execute_result"
    }
   ],
   "source": [
    "df_gov.tail()"
   ]
  },
  {
   "cell_type": "code",
   "execution_count": 23,
   "id": "f9a1a607-1e64-4dc3-b1f8-e02f98fbd90b",
   "metadata": {},
   "outputs": [],
   "source": [
    "#df_gov.columns"
   ]
  },
  {
   "cell_type": "code",
   "execution_count": 24,
   "id": "a5fb3842-3022-4ae6-831a-b37cfea844f0",
   "metadata": {},
   "outputs": [
    {
     "data": {
      "text/plain": [
       "array(['CES9000000001    ', 'CES9000000010    ', 'CES9091000001    ',\n",
       "       'CES9091000010    ', 'CES9091100001    ', 'CES9091100010    ',\n",
       "       'CES9091622001    ', 'CES9091622010    ', 'CES9091911001    ',\n",
       "       'CES9091911010    ', 'CES9091912001    ', 'CES9091912010    ',\n",
       "       'CES9091999901    ', 'CES9091999910    ', 'CES9092000001    ',\n",
       "       'CES9092000010    ', 'CES9092161101    ', 'CES9092161110    ',\n",
       "       'CES9092200001    ', 'CES9092200010    ', 'CES9092262201    ',\n",
       "       'CES9092262210    ', 'CES9092292001    ', 'CES9092292010    ',\n",
       "       'CES9092299901    ', 'CES9092299910    ', 'CES9093000001    ',\n",
       "       'CES9093000010    ', 'CES9093161101    ', 'CES9093161110    ',\n",
       "       'CES9093200001    ', 'CES9093200010    ', 'CES9093222101    ',\n",
       "       'CES9093222110    ', 'CES9093248001    ', 'CES9093248010    ',\n",
       "       'CES9093262201    ', 'CES9093262210    ', 'CES9093292001    ',\n",
       "       'CES9093292010    ', 'CES9093299901    ', 'CES9093299910    ',\n",
       "       'CEU9000000001    ', 'CEU9000000010    ', 'CEU9091000001    ',\n",
       "       'CEU9091000010    ', 'CEU9091100001    ', 'CEU9091100010    ',\n",
       "       'CEU9091622001    ', 'CEU9091622010    ', 'CEU9091911001    ',\n",
       "       'CEU9091911010    ', 'CEU9091912001    ', 'CEU9091912010    ',\n",
       "       'CEU9091999901    ', 'CEU9091999910    ', 'CEU9092000001    ',\n",
       "       'CEU9092000010    ', 'CEU9092161101    ', 'CEU9092161110    ',\n",
       "       'CEU9092200001    ', 'CEU9092200010    ', 'CEU9092262201    ',\n",
       "       'CEU9092262210    ', 'CEU9092292001    ', 'CEU9092292010    ',\n",
       "       'CEU9092299901    ', 'CEU9092299910    ', 'CEU9093000001    ',\n",
       "       'CEU9093000010    ', 'CEU9093161101    ', 'CEU9093161110    ',\n",
       "       'CEU9093200001    ', 'CEU9093200010    ', 'CEU9093222101    ',\n",
       "       'CEU9093222110    ', 'CEU9093248001    ', 'CEU9093248010    ',\n",
       "       'CEU9093262201    ', 'CEU9093262210    ', 'CEU9093292001    ',\n",
       "       'CEU9093292010    ', 'CEU9093299901    ', 'CEU9093299910    '],\n",
       "      dtype=object)"
      ]
     },
     "execution_count": 24,
     "metadata": {},
     "output_type": "execute_result"
    }
   ],
   "source": [
    "df_gov['series_id'].unique()"
   ]
  },
  {
   "cell_type": "markdown",
   "id": "a1715487-2ccc-4bc2-ace6-74b0042e8c40",
   "metadata": {},
   "source": [
    "__There were blank spaces in series_id__"
   ]
  },
  {
   "cell_type": "markdown",
   "id": "e37d2ede-6749-43ee-98af-dc3648fc9e5d",
   "metadata": {
    "tags": []
   },
   "source": [
    "### Data cleaning"
   ]
  },
  {
   "cell_type": "markdown",
   "id": "03b2ead1-65bf-435c-bc9c-6edebe9a1097",
   "metadata": {},
   "source": [
    "#### Series id"
   ]
  },
  {
   "cell_type": "code",
   "execution_count": 25,
   "id": "10b34b20-2e79-408f-9723-c084891c4f64",
   "metadata": {},
   "outputs": [],
   "source": [
    "df_gov['series_id'] = df_gov['series_id'].str.strip()"
   ]
  },
  {
   "cell_type": "code",
   "execution_count": 26,
   "id": "8a43da32-74c3-49be-96ea-b4aae0c11169",
   "metadata": {},
   "outputs": [
    {
     "data": {
      "text/plain": [
       "array(['CES9000000001', 'CES9000000010', 'CES9091000001', 'CES9091000010',\n",
       "       'CES9091100001', 'CES9091100010', 'CES9091622001', 'CES9091622010',\n",
       "       'CES9091911001', 'CES9091911010', 'CES9091912001', 'CES9091912010',\n",
       "       'CES9091999901', 'CES9091999910', 'CES9092000001', 'CES9092000010',\n",
       "       'CES9092161101', 'CES9092161110', 'CES9092200001', 'CES9092200010',\n",
       "       'CES9092262201', 'CES9092262210', 'CES9092292001', 'CES9092292010',\n",
       "       'CES9092299901', 'CES9092299910', 'CES9093000001', 'CES9093000010',\n",
       "       'CES9093161101', 'CES9093161110', 'CES9093200001', 'CES9093200010',\n",
       "       'CES9093222101', 'CES9093222110', 'CES9093248001', 'CES9093248010',\n",
       "       'CES9093262201', 'CES9093262210', 'CES9093292001', 'CES9093292010',\n",
       "       'CES9093299901', 'CES9093299910', 'CEU9000000001', 'CEU9000000010',\n",
       "       'CEU9091000001', 'CEU9091000010', 'CEU9091100001', 'CEU9091100010',\n",
       "       'CEU9091622001', 'CEU9091622010', 'CEU9091911001', 'CEU9091911010',\n",
       "       'CEU9091912001', 'CEU9091912010', 'CEU9091999901', 'CEU9091999910',\n",
       "       'CEU9092000001', 'CEU9092000010', 'CEU9092161101', 'CEU9092161110',\n",
       "       'CEU9092200001', 'CEU9092200010', 'CEU9092262201', 'CEU9092262210',\n",
       "       'CEU9092292001', 'CEU9092292010', 'CEU9092299901', 'CEU9092299910',\n",
       "       'CEU9093000001', 'CEU9093000010', 'CEU9093161101', 'CEU9093161110',\n",
       "       'CEU9093200001', 'CEU9093200010', 'CEU9093222101', 'CEU9093222110',\n",
       "       'CEU9093248001', 'CEU9093248010', 'CEU9093262201', 'CEU9093262210',\n",
       "       'CEU9093292001', 'CEU9093292010', 'CEU9093299901', 'CEU9093299910'],\n",
       "      dtype=object)"
      ]
     },
     "execution_count": 26,
     "metadata": {},
     "output_type": "execute_result"
    }
   ],
   "source": [
    "df_gov['series_id'].unique()"
   ]
  },
  {
   "cell_type": "code",
   "execution_count": 27,
   "id": "545ac6b5-9bff-4998-b5ce-158f5b7ea833",
   "metadata": {},
   "outputs": [],
   "source": [
    "### Data profiling (Not working)"
   ]
  },
  {
   "cell_type": "code",
   "execution_count": 28,
   "id": "75cf91e3-cf34-4476-a2e5-a905372ad2a5",
   "metadata": {},
   "outputs": [],
   "source": [
    "# profile_df_gov = ProfileReport(df_gov, title=\"Profiling Report df_gov\")\n",
    "# #profile_df_gov.to_file(\"Profiling Report df_gov.html\")\n",
    "# profile_df_gov.to_notebook_iframe()"
   ]
  },
  {
   "cell_type": "markdown",
   "id": "b30d83b6-05a1-46ac-8cef-6057e62e72e9",
   "metadata": {},
   "source": [
    "#### Period"
   ]
  },
  {
   "cell_type": "code",
   "execution_count": 31,
   "id": "26a59c21-25b3-445a-821f-400ea86ef28c",
   "metadata": {},
   "outputs": [
    {
     "data": {
      "text/html": [
       "<div>\n",
       "<style scoped>\n",
       "    .dataframe tbody tr th:only-of-type {\n",
       "        vertical-align: middle;\n",
       "    }\n",
       "\n",
       "    .dataframe tbody tr th {\n",
       "        vertical-align: top;\n",
       "    }\n",
       "\n",
       "    .dataframe thead th {\n",
       "        text-align: right;\n",
       "    }\n",
       "</style>\n",
       "<table border=\"1\" class=\"dataframe\">\n",
       "  <thead>\n",
       "    <tr style=\"text-align: right;\">\n",
       "      <th></th>\n",
       "      <th>series_id</th>\n",
       "      <th>year</th>\n",
       "      <th>period</th>\n",
       "      <th>value</th>\n",
       "      <th>footnote_codes</th>\n",
       "    </tr>\n",
       "  </thead>\n",
       "  <tbody>\n",
       "    <tr>\n",
       "      <th>28065</th>\n",
       "      <td>CEU9000000001</td>\n",
       "      <td>1939</td>\n",
       "      <td>M13</td>\n",
       "      <td>4040</td>\n",
       "      <td>None</td>\n",
       "    </tr>\n",
       "    <tr>\n",
       "      <th>28078</th>\n",
       "      <td>CEU9000000001</td>\n",
       "      <td>1940</td>\n",
       "      <td>M13</td>\n",
       "      <td>4251</td>\n",
       "      <td>None</td>\n",
       "    </tr>\n",
       "    <tr>\n",
       "      <th>28091</th>\n",
       "      <td>CEU9000000001</td>\n",
       "      <td>1941</td>\n",
       "      <td>M13</td>\n",
       "      <td>4726</td>\n",
       "      <td>None</td>\n",
       "    </tr>\n",
       "    <tr>\n",
       "      <th>28104</th>\n",
       "      <td>CEU9000000001</td>\n",
       "      <td>1942</td>\n",
       "      <td>M13</td>\n",
       "      <td>5592</td>\n",
       "      <td>None</td>\n",
       "    </tr>\n",
       "    <tr>\n",
       "      <th>28117</th>\n",
       "      <td>CEU9000000001</td>\n",
       "      <td>1943</td>\n",
       "      <td>M13</td>\n",
       "      <td>6222</td>\n",
       "      <td>None</td>\n",
       "    </tr>\n",
       "    <tr>\n",
       "      <th>...</th>\n",
       "      <td>...</td>\n",
       "      <td>...</td>\n",
       "      <td>...</td>\n",
       "      <td>...</td>\n",
       "      <td>...</td>\n",
       "    </tr>\n",
       "    <tr>\n",
       "      <th>58386</th>\n",
       "      <td>CEU9093299910</td>\n",
       "      <td>2019</td>\n",
       "      <td>M13</td>\n",
       "      <td>6312</td>\n",
       "      <td>None</td>\n",
       "    </tr>\n",
       "    <tr>\n",
       "      <th>58399</th>\n",
       "      <td>CEU9093299910</td>\n",
       "      <td>2020</td>\n",
       "      <td>M13</td>\n",
       "      <td>5635</td>\n",
       "      <td>None</td>\n",
       "    </tr>\n",
       "    <tr>\n",
       "      <th>58412</th>\n",
       "      <td>CEU9093299910</td>\n",
       "      <td>2021</td>\n",
       "      <td>M13</td>\n",
       "      <td>5670</td>\n",
       "      <td>None</td>\n",
       "    </tr>\n",
       "    <tr>\n",
       "      <th>58425</th>\n",
       "      <td>CEU9093299910</td>\n",
       "      <td>2022</td>\n",
       "      <td>M13</td>\n",
       "      <td>5960</td>\n",
       "      <td>None</td>\n",
       "    </tr>\n",
       "    <tr>\n",
       "      <th>58438</th>\n",
       "      <td>CEU9093299910</td>\n",
       "      <td>2023</td>\n",
       "      <td>M13</td>\n",
       "      <td>6214</td>\n",
       "      <td>P</td>\n",
       "    </tr>\n",
       "  </tbody>\n",
       "</table>\n",
       "<p>2335 rows × 5 columns</p>\n",
       "</div>"
      ],
      "text/plain": [
       "           series_id  year period  value footnote_codes\n",
       "28065  CEU9000000001  1939    M13   4040           None\n",
       "28078  CEU9000000001  1940    M13   4251           None\n",
       "28091  CEU9000000001  1941    M13   4726           None\n",
       "28104  CEU9000000001  1942    M13   5592           None\n",
       "28117  CEU9000000001  1943    M13   6222           None\n",
       "...              ...   ...    ...    ...            ...\n",
       "58386  CEU9093299910  2019    M13   6312           None\n",
       "58399  CEU9093299910  2020    M13   5635           None\n",
       "58412  CEU9093299910  2021    M13   5670           None\n",
       "58425  CEU9093299910  2022    M13   5960           None\n",
       "58438  CEU9093299910  2023    M13   6214              P\n",
       "\n",
       "[2335 rows x 5 columns]"
      ]
     },
     "execution_count": 31,
     "metadata": {},
     "output_type": "execute_result"
    }
   ],
   "source": [
    "# Month column\n",
    "df_gov[df_gov['period']==\"M13\"]"
   ]
  },
  {
   "cell_type": "markdown",
   "id": "d3547b80-6748-467a-8820-2d5aef4f2504",
   "metadata": {},
   "source": [
    "__There are record with a 13th month with represent the anual average.__"
   ]
  },
  {
   "cell_type": "code",
   "execution_count": 33,
   "id": "856bfd27-8b17-4cd5-812a-4cc7906b4c75",
   "metadata": {},
   "outputs": [],
   "source": [
    "# Dropring annual average\n",
    "df_gov = df_gov.drop(df_gov[df_gov['period']==\"M13\"].index)"
   ]
  },
  {
   "cell_type": "code",
   "execution_count": 34,
   "id": "0ecea49c-7d46-47f0-9062-2e3bf43b3bae",
   "metadata": {},
   "outputs": [
    {
     "data": {
      "text/html": [
       "<div>\n",
       "<style scoped>\n",
       "    .dataframe tbody tr th:only-of-type {\n",
       "        vertical-align: middle;\n",
       "    }\n",
       "\n",
       "    .dataframe tbody tr th {\n",
       "        vertical-align: top;\n",
       "    }\n",
       "\n",
       "    .dataframe thead th {\n",
       "        text-align: right;\n",
       "    }\n",
       "</style>\n",
       "<table border=\"1\" class=\"dataframe\">\n",
       "  <thead>\n",
       "    <tr style=\"text-align: right;\">\n",
       "      <th></th>\n",
       "      <th>series_id</th>\n",
       "      <th>year</th>\n",
       "      <th>period</th>\n",
       "      <th>value</th>\n",
       "      <th>footnote_codes</th>\n",
       "    </tr>\n",
       "  </thead>\n",
       "  <tbody>\n",
       "  </tbody>\n",
       "</table>\n",
       "</div>"
      ],
      "text/plain": [
       "Empty DataFrame\n",
       "Columns: [series_id, year, period, value, footnote_codes]\n",
       "Index: []"
      ]
     },
     "execution_count": 34,
     "metadata": {},
     "output_type": "execute_result"
    }
   ],
   "source": [
    "df_gov[df_gov['period']==\"M13\"]"
   ]
  },
  {
   "cell_type": "markdown",
   "id": "66916eec-b22b-4f9c-9268-e864480e1ee0",
   "metadata": {},
   "source": [
    "### Subsetting"
   ]
  },
  {
   "cell_type": "code",
   "execution_count": null,
   "id": "c79bcd0d-2ed7-4d6a-a6b5-e1662b162af1",
   "metadata": {},
   "outputs": [],
   "source": [
    "# Subsetting series of interest\n",
    "# CEU9000000001: All employees, thousands, government, not seasonally adjusted\n",
    "# CEU9000000010: Women employees, thousands, government, not seasonally adjusted\n",
    "gov_series = (\"CEU9000000001\",\"CEU9000000010\")\n",
    "# df_gov_sub = df_gov[(df_gov.series_id == \"CEU9000000001\")]\n",
    "df_gov_sub = df_gov[df_gov['series_id'].isin(gov_series)]"
   ]
  },
  {
   "cell_type": "code",
   "execution_count": null,
   "id": "2ff3cc5a-d120-48d6-afb4-896b441ea2c3",
   "metadata": {},
   "outputs": [],
   "source": [
    "df_gov_sub.head"
   ]
  },
  {
   "cell_type": "code",
   "execution_count": null,
   "id": "0df9bb83-28cc-47f8-b004-3c0bf0f08d86",
   "metadata": {
    "tags": []
   },
   "outputs": [],
   "source": [
    "df_gov_sub['series_id'].unique()"
   ]
  },
  {
   "cell_type": "markdown",
   "id": "83bb97b9-68f9-42bd-904c-3de46309cd46",
   "metadata": {},
   "source": [
    "## Reading production employees data"
   ]
  },
  {
   "cell_type": "code",
   "execution_count": 36,
   "id": "56642644-f727-4ba8-9a7b-4a4d99315549",
   "metadata": {},
   "outputs": [],
   "source": [
    "# Define SQL query\n",
    "query_pro_sup = \"SELECT * FROM nimble.ce_data_05a;\"\n",
    "\n",
    "# Execute query and fetch data into a pandas DataFrame\n",
    "df_pro_sup = pd.read_sql_query(query_pro_sup, connection)\n"
   ]
  },
  {
   "cell_type": "code",
   "execution_count": 37,
   "id": "097612e9-060b-42a8-b3bb-dcaa1b9584ca",
   "metadata": {},
   "outputs": [
    {
     "data": {
      "text/html": [
       "<div>\n",
       "<style scoped>\n",
       "    .dataframe tbody tr th:only-of-type {\n",
       "        vertical-align: middle;\n",
       "    }\n",
       "\n",
       "    .dataframe tbody tr th {\n",
       "        vertical-align: top;\n",
       "    }\n",
       "\n",
       "    .dataframe thead th {\n",
       "        text-align: right;\n",
       "    }\n",
       "</style>\n",
       "<table border=\"1\" class=\"dataframe\">\n",
       "  <thead>\n",
       "    <tr style=\"text-align: right;\">\n",
       "      <th></th>\n",
       "      <th>series_id</th>\n",
       "      <th>year</th>\n",
       "      <th>period</th>\n",
       "      <th>value</th>\n",
       "      <th>footnote_codes</th>\n",
       "    </tr>\n",
       "  </thead>\n",
       "  <tbody>\n",
       "    <tr>\n",
       "      <th>0</th>\n",
       "      <td>CES0500000001</td>\n",
       "      <td>1939</td>\n",
       "      <td>M01</td>\n",
       "      <td>25935</td>\n",
       "      <td>None</td>\n",
       "    </tr>\n",
       "    <tr>\n",
       "      <th>1</th>\n",
       "      <td>CES0500000001</td>\n",
       "      <td>1939</td>\n",
       "      <td>M02</td>\n",
       "      <td>26099</td>\n",
       "      <td>None</td>\n",
       "    </tr>\n",
       "    <tr>\n",
       "      <th>2</th>\n",
       "      <td>CES0500000001</td>\n",
       "      <td>1939</td>\n",
       "      <td>M03</td>\n",
       "      <td>26278</td>\n",
       "      <td>None</td>\n",
       "    </tr>\n",
       "    <tr>\n",
       "      <th>3</th>\n",
       "      <td>CES0500000001</td>\n",
       "      <td>1939</td>\n",
       "      <td>M04</td>\n",
       "      <td>26092</td>\n",
       "      <td>None</td>\n",
       "    </tr>\n",
       "    <tr>\n",
       "      <th>4</th>\n",
       "      <td>CES0500000001</td>\n",
       "      <td>1939</td>\n",
       "      <td>M05</td>\n",
       "      <td>26293</td>\n",
       "      <td>None</td>\n",
       "    </tr>\n",
       "  </tbody>\n",
       "</table>\n",
       "</div>"
      ],
      "text/plain": [
       "           series_id  year period  value footnote_codes\n",
       "0  CES0500000001      1939    M01  25935           None\n",
       "1  CES0500000001      1939    M02  26099           None\n",
       "2  CES0500000001      1939    M03  26278           None\n",
       "3  CES0500000001      1939    M04  26092           None\n",
       "4  CES0500000001      1939    M05  26293           None"
      ]
     },
     "execution_count": 37,
     "metadata": {},
     "output_type": "execute_result"
    }
   ],
   "source": [
    "df_pro_sup.head()"
   ]
  },
  {
   "cell_type": "code",
   "execution_count": 38,
   "id": "17eba6ee-9e16-4887-b92d-81777bd7d6ce",
   "metadata": {},
   "outputs": [
    {
     "data": {
      "text/html": [
       "<div>\n",
       "<style scoped>\n",
       "    .dataframe tbody tr th:only-of-type {\n",
       "        vertical-align: middle;\n",
       "    }\n",
       "\n",
       "    .dataframe tbody tr th {\n",
       "        vertical-align: top;\n",
       "    }\n",
       "\n",
       "    .dataframe thead th {\n",
       "        text-align: right;\n",
       "    }\n",
       "</style>\n",
       "<table border=\"1\" class=\"dataframe\">\n",
       "  <thead>\n",
       "    <tr style=\"text-align: right;\">\n",
       "      <th></th>\n",
       "      <th>series_id</th>\n",
       "      <th>year</th>\n",
       "      <th>period</th>\n",
       "      <th>value</th>\n",
       "      <th>footnote_codes</th>\n",
       "    </tr>\n",
       "  </thead>\n",
       "  <tbody>\n",
       "    <tr>\n",
       "      <th>23068</th>\n",
       "      <td>CEU0800000010</td>\n",
       "      <td>2023</td>\n",
       "      <td>M10</td>\n",
       "      <td>60027</td>\n",
       "      <td>None</td>\n",
       "    </tr>\n",
       "    <tr>\n",
       "      <th>23069</th>\n",
       "      <td>CEU0800000010</td>\n",
       "      <td>2023</td>\n",
       "      <td>M11</td>\n",
       "      <td>60282</td>\n",
       "      <td>None</td>\n",
       "    </tr>\n",
       "    <tr>\n",
       "      <th>23070</th>\n",
       "      <td>CEU0800000010</td>\n",
       "      <td>2023</td>\n",
       "      <td>M12</td>\n",
       "      <td>60354</td>\n",
       "      <td>P</td>\n",
       "    </tr>\n",
       "    <tr>\n",
       "      <th>23071</th>\n",
       "      <td>CEU0800000010</td>\n",
       "      <td>2023</td>\n",
       "      <td>M13</td>\n",
       "      <td>59464</td>\n",
       "      <td>P</td>\n",
       "    </tr>\n",
       "    <tr>\n",
       "      <th>23072</th>\n",
       "      <td>CEU0800000010</td>\n",
       "      <td>2024</td>\n",
       "      <td>M01</td>\n",
       "      <td>59435</td>\n",
       "      <td>P</td>\n",
       "    </tr>\n",
       "  </tbody>\n",
       "</table>\n",
       "</div>"
      ],
      "text/plain": [
       "               series_id  year period  value footnote_codes\n",
       "23068  CEU0800000010      2023    M10  60027           None\n",
       "23069  CEU0800000010      2023    M11  60282           None\n",
       "23070  CEU0800000010      2023    M12  60354              P\n",
       "23071  CEU0800000010      2023    M13  59464              P\n",
       "23072  CEU0800000010      2024    M01  59435              P"
      ]
     },
     "execution_count": 38,
     "metadata": {},
     "output_type": "execute_result"
    }
   ],
   "source": [
    "df_pro_sup.tail()"
   ]
  },
  {
   "cell_type": "code",
   "execution_count": 39,
   "id": "51ee7c79-6511-432a-bec2-e37499a0a889",
   "metadata": {},
   "outputs": [
    {
     "data": {
      "text/plain": [
       "array(['CES0500000001    ', 'CES0500000006    ', 'CES0500000010    ',\n",
       "       'CES0500000021    ', 'CES0500000022    ', 'CES0500000023    ',\n",
       "       'CES0500000025    ', 'CES0500000026    ', 'CES0600000001    ',\n",
       "       'CES0600000006    ', 'CES0600000010    ', 'CES0600000025    ',\n",
       "       'CES0700000001    ', 'CES0700000010    ', 'CES0700000025    ',\n",
       "       'CES0800000001    ', 'CES0800000006    ', 'CES0800000010    ',\n",
       "       'CEU0500000001    ', 'CEU0500000006    ', 'CEU0500000010    ',\n",
       "       'CEU0500000024    ', 'CEU0600000001    ', 'CEU0600000006    ',\n",
       "       'CEU0600000010    ', 'CEU0700000001    ', 'CEU0700000010    ',\n",
       "       'CEU0800000001    ', 'CEU0800000006    ', 'CEU0800000010    '],\n",
       "      dtype=object)"
      ]
     },
     "execution_count": 39,
     "metadata": {},
     "output_type": "execute_result"
    }
   ],
   "source": [
    "df_pro_sup['series_id'].unique()"
   ]
  },
  {
   "cell_type": "markdown",
   "id": "935e87ef-9e7d-48b2-a813-fc939b4857c7",
   "metadata": {},
   "source": [
    "__There were blank spaces in series_id__"
   ]
  },
  {
   "cell_type": "markdown",
   "id": "ffa7718d-b0e6-4c8e-b1ed-8fd7148b8860",
   "metadata": {},
   "source": [
    "### Data cleaning"
   ]
  },
  {
   "cell_type": "markdown",
   "id": "60da328b-7c1f-4ffd-9a6d-ce717d69af63",
   "metadata": {},
   "source": [
    "#### Series id"
   ]
  },
  {
   "cell_type": "code",
   "execution_count": 40,
   "id": "a998013a-0590-4f25-bc9b-918ac3b819f9",
   "metadata": {},
   "outputs": [],
   "source": [
    "df_pro_sup['series_id'] = df_pro_sup['series_id'].str.strip()"
   ]
  },
  {
   "cell_type": "code",
   "execution_count": 41,
   "id": "8467853f-fb70-4019-ab63-a8c994a010f1",
   "metadata": {},
   "outputs": [
    {
     "data": {
      "text/plain": [
       "array(['CES0500000001', 'CES0500000006', 'CES0500000010', 'CES0500000021',\n",
       "       'CES0500000022', 'CES0500000023', 'CES0500000025', 'CES0500000026',\n",
       "       'CES0600000001', 'CES0600000006', 'CES0600000010', 'CES0600000025',\n",
       "       'CES0700000001', 'CES0700000010', 'CES0700000025', 'CES0800000001',\n",
       "       'CES0800000006', 'CES0800000010', 'CEU0500000001', 'CEU0500000006',\n",
       "       'CEU0500000010', 'CEU0500000024', 'CEU0600000001', 'CEU0600000006',\n",
       "       'CEU0600000010', 'CEU0700000001', 'CEU0700000010', 'CEU0800000001',\n",
       "       'CEU0800000006', 'CEU0800000010'], dtype=object)"
      ]
     },
     "execution_count": 41,
     "metadata": {},
     "output_type": "execute_result"
    }
   ],
   "source": [
    "df_pro_sup['series_id'].unique()"
   ]
  },
  {
   "cell_type": "markdown",
   "id": "49409d6f-f04a-4d82-830d-cac876ae0203",
   "metadata": {},
   "source": [
    "#### Period"
   ]
  },
  {
   "cell_type": "code",
   "execution_count": 42,
   "id": "f7ff660c-c2ec-4dc0-ae4a-ee2ce321bdb1",
   "metadata": {},
   "outputs": [
    {
     "data": {
      "text/html": [
       "<div>\n",
       "<style scoped>\n",
       "    .dataframe tbody tr th:only-of-type {\n",
       "        vertical-align: middle;\n",
       "    }\n",
       "\n",
       "    .dataframe tbody tr th {\n",
       "        vertical-align: top;\n",
       "    }\n",
       "\n",
       "    .dataframe thead th {\n",
       "        text-align: right;\n",
       "    }\n",
       "</style>\n",
       "<table border=\"1\" class=\"dataframe\">\n",
       "  <thead>\n",
       "    <tr style=\"text-align: right;\">\n",
       "      <th></th>\n",
       "      <th>series_id</th>\n",
       "      <th>year</th>\n",
       "      <th>period</th>\n",
       "      <th>value</th>\n",
       "      <th>footnote_codes</th>\n",
       "    </tr>\n",
       "  </thead>\n",
       "  <tbody>\n",
       "    <tr>\n",
       "      <th>12576</th>\n",
       "      <td>CEU0500000001</td>\n",
       "      <td>1939</td>\n",
       "      <td>M13</td>\n",
       "      <td>26606</td>\n",
       "      <td>None</td>\n",
       "    </tr>\n",
       "    <tr>\n",
       "      <th>12589</th>\n",
       "      <td>CEU0500000001</td>\n",
       "      <td>1940</td>\n",
       "      <td>M13</td>\n",
       "      <td>28156</td>\n",
       "      <td>None</td>\n",
       "    </tr>\n",
       "    <tr>\n",
       "      <th>12602</th>\n",
       "      <td>CEU0500000001</td>\n",
       "      <td>1941</td>\n",
       "      <td>M13</td>\n",
       "      <td>31874</td>\n",
       "      <td>None</td>\n",
       "    </tr>\n",
       "    <tr>\n",
       "      <th>12615</th>\n",
       "      <td>CEU0500000001</td>\n",
       "      <td>1942</td>\n",
       "      <td>M13</td>\n",
       "      <td>34621</td>\n",
       "      <td>None</td>\n",
       "    </tr>\n",
       "    <tr>\n",
       "      <th>12628</th>\n",
       "      <td>CEU0500000001</td>\n",
       "      <td>1943</td>\n",
       "      <td>M13</td>\n",
       "      <td>36353</td>\n",
       "      <td>None</td>\n",
       "    </tr>\n",
       "    <tr>\n",
       "      <th>...</th>\n",
       "      <td>...</td>\n",
       "      <td>...</td>\n",
       "      <td>...</td>\n",
       "      <td>...</td>\n",
       "      <td>...</td>\n",
       "    </tr>\n",
       "    <tr>\n",
       "      <th>23019</th>\n",
       "      <td>CEU0800000010</td>\n",
       "      <td>2019</td>\n",
       "      <td>M13</td>\n",
       "      <td>57538</td>\n",
       "      <td>None</td>\n",
       "    </tr>\n",
       "    <tr>\n",
       "      <th>23032</th>\n",
       "      <td>CEU0800000010</td>\n",
       "      <td>2020</td>\n",
       "      <td>M13</td>\n",
       "      <td>53516</td>\n",
       "      <td>None</td>\n",
       "    </tr>\n",
       "    <tr>\n",
       "      <th>23045</th>\n",
       "      <td>CEU0800000010</td>\n",
       "      <td>2021</td>\n",
       "      <td>M13</td>\n",
       "      <td>55484</td>\n",
       "      <td>None</td>\n",
       "    </tr>\n",
       "    <tr>\n",
       "      <th>23058</th>\n",
       "      <td>CEU0800000010</td>\n",
       "      <td>2022</td>\n",
       "      <td>M13</td>\n",
       "      <td>58124</td>\n",
       "      <td>None</td>\n",
       "    </tr>\n",
       "    <tr>\n",
       "      <th>23071</th>\n",
       "      <td>CEU0800000010</td>\n",
       "      <td>2023</td>\n",
       "      <td>M13</td>\n",
       "      <td>59464</td>\n",
       "      <td>P</td>\n",
       "    </tr>\n",
       "  </tbody>\n",
       "</table>\n",
       "<p>777 rows × 5 columns</p>\n",
       "</div>"
      ],
      "text/plain": [
       "           series_id  year period  value footnote_codes\n",
       "12576  CEU0500000001  1939    M13  26606           None\n",
       "12589  CEU0500000001  1940    M13  28156           None\n",
       "12602  CEU0500000001  1941    M13  31874           None\n",
       "12615  CEU0500000001  1942    M13  34621           None\n",
       "12628  CEU0500000001  1943    M13  36353           None\n",
       "...              ...   ...    ...    ...            ...\n",
       "23019  CEU0800000010  2019    M13  57538           None\n",
       "23032  CEU0800000010  2020    M13  53516           None\n",
       "23045  CEU0800000010  2021    M13  55484           None\n",
       "23058  CEU0800000010  2022    M13  58124           None\n",
       "23071  CEU0800000010  2023    M13  59464              P\n",
       "\n",
       "[777 rows x 5 columns]"
      ]
     },
     "execution_count": 42,
     "metadata": {},
     "output_type": "execute_result"
    }
   ],
   "source": [
    "# Month column\n",
    "df_pro_sup[df_pro_sup['period']==\"M13\"]"
   ]
  },
  {
   "cell_type": "markdown",
   "id": "4e0a2d00-c29b-4616-acfe-90bc5433c3da",
   "metadata": {},
   "source": [
    "__There are record with a 13th month with represent the anual average.__"
   ]
  },
  {
   "cell_type": "code",
   "execution_count": 45,
   "id": "e1a4e4de-3b48-49ef-85fe-2dda88804061",
   "metadata": {},
   "outputs": [],
   "source": [
    "# Dropring annual average\n",
    "df_pro_sup = df_pro_sup.drop(df_pro_sup[df_pro_sup['period']==\"M13\"].index)"
   ]
  },
  {
   "cell_type": "code",
   "execution_count": 46,
   "id": "d21cc9e1-b6cd-4b85-8560-c1b7c9527024",
   "metadata": {},
   "outputs": [
    {
     "data": {
      "text/html": [
       "<div>\n",
       "<style scoped>\n",
       "    .dataframe tbody tr th:only-of-type {\n",
       "        vertical-align: middle;\n",
       "    }\n",
       "\n",
       "    .dataframe tbody tr th {\n",
       "        vertical-align: top;\n",
       "    }\n",
       "\n",
       "    .dataframe thead th {\n",
       "        text-align: right;\n",
       "    }\n",
       "</style>\n",
       "<table border=\"1\" class=\"dataframe\">\n",
       "  <thead>\n",
       "    <tr style=\"text-align: right;\">\n",
       "      <th></th>\n",
       "      <th>series_id</th>\n",
       "      <th>year</th>\n",
       "      <th>period</th>\n",
       "      <th>value</th>\n",
       "      <th>footnote_codes</th>\n",
       "    </tr>\n",
       "  </thead>\n",
       "  <tbody>\n",
       "  </tbody>\n",
       "</table>\n",
       "</div>"
      ],
      "text/plain": [
       "Empty DataFrame\n",
       "Columns: [series_id, year, period, value, footnote_codes]\n",
       "Index: []"
      ]
     },
     "execution_count": 46,
     "metadata": {},
     "output_type": "execute_result"
    }
   ],
   "source": [
    "df_pro_sup[df_pro_sup['period']==\"M13\"]"
   ]
  },
  {
   "cell_type": "markdown",
   "id": "3188c5e2-8398-46d5-817b-02ee251b11cf",
   "metadata": {},
   "source": [
    "### Subsetting"
   ]
  },
  {
   "cell_type": "code",
   "execution_count": null,
   "id": "caa3a819-7f45-4add-86d9-e42d6584ad65",
   "metadata": {},
   "outputs": [],
   "source": [
    "# Subsetting series of interest\n",
    "# CEU0500000006: Production and nonsupervisory employees, thousands, total private, not seasonally adjusted\n",
    "# CEU0500000001: All employees, thousands, total private, not seasonally adjusted\n",
    "pro_sup_series = (\"CEU0500000006\", \"CEU0500000001\")\n",
    "# df_pro_sup = df_pro_sup[(df_pro_sup.series_id == \"CEU0500000006\")]\n",
    "df_pro_sup = df_pro_sup[df_pro_sup['series_id'].isin(pro_sup_series)]"
   ]
  },
  {
   "cell_type": "code",
   "execution_count": null,
   "id": "459d0b0f-858a-40ea-91f1-64d5084ecfb2",
   "metadata": {},
   "outputs": [],
   "source": [
    "df_pro_sup.head"
   ]
  },
  {
   "cell_type": "code",
   "execution_count": null,
   "id": "87ad1fb5-3c48-40a8-849a-cd2907787c39",
   "metadata": {
    "tags": []
   },
   "outputs": [],
   "source": [
    "df_pro_sup['series_id'].unique()"
   ]
  },
  {
   "cell_type": "markdown",
   "id": "bf85ffc9-4066-422d-b7a7-d46fc4dba9df",
   "metadata": {},
   "source": [
    "# Transforming data"
   ]
  },
  {
   "cell_type": "markdown",
   "id": "a280f73b-54f9-4967-ab3a-b7c21c2d4adc",
   "metadata": {},
   "source": [
    "## Month"
   ]
  },
  {
   "cell_type": "code",
   "execution_count": null,
   "id": "a35e93ed-b584-49d6-9040-f7a47410a919",
   "metadata": {},
   "outputs": [],
   "source": [
    "# Month listing\n",
    "month_mapping = {\n",
    "    'M01': 'January',\n",
    "    'M02': 'February',\n",
    "    'M03': 'March',\n",
    "    'M04': 'April',\n",
    "    'M05': 'May',\n",
    "    'M06': 'June',\n",
    "    'M07': 'July',\n",
    "    'M08': 'August',\n",
    "    'M09': 'September',\n",
    "    'M10': 'October',\n",
    "    'M11': 'November',\n",
    "    'M12': 'December'\n",
    "}\n",
    "\n",
    "df_gov['month'] = df_gov['period'].map(month_mapping)\n",
    "df_pro_sup['month'] = df_pro_sup['period'].map(month_mapping)"
   ]
  },
  {
   "cell_type": "code",
   "execution_count": null,
   "id": "df790ed0-6448-4526-8504-1f6b7bca36fd",
   "metadata": {},
   "outputs": [],
   "source": [
    "df_gov.head()"
   ]
  },
  {
   "cell_type": "code",
   "execution_count": null,
   "id": "6dda319b-de86-452a-8c1d-75b84a99f830",
   "metadata": {},
   "outputs": [],
   "source": [
    "df_pro_sup.head()"
   ]
  },
  {
   "cell_type": "markdown",
   "id": "03be80ec-61b1-427c-a9b7-ca3e3707bf62",
   "metadata": {},
   "source": [
    "## Month year date column"
   ]
  },
  {
   "cell_type": "code",
   "execution_count": null,
   "id": "0dda3b82-5036-4d2f-86f7-23d9529a5503",
   "metadata": {},
   "outputs": [],
   "source": [
    "# String year column\n",
    "df_gov['year_str'] = df_gov['year'].astype(str)\n",
    "df_pro_sup['year_str'] = df_pro_sup['year'].astype(str)\n",
    "# Merging month and year columns\n",
    "df_gov['date'] = df_gov['month'] + ' ' + df_gov['year_str']\n",
    "df_pro_sup['date'] = df_pro_sup['month'] + ' ' + df_pro_sup['year_str']"
   ]
  },
  {
   "cell_type": "code",
   "execution_count": null,
   "id": "7008418c-6b33-4ad2-a7bc-89c1832c8280",
   "metadata": {},
   "outputs": [],
   "source": [
    "df_gov.head()"
   ]
  },
  {
   "cell_type": "code",
   "execution_count": null,
   "id": "d25c5c75-614c-42da-b625-5491fcfec284",
   "metadata": {},
   "outputs": [],
   "source": [
    "df_pro_sup.head()"
   ]
  },
  {
   "cell_type": "code",
   "execution_count": null,
   "id": "c90343db-6df0-43da-9a76-1ac956864099",
   "metadata": {},
   "outputs": [],
   "source": [
    "df_gov.tail()"
   ]
  },
  {
   "cell_type": "code",
   "execution_count": null,
   "id": "0e1c8a32-9369-4f99-9ea0-dad5dc4c394a",
   "metadata": {},
   "outputs": [],
   "source": [
    "df_pro_sup.tail()"
   ]
  },
  {
   "cell_type": "markdown",
   "id": "0ac51403-6ef9-410a-8e50-a04af8943eda",
   "metadata": {},
   "source": [
    "## Data frame by series"
   ]
  },
  {
   "cell_type": "markdown",
   "id": "72d9bae5-5997-4736-891a-97734372436a",
   "metadata": {},
   "source": [
    "### Government data"
   ]
  },
  {
   "cell_type": "code",
   "execution_count": null,
   "id": "0b392e07-2efd-4f1f-a654-0147d90593a9",
   "metadata": {},
   "outputs": [],
   "source": [
    "# CEU9000000010: Women employees, thousands, government, not seasonally adjusted\n",
    "df_gov_w = df_gov[(df_gov.series_id == \"CEU9000000010\")]\n",
    "# CEU9000000001: All employees, thousands, government, not seasonally adjusted\n",
    "df_gov_t = df_gov[(df_gov.series_id == \"CEU9000000001\")]"
   ]
  },
  {
   "cell_type": "code",
   "execution_count": null,
   "id": "195cebbf-114b-4352-9b80-69860a73e93c",
   "metadata": {},
   "outputs": [],
   "source": [
    "df_gov_w['series_id'].unique()"
   ]
  },
  {
   "cell_type": "code",
   "execution_count": null,
   "id": "2799f35b-a1da-42bf-ab41-c71df16bda16",
   "metadata": {},
   "outputs": [],
   "source": [
    "df_gov_t['series_id'].unique()"
   ]
  },
  {
   "cell_type": "code",
   "execution_count": null,
   "id": "558d13c8-ab1d-4c8c-86e6-ac1727379d6a",
   "metadata": {},
   "outputs": [],
   "source": [
    "# Column names\n",
    "df_gov_w = df_gov_w.rename(columns={'value': 'womenInThousands'})\n",
    "df_gov_t = df_gov_t.rename(columns={'value': 'totalInThousands'})"
   ]
  },
  {
   "cell_type": "code",
   "execution_count": null,
   "id": "7d8caffa-d383-4f29-ac7a-60156f4aefe4",
   "metadata": {},
   "outputs": [],
   "source": [
    "df_gov_w.head()"
   ]
  },
  {
   "cell_type": "code",
   "execution_count": null,
   "id": "39be89dd-c981-49ab-a2fd-909f6825b8b5",
   "metadata": {},
   "outputs": [],
   "source": [
    "# Merge series of government data\n",
    "df_gov_merge = pd.merge(df_gov_w[['date','womenInThousands']], df_gov_t[['date','totalInThousands']], on='date', how='left')"
   ]
  },
  {
   "cell_type": "code",
   "execution_count": null,
   "id": "9a240493-55ed-4a4b-be0c-2154e5659d9b",
   "metadata": {},
   "outputs": [],
   "source": [
    "df_gov_merge.head()"
   ]
  },
  {
   "cell_type": "code",
   "execution_count": null,
   "id": "df882b01-5a90-4909-92c0-1cc1e088e592",
   "metadata": {},
   "outputs": [],
   "source": [
    "# Women ratio in government\n",
    "df_gov_merge['wom_gov_ratio'] = round(df_gov_merge['womenInThousands']/df_gov_merge['totalInThousands'],2)"
   ]
  },
  {
   "cell_type": "code",
   "execution_count": null,
   "id": "d45f04d3-5acc-4c7a-a31a-13bc48ed7083",
   "metadata": {},
   "outputs": [],
   "source": [
    "df_gov_merge.head()"
   ]
  },
  {
   "cell_type": "code",
   "execution_count": null,
   "id": "ce732dbf-ab9b-405c-8031-efdc03a940af",
   "metadata": {},
   "outputs": [],
   "source": [
    "df_gov_merge.tail()"
   ]
  },
  {
   "cell_type": "markdown",
   "id": "0e742369-4201-43cc-beab-5c227a3516e3",
   "metadata": {},
   "source": [
    "### Production employees data"
   ]
  },
  {
   "cell_type": "code",
   "execution_count": null,
   "id": "3ab0e9c7-47b8-4bde-b79d-95a7006ec13d",
   "metadata": {},
   "outputs": [],
   "source": [
    "# CEU0500000006: Production and nonsupervisory employees, thousands, total private, not seasonally adjusted\n",
    "df_pro_sup_p = df_pro_sup[(df_pro_sup.series_id == \"CEU0500000006\")]\n",
    "# CEU0500000001: All employees, thousands, total private, not seasonally adjusted\n",
    "df_pro_sup_t = df_pro_sup[(df_pro_sup.series_id == \"CEU0500000001\")]"
   ]
  },
  {
   "cell_type": "code",
   "execution_count": null,
   "id": "3be6697b-12c2-4bca-940b-9df9a96343c9",
   "metadata": {},
   "outputs": [],
   "source": [
    "df_pro_sup_p['series_id'].unique()"
   ]
  },
  {
   "cell_type": "code",
   "execution_count": null,
   "id": "ae0ca9f3-2eb9-4485-bdd0-951c3e6e50f3",
   "metadata": {},
   "outputs": [],
   "source": [
    "df_pro_sup_t['series_id'].unique()"
   ]
  },
  {
   "cell_type": "code",
   "execution_count": null,
   "id": "6006d4c3-953b-4374-8267-95c1489e42a1",
   "metadata": {},
   "outputs": [],
   "source": [
    "# Column names\n",
    "df_pro_sup_p = df_pro_sup_p.rename(columns={'value': 'prodInThousands'})\n",
    "df_pro_sup_t = df_pro_sup_t.rename(columns={'value': 'totalInThousands'})"
   ]
  },
  {
   "cell_type": "code",
   "execution_count": null,
   "id": "d8c7e93c-7b6a-40b4-895e-f3e5b2d9f0ce",
   "metadata": {},
   "outputs": [],
   "source": [
    "df_pro_sup_p.head()"
   ]
  },
  {
   "cell_type": "code",
   "execution_count": null,
   "id": "e97f6686-ced2-4532-8789-f4ffc5645a62",
   "metadata": {},
   "outputs": [],
   "source": [
    "df_pro_sup_t.head()"
   ]
  },
  {
   "cell_type": "code",
   "execution_count": null,
   "id": "afb84a2d-535b-40de-b856-6855db2a3ae8",
   "metadata": {},
   "outputs": [],
   "source": [
    "df_pro_sup_p.tail()"
   ]
  },
  {
   "cell_type": "code",
   "execution_count": null,
   "id": "1e1fc4c9-8774-4499-a700-5b4ea59cf4f6",
   "metadata": {},
   "outputs": [],
   "source": [
    "df_pro_sup_t.tail()"
   ]
  },
  {
   "cell_type": "markdown",
   "id": "fd827906-1aa8-48f8-b227-64a385bebf1c",
   "metadata": {},
   "source": [
    "__The start date between the series differ, however it is possible to calculate the ratio from 1964__"
   ]
  },
  {
   "cell_type": "code",
   "execution_count": null,
   "id": "744bb195-e205-4b31-845d-9be09a5265a8",
   "metadata": {},
   "outputs": [],
   "source": [
    "# Merge series of government data\n",
    "df_pro_sup_merge = pd.merge(df_pro_sup_t[['date','totalInThousands']], df_pro_sup_p[['date','prodInThousands']], on='date', how='left')"
   ]
  },
  {
   "cell_type": "code",
   "execution_count": null,
   "id": "c7ec2332-0f56-4157-a491-73772da81351",
   "metadata": {},
   "outputs": [],
   "source": [
    "df_pro_sup_merge.head()"
   ]
  },
  {
   "cell_type": "code",
   "execution_count": null,
   "id": "10dbf50b-0af4-4b1c-b9f2-b78afd33f981",
   "metadata": {},
   "outputs": [],
   "source": [
    "df_pro_sup_merge.tail()"
   ]
  },
  {
   "cell_type": "code",
   "execution_count": null,
   "id": "0e15bfae-01da-4a76-b581-de3bb89a795b",
   "metadata": {},
   "outputs": [],
   "source": [
    "# Supervisory employees\n",
    "df_pro_sup_merge['supInThousands'] = df_pro_sup_merge['totalInThousands']-df_pro_sup_merge['prodInThousands']\n",
    "# Production employees / supervisory employees Ratio\n",
    "df_pro_sup_merge['prod_sup_ratio'] = round(df_pro_sup_merge['prodInThousands']/df_pro_sup_merge['supInThousands'],2)"
   ]
  },
  {
   "cell_type": "code",
   "execution_count": null,
   "id": "5c83cf7e-7146-4ece-9c57-794b6c586718",
   "metadata": {},
   "outputs": [],
   "source": [
    "df_pro_sup_merge.tail()"
   ]
  },
  {
   "cell_type": "markdown",
   "id": "7dd346c4-f574-4bb0-a9a9-d59ac1eee7fc",
   "metadata": {},
   "source": [
    "__Review date results__"
   ]
  }
 ],
 "metadata": {
  "kernelspec": {
   "display_name": "Python 3",
   "language": "python",
   "name": "python3"
  },
  "language_info": {
   "codemirror_mode": {
    "name": "ipython",
    "version": 3
   },
   "file_extension": ".py",
   "mimetype": "text/x-python",
   "name": "python",
   "nbconvert_exporter": "python",
   "pygments_lexer": "ipython3",
   "version": "3.7.16"
  }
 },
 "nbformat": 4,
 "nbformat_minor": 5
}
